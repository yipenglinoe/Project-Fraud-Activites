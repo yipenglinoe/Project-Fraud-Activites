{
  "nbformat": 4,
  "nbformat_minor": 0,
  "metadata": {
    "colab": {
      "name": "Projet Fraud Activities.ipynb",
      "version": "0.3.2",
      "provenance": [],
      "collapsed_sections": []
    },
    "kernelspec": {
      "name": "python3",
      "display_name": "Python 3"
    },
    "accelerator": "GPU"
  },
  "cells": [
    {
      "cell_type": "code",
      "metadata": {
        "id": "WtY0Vv2RUTgW",
        "colab_type": "code",
        "colab": {}
      },
      "source": [
        ""
      ],
      "execution_count": 0,
      "outputs": []
    },
    {
      "cell_type": "markdown",
      "metadata": {
        "id": "QvqhoWvjFmsn",
        "colab_type": "text"
      },
      "source": [
        "###GOAL :\n",
        "\n",
        "We have a fairly large database (lines), which contains several variables (13). Example: signup_time: \"registration time\", purchase_time: \"purchase time\" ... etc.\n",
        "\n",
        "The purpose of this project is to detect the fraudulent actions that are represented in the column of the categorical variable \"class\": fraud / not fraud.\n",
        "\n",
        "To do this, one must first make an exploratory analysis of the data, to know for example the distributions of our population by age, sex, country ...\n",
        "\n",
        "Then do a preprocessing of the data, namely, manage the missing values, transform the qualitative data to digital data through dummification and finally normalize the quantitative variables in order to have the same data distribution.\n",
        "\n",
        "The next step is to design models that must be able to identify fraudulent activities in advance in order to block them and thus reduce the rate of fraudulent activity. In this perspective, we will start with a logistic regression model, in order to predict the best possible fraud, and depending on the scores, we will try other models to find the one or those that will generalize the best.\n",
        "\n",
        "\n",
        "### Steps :\n",
        "#### 1_ Exploratory analysis\n",
        "#### 2_ Preprocessing & Feature engineering\n",
        "#### 3_  Modeling  \n",
        "\n"
      ]
    },
    {
      "cell_type": "code",
      "metadata": {
        "id": "UcWMt2AVsDqg",
        "colab_type": "code",
        "colab": {}
      },
      "source": [
        "import pandas as pd\n",
        "import numpy as np\n",
        "import seaborn as sns \n",
        "import matplotlib.pyplot as plt"
      ],
      "execution_count": 0,
      "outputs": []
    },
    {
      "cell_type": "code",
      "metadata": {
        "id": "N1FfF-VhsH5m",
        "colab_type": "code",
        "outputId": "1c56007e-09b6-4db7-b129-956bd168dbd0",
        "colab": {
          "resources": {
            "http://localhost:8080/nbextensions/google.colab/files.js": {
              "data": "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",
              "ok": true,
              "headers": [
                [
                  "content-type",
                  "application/javascript"
                ]
              ],
              "status": 200,
              "status_text": ""
            }
          },
          "base_uri": "https://localhost:8080/",
          "height": 41
        }
      },
      "source": [
        "from google.colab import files\n",
        "uploaded = files.upload()"
      ],
      "execution_count": 0,
      "outputs": [
        {
          "output_type": "display_data",
          "data": {
            "text/html": [
              "\n",
              "     <input type=\"file\" id=\"files-c7e33368-7e28-4f0c-851b-e5680db4e2b5\" name=\"files[]\" multiple disabled />\n",
              "     <output id=\"result-c7e33368-7e28-4f0c-851b-e5680db4e2b5\">\n",
              "      Upload widget is only available when the cell has been executed in the\n",
              "      current browser session. Please rerun this cell to enable.\n",
              "      </output>\n",
              "      <script src=\"/nbextensions/google.colab/files.js\"></script> "
            ],
            "text/plain": [
              "<IPython.core.display.HTML object>"
            ]
          },
          "metadata": {
            "tags": []
          }
        }
      ]
    },
    {
      "cell_type": "code",
      "metadata": {
        "id": "NUDVxtQ9sLYu",
        "colab_type": "code",
        "colab": {}
      },
      "source": [
        "df = pd.read_csv(\"df1_country.csv\") "
      ],
      "execution_count": 0,
      "outputs": []
    },
    {
      "cell_type": "code",
      "metadata": {
        "id": "-PWaDwkhsLny",
        "colab_type": "code",
        "outputId": "ebdea5aa-5913-4dd9-dbd3-97cae4b963e2",
        "colab": {
          "base_uri": "https://localhost:8080/",
          "height": 202
        }
      },
      "source": [
        "df.head()"
      ],
      "execution_count": 0,
      "outputs": [
        {
          "output_type": "execute_result",
          "data": {
            "text/html": [
              "<div>\n",
              "<style scoped>\n",
              "    .dataframe tbody tr th:only-of-type {\n",
              "        vertical-align: middle;\n",
              "    }\n",
              "\n",
              "    .dataframe tbody tr th {\n",
              "        vertical-align: top;\n",
              "    }\n",
              "\n",
              "    .dataframe thead th {\n",
              "        text-align: right;\n",
              "    }\n",
              "</style>\n",
              "<table border=\"1\" class=\"dataframe\">\n",
              "  <thead>\n",
              "    <tr style=\"text-align: right;\">\n",
              "      <th></th>\n",
              "      <th>Unnamed: 0</th>\n",
              "      <th>user_id</th>\n",
              "      <th>signup_time</th>\n",
              "      <th>purchase_time</th>\n",
              "      <th>purchase_value</th>\n",
              "      <th>device_id</th>\n",
              "      <th>source</th>\n",
              "      <th>browser</th>\n",
              "      <th>sex</th>\n",
              "      <th>age</th>\n",
              "      <th>ip_address</th>\n",
              "      <th>class</th>\n",
              "      <th>country</th>\n",
              "    </tr>\n",
              "  </thead>\n",
              "  <tbody>\n",
              "    <tr>\n",
              "      <th>0</th>\n",
              "      <td>0</td>\n",
              "      <td>22058</td>\n",
              "      <td>2015-02-24 22:55:49</td>\n",
              "      <td>2015-04-18 02:47:11</td>\n",
              "      <td>34</td>\n",
              "      <td>QVPSPJUOCKZAR</td>\n",
              "      <td>SEO</td>\n",
              "      <td>Chrome</td>\n",
              "      <td>M</td>\n",
              "      <td>39</td>\n",
              "      <td>7.327584e+08</td>\n",
              "      <td>0</td>\n",
              "      <td>Japan</td>\n",
              "    </tr>\n",
              "    <tr>\n",
              "      <th>1</th>\n",
              "      <td>1</td>\n",
              "      <td>333320</td>\n",
              "      <td>2015-06-07 20:39:50</td>\n",
              "      <td>2015-06-08 01:38:54</td>\n",
              "      <td>16</td>\n",
              "      <td>EOGFQPIZPYXFZ</td>\n",
              "      <td>Ads</td>\n",
              "      <td>Chrome</td>\n",
              "      <td>F</td>\n",
              "      <td>53</td>\n",
              "      <td>3.503114e+08</td>\n",
              "      <td>0</td>\n",
              "      <td>United States</td>\n",
              "    </tr>\n",
              "    <tr>\n",
              "      <th>2</th>\n",
              "      <td>2</td>\n",
              "      <td>1359</td>\n",
              "      <td>2015-01-01 18:52:44</td>\n",
              "      <td>2015-01-01 18:52:45</td>\n",
              "      <td>15</td>\n",
              "      <td>YSSKYOSJHPPLJ</td>\n",
              "      <td>SEO</td>\n",
              "      <td>Opera</td>\n",
              "      <td>M</td>\n",
              "      <td>53</td>\n",
              "      <td>2.621474e+09</td>\n",
              "      <td>1</td>\n",
              "      <td>United States</td>\n",
              "    </tr>\n",
              "    <tr>\n",
              "      <th>3</th>\n",
              "      <td>3</td>\n",
              "      <td>150084</td>\n",
              "      <td>2015-04-28 21:13:25</td>\n",
              "      <td>2015-05-04 13:54:50</td>\n",
              "      <td>44</td>\n",
              "      <td>ATGTXKYKUDUQN</td>\n",
              "      <td>SEO</td>\n",
              "      <td>Safari</td>\n",
              "      <td>M</td>\n",
              "      <td>41</td>\n",
              "      <td>3.840542e+09</td>\n",
              "      <td>0</td>\n",
              "      <td>Unknown</td>\n",
              "    </tr>\n",
              "    <tr>\n",
              "      <th>4</th>\n",
              "      <td>4</td>\n",
              "      <td>221365</td>\n",
              "      <td>2015-07-21 07:09:52</td>\n",
              "      <td>2015-09-09 18:40:53</td>\n",
              "      <td>39</td>\n",
              "      <td>NAUITBZFJKHWW</td>\n",
              "      <td>Ads</td>\n",
              "      <td>Safari</td>\n",
              "      <td>M</td>\n",
              "      <td>45</td>\n",
              "      <td>4.155831e+08</td>\n",
              "      <td>0</td>\n",
              "      <td>United States</td>\n",
              "    </tr>\n",
              "  </tbody>\n",
              "</table>\n",
              "</div>"
            ],
            "text/plain": [
              "   Unnamed: 0  user_id          signup_time  ...    ip_address  class        country\n",
              "0           0    22058  2015-02-24 22:55:49  ...  7.327584e+08      0          Japan\n",
              "1           1   333320  2015-06-07 20:39:50  ...  3.503114e+08      0  United States\n",
              "2           2     1359  2015-01-01 18:52:44  ...  2.621474e+09      1  United States\n",
              "3           3   150084  2015-04-28 21:13:25  ...  3.840542e+09      0        Unknown\n",
              "4           4   221365  2015-07-21 07:09:52  ...  4.155831e+08      0  United States\n",
              "\n",
              "[5 rows x 13 columns]"
            ]
          },
          "metadata": {
            "tags": []
          },
          "execution_count": 63
        }
      ]
    },
    {
      "cell_type": "code",
      "metadata": {
        "id": "p-lxtyAasLlT",
        "colab_type": "code",
        "outputId": "4b753556-2334-401c-b809-866fb695dcb8",
        "colab": {
          "base_uri": "https://localhost:8080/",
          "height": 386
        }
      },
      "source": [
        "df.describe(include='all')"
      ],
      "execution_count": 0,
      "outputs": [
        {
          "output_type": "execute_result",
          "data": {
            "text/html": [
              "<div>\n",
              "<style scoped>\n",
              "    .dataframe tbody tr th:only-of-type {\n",
              "        vertical-align: middle;\n",
              "    }\n",
              "\n",
              "    .dataframe tbody tr th {\n",
              "        vertical-align: top;\n",
              "    }\n",
              "\n",
              "    .dataframe thead th {\n",
              "        text-align: right;\n",
              "    }\n",
              "</style>\n",
              "<table border=\"1\" class=\"dataframe\">\n",
              "  <thead>\n",
              "    <tr style=\"text-align: right;\">\n",
              "      <th></th>\n",
              "      <th>Unnamed: 0</th>\n",
              "      <th>user_id</th>\n",
              "      <th>signup_time</th>\n",
              "      <th>purchase_time</th>\n",
              "      <th>purchase_value</th>\n",
              "      <th>device_id</th>\n",
              "      <th>source</th>\n",
              "      <th>browser</th>\n",
              "      <th>sex</th>\n",
              "      <th>age</th>\n",
              "      <th>ip_address</th>\n",
              "      <th>class</th>\n",
              "      <th>country</th>\n",
              "    </tr>\n",
              "  </thead>\n",
              "  <tbody>\n",
              "    <tr>\n",
              "      <th>count</th>\n",
              "      <td>151112.000000</td>\n",
              "      <td>151112.000000</td>\n",
              "      <td>151112</td>\n",
              "      <td>151112</td>\n",
              "      <td>151112.000000</td>\n",
              "      <td>151112</td>\n",
              "      <td>151112</td>\n",
              "      <td>151112</td>\n",
              "      <td>151112</td>\n",
              "      <td>151112.000000</td>\n",
              "      <td>1.511120e+05</td>\n",
              "      <td>151112.000000</td>\n",
              "      <td>151112</td>\n",
              "    </tr>\n",
              "    <tr>\n",
              "      <th>unique</th>\n",
              "      <td>NaN</td>\n",
              "      <td>NaN</td>\n",
              "      <td>151112</td>\n",
              "      <td>150679</td>\n",
              "      <td>NaN</td>\n",
              "      <td>137956</td>\n",
              "      <td>3</td>\n",
              "      <td>5</td>\n",
              "      <td>2</td>\n",
              "      <td>NaN</td>\n",
              "      <td>NaN</td>\n",
              "      <td>NaN</td>\n",
              "      <td>182</td>\n",
              "    </tr>\n",
              "    <tr>\n",
              "      <th>top</th>\n",
              "      <td>NaN</td>\n",
              "      <td>NaN</td>\n",
              "      <td>2015-01-29 07:15:59</td>\n",
              "      <td>2015-06-08 09:42:04</td>\n",
              "      <td>NaN</td>\n",
              "      <td>EQYVNEGOFLAWK</td>\n",
              "      <td>SEO</td>\n",
              "      <td>Chrome</td>\n",
              "      <td>M</td>\n",
              "      <td>NaN</td>\n",
              "      <td>NaN</td>\n",
              "      <td>NaN</td>\n",
              "      <td>United States</td>\n",
              "    </tr>\n",
              "    <tr>\n",
              "      <th>freq</th>\n",
              "      <td>NaN</td>\n",
              "      <td>NaN</td>\n",
              "      <td>1</td>\n",
              "      <td>3</td>\n",
              "      <td>NaN</td>\n",
              "      <td>20</td>\n",
              "      <td>60615</td>\n",
              "      <td>61432</td>\n",
              "      <td>88293</td>\n",
              "      <td>NaN</td>\n",
              "      <td>NaN</td>\n",
              "      <td>NaN</td>\n",
              "      <td>58049</td>\n",
              "    </tr>\n",
              "    <tr>\n",
              "      <th>mean</th>\n",
              "      <td>75555.500000</td>\n",
              "      <td>200171.040970</td>\n",
              "      <td>NaN</td>\n",
              "      <td>NaN</td>\n",
              "      <td>36.935372</td>\n",
              "      <td>NaN</td>\n",
              "      <td>NaN</td>\n",
              "      <td>NaN</td>\n",
              "      <td>NaN</td>\n",
              "      <td>33.140704</td>\n",
              "      <td>2.152145e+09</td>\n",
              "      <td>0.093646</td>\n",
              "      <td>NaN</td>\n",
              "    </tr>\n",
              "    <tr>\n",
              "      <th>std</th>\n",
              "      <td>43622.421276</td>\n",
              "      <td>115369.285024</td>\n",
              "      <td>NaN</td>\n",
              "      <td>NaN</td>\n",
              "      <td>18.322762</td>\n",
              "      <td>NaN</td>\n",
              "      <td>NaN</td>\n",
              "      <td>NaN</td>\n",
              "      <td>NaN</td>\n",
              "      <td>8.617733</td>\n",
              "      <td>1.248497e+09</td>\n",
              "      <td>0.291336</td>\n",
              "      <td>NaN</td>\n",
              "    </tr>\n",
              "    <tr>\n",
              "      <th>min</th>\n",
              "      <td>0.000000</td>\n",
              "      <td>2.000000</td>\n",
              "      <td>NaN</td>\n",
              "      <td>NaN</td>\n",
              "      <td>9.000000</td>\n",
              "      <td>NaN</td>\n",
              "      <td>NaN</td>\n",
              "      <td>NaN</td>\n",
              "      <td>NaN</td>\n",
              "      <td>18.000000</td>\n",
              "      <td>5.209350e+04</td>\n",
              "      <td>0.000000</td>\n",
              "      <td>NaN</td>\n",
              "    </tr>\n",
              "    <tr>\n",
              "      <th>25%</th>\n",
              "      <td>37777.750000</td>\n",
              "      <td>100642.500000</td>\n",
              "      <td>NaN</td>\n",
              "      <td>NaN</td>\n",
              "      <td>22.000000</td>\n",
              "      <td>NaN</td>\n",
              "      <td>NaN</td>\n",
              "      <td>NaN</td>\n",
              "      <td>NaN</td>\n",
              "      <td>27.000000</td>\n",
              "      <td>1.085934e+09</td>\n",
              "      <td>0.000000</td>\n",
              "      <td>NaN</td>\n",
              "    </tr>\n",
              "    <tr>\n",
              "      <th>50%</th>\n",
              "      <td>75555.500000</td>\n",
              "      <td>199958.000000</td>\n",
              "      <td>NaN</td>\n",
              "      <td>NaN</td>\n",
              "      <td>35.000000</td>\n",
              "      <td>NaN</td>\n",
              "      <td>NaN</td>\n",
              "      <td>NaN</td>\n",
              "      <td>NaN</td>\n",
              "      <td>33.000000</td>\n",
              "      <td>2.154770e+09</td>\n",
              "      <td>0.000000</td>\n",
              "      <td>NaN</td>\n",
              "    </tr>\n",
              "    <tr>\n",
              "      <th>75%</th>\n",
              "      <td>113333.250000</td>\n",
              "      <td>300054.000000</td>\n",
              "      <td>NaN</td>\n",
              "      <td>NaN</td>\n",
              "      <td>49.000000</td>\n",
              "      <td>NaN</td>\n",
              "      <td>NaN</td>\n",
              "      <td>NaN</td>\n",
              "      <td>NaN</td>\n",
              "      <td>39.000000</td>\n",
              "      <td>3.243258e+09</td>\n",
              "      <td>0.000000</td>\n",
              "      <td>NaN</td>\n",
              "    </tr>\n",
              "    <tr>\n",
              "      <th>max</th>\n",
              "      <td>151111.000000</td>\n",
              "      <td>400000.000000</td>\n",
              "      <td>NaN</td>\n",
              "      <td>NaN</td>\n",
              "      <td>154.000000</td>\n",
              "      <td>NaN</td>\n",
              "      <td>NaN</td>\n",
              "      <td>NaN</td>\n",
              "      <td>NaN</td>\n",
              "      <td>76.000000</td>\n",
              "      <td>4.294850e+09</td>\n",
              "      <td>1.000000</td>\n",
              "      <td>NaN</td>\n",
              "    </tr>\n",
              "  </tbody>\n",
              "</table>\n",
              "</div>"
            ],
            "text/plain": [
              "           Unnamed: 0        user_id  ...          class        country\n",
              "count   151112.000000  151112.000000  ...  151112.000000         151112\n",
              "unique            NaN            NaN  ...            NaN            182\n",
              "top               NaN            NaN  ...            NaN  United States\n",
              "freq              NaN            NaN  ...            NaN          58049\n",
              "mean     75555.500000  200171.040970  ...       0.093646            NaN\n",
              "std      43622.421276  115369.285024  ...       0.291336            NaN\n",
              "min          0.000000       2.000000  ...       0.000000            NaN\n",
              "25%      37777.750000  100642.500000  ...       0.000000            NaN\n",
              "50%      75555.500000  199958.000000  ...       0.000000            NaN\n",
              "75%     113333.250000  300054.000000  ...       0.000000            NaN\n",
              "max     151111.000000  400000.000000  ...       1.000000            NaN\n",
              "\n",
              "[11 rows x 13 columns]"
            ]
          },
          "metadata": {
            "tags": []
          },
          "execution_count": 64
        }
      ]
    },
    {
      "cell_type": "code",
      "metadata": {
        "id": "DIh6w80UsLiS",
        "colab_type": "code",
        "outputId": "1bf243a7-20ba-43f8-b884-94cc4fc070a9",
        "colab": {
          "base_uri": "https://localhost:8080/",
          "height": 329
        }
      },
      "source": [
        "df.info()"
      ],
      "execution_count": 0,
      "outputs": [
        {
          "output_type": "stream",
          "text": [
            "<class 'pandas.core.frame.DataFrame'>\n",
            "RangeIndex: 151112 entries, 0 to 151111\n",
            "Data columns (total 13 columns):\n",
            "Unnamed: 0        151112 non-null int64\n",
            "user_id           151112 non-null int64\n",
            "signup_time       151112 non-null object\n",
            "purchase_time     151112 non-null object\n",
            "purchase_value    151112 non-null int64\n",
            "device_id         151112 non-null object\n",
            "source            151112 non-null object\n",
            "browser           151112 non-null object\n",
            "sex               151112 non-null object\n",
            "age               151112 non-null int64\n",
            "ip_address        151112 non-null float64\n",
            "class             151112 non-null int64\n",
            "country           151112 non-null object\n",
            "dtypes: float64(1), int64(5), object(7)\n",
            "memory usage: 15.0+ MB\n"
          ],
          "name": "stdout"
        }
      ]
    },
    {
      "cell_type": "markdown",
      "metadata": {
        "id": "I-v7sFpVsT8t",
        "colab_type": "text"
      },
      "source": [
        "###1_ Exploratory analysis"
      ]
    },
    {
      "cell_type": "markdown",
      "metadata": {
        "id": "rKfn6iZY7Nns",
        "colab_type": "text"
      },
      "source": [
        "It is interesting first to look at the class distribution"
      ]
    },
    {
      "cell_type": "code",
      "metadata": {
        "id": "OTOLB3At6bDH",
        "colab_type": "code",
        "outputId": "34248e59-1e33-4882-8f18-2b5c216481e4",
        "colab": {
          "base_uri": "https://localhost:8080/",
          "height": 309
        }
      },
      "source": [
        "sns.countplot('class', data=df)"
      ],
      "execution_count": 0,
      "outputs": [
        {
          "output_type": "execute_result",
          "data": {
            "text/plain": [
              "<matplotlib.axes._subplots.AxesSubplot at 0x7fc813f49828>"
            ]
          },
          "metadata": {
            "tags": []
          },
          "execution_count": 66
        },
        {
          "output_type": "display_data",
          "data": {
            "image/png": "[encoded data removed]",
            "text/plain": [
              "<Figure size 432x288 with 1 Axes>"
            ]
          },
          "metadata": {
            "tags": []
          }
        }
      ]
    },
    {
      "cell_type": "markdown",
      "metadata": {
        "id": "w0eJMvNF8Ylt",
        "colab_type": "text"
      },
      "source": [
        "==> The dataset is particularly unbalanced. It is composed as follows: (0: 90% & 1: 10%)"
      ]
    },
    {
      "cell_type": "code",
      "metadata": {
        "id": "6m3L9hHpMYjw",
        "colab_type": "code",
        "outputId": "01606219-3ea3-412f-9634-c96cac6ad2e6",
        "colab": {
          "base_uri": "https://localhost:8080/",
          "height": 383
        }
      },
      "source": [
        "sns.catplot(x=\"class\", hue=\"sex\", kind=\"count\", data=df)"
      ],
      "execution_count": 0,
      "outputs": [
        {
          "output_type": "execute_result",
          "data": {
            "text/plain": [
              "<seaborn.axisgrid.FacetGrid at 0x7fc81a324198>"
            ]
          },
          "metadata": {
            "tags": []
          },
          "execution_count": 67
        },
        {
          "output_type": "display_data",
          "data": {
            "image/png": "[encoded data removed]",
            "text/plain": [
              "<Figure size 409.1x360 with 1 Axes>"
            ]
          },
          "metadata": {
            "tags": []
          }
        }
      ]
    },
    {
      "cell_type": "markdown",
      "metadata": {
        "id": "H5SQ92-IH3XM",
        "colab_type": "text"
      },
      "source": [
        "The difference between the values (0 & 1) can not tell us much. This difference is due to the imbalance as we have seen above"
      ]
    },
    {
      "cell_type": "code",
      "metadata": {
        "id": "6UaeIrQyscyO",
        "colab_type": "code",
        "outputId": "2a094f24-5436-4dca-b17b-9c0840c47476",
        "colab": {
          "base_uri": "https://localhost:8080/",
          "height": 309
        }
      },
      "source": [
        "sns.set(style=\"whitegrid\")\n",
        "sns.distplot(df.age, bins=10)"
      ],
      "execution_count": 0,
      "outputs": [
        {
          "output_type": "execute_result",
          "data": {
            "text/plain": [
              "<matplotlib.axes._subplots.AxesSubplot at 0x7fc813f0ffd0>"
            ]
          },
          "metadata": {
            "tags": []
          },
          "execution_count": 68
        },
        {
          "output_type": "display_data",
          "data": {
            "image/png": "[encoded data removed]",
            "text/plain": [
              "<Figure size 432x288 with 1 Axes>"
            ]
          },
          "metadata": {
            "tags": []
          }
        }
      ]
    },
    {
      "cell_type": "code",
      "metadata": {
        "id": "efMrW4LqsgOU",
        "colab_type": "code",
        "outputId": "a1bf7b07-91da-4302-be28-69c73f2e4727",
        "colab": {
          "base_uri": "https://localhost:8080/",
          "height": 309
        }
      },
      "source": [
        "sns.barplot(x='sex', y=\"age\", data = df)"
      ],
      "execution_count": 0,
      "outputs": [
        {
          "output_type": "execute_result",
          "data": {
            "text/plain": [
              "<matplotlib.axes._subplots.AxesSubplot at 0x7fc813e82080>"
            ]
          },
          "metadata": {
            "tags": []
          },
          "execution_count": 69
        },
        {
          "output_type": "display_data",
          "data": {
            "image/png": "[encoded data removed]",
            "text/plain": [
              "<Figure size 432x288 with 1 Axes>"
            ]
          },
          "metadata": {
            "tags": []
          }
        }
      ]
    },
    {
      "cell_type": "markdown",
      "metadata": {
        "id": "Uag_tQRpItYB",
        "colab_type": "text"
      },
      "source": [
        " ==> The distribution of sex is almost the same in the dataset. There are as many women as there are men."
      ]
    },
    {
      "cell_type": "code",
      "metadata": {
        "id": "NmNIiW4lserA",
        "colab_type": "code",
        "outputId": "708b2a1c-6e6c-491d-bc10-efde7faf8b99",
        "colab": {
          "base_uri": "https://localhost:8080/",
          "height": 383
        }
      },
      "source": [
        "sns.catplot(x= 'browser', kind='count', data=df)"
      ],
      "execution_count": 0,
      "outputs": [
        {
          "output_type": "execute_result",
          "data": {
            "text/plain": [
              "<seaborn.axisgrid.FacetGrid at 0x7fc817d35320>"
            ]
          },
          "metadata": {
            "tags": []
          },
          "execution_count": 70
        },
        {
          "output_type": "display_data",
          "data": {
            "image/png": "[encoded data removed]",
            "text/plain": [
              "<Figure size 360x360 with 1 Axes>"
            ]
          },
          "metadata": {
            "tags": []
          }
        }
      ]
    },
    {
      "cell_type": "markdown",
      "metadata": {
        "id": "R9csxZL8BNv4",
        "colab_type": "text"
      },
      "source": [
        "###We try to look at the distribution according to the classes, and according to the web browsers.\n",
        "###Indeed it could have been possible that according to the web browser fraud is easier"
      ]
    },
    {
      "cell_type": "code",
      "metadata": {
        "id": "2puYsUvCBw7Q",
        "colab_type": "code",
        "outputId": "ef0b8d8c-5376-40f5-a505-43ff304cee39",
        "colab": {
          "base_uri": "https://localhost:8080/",
          "height": 526
        }
      },
      "source": [
        "fig, ax = plt.subplots(1,2,figsize=(15,8))\n",
        "\n",
        "sns.countplot('source', hue='class', data=df, ax=ax[0])\n",
        "sns.countplot('browser', hue='class', data=df, ax=ax[1])"
      ],
      "execution_count": 0,
      "outputs": [
        {
          "output_type": "execute_result",
          "data": {
            "text/plain": [
              "<matplotlib.axes._subplots.AxesSubplot at 0x7fc819e66860>"
            ]
          },
          "metadata": {
            "tags": []
          },
          "execution_count": 12
        },
        {
          "output_type": "display_data",
          "data": {
            "image/png": "[encoded data removed]",
            "text/plain": [
              "<Figure size 1080x576 with 2 Axes>"
            ]
          },
          "metadata": {
            "tags": []
          }
        }
      ]
    },
    {
      "cell_type": "code",
      "metadata": {
        "id": "i7FIYzzikqax",
        "colab_type": "code",
        "outputId": "226d96a7-09a2-40e7-d091-ecdd7cd698b2",
        "colab": {
          "base_uri": "https://localhost:8080/",
          "height": 455
        }
      },
      "source": [
        "sns.set(style=\"whitegrid\")\n",
        "g = sns.FacetGrid(df, row=\"sex\", col=\"browser\", margin_titles=True)\n",
        "bins = np.linspace(0, 60, 13)\n",
        "g.map(plt.hist, \"age\", color=\"steelblue\", bins=bins)"
      ],
      "execution_count": 0,
      "outputs": [
        {
          "output_type": "execute_result",
          "data": {
            "text/plain": [
              "<seaborn.axisgrid.FacetGrid at 0x7fc81a210ef0>"
            ]
          },
          "metadata": {
            "tags": []
          },
          "execution_count": 13
        },
        {
          "output_type": "display_data",
          "data": {
            "image/png": "[encoded data removed]",
            "text/plain": [
              "<Figure size 1080x432 with 10 Axes>"
            ]
          },
          "metadata": {
            "tags": []
          }
        }
      ]
    },
    {
      "cell_type": "markdown",
      "metadata": {
        "id": "_5s7IqhoKZt1",
        "colab_type": "text"
      },
      "source": [
        "==>The distribution of ages remains almost the same on all browsers, it suggests that there are no browser preferences according to age, it is rather the performance of this tool that matter"
      ]
    },
    {
      "cell_type": "code",
      "metadata": {
        "id": "P2iL0EG1q8AZ",
        "colab_type": "code",
        "outputId": "c35d23a1-3e60-4aba-8152-96157450bd71",
        "colab": {
          "base_uri": "https://localhost:8080/",
          "height": 455
        }
      },
      "source": [
        "g = sns.FacetGrid(df, row=\"sex\", col=\"class\", margin_titles=True)\n",
        "bins = np.linspace(0, 60, 13)\n",
        "g.map(plt.hist, \"age\", color=\"steelblue\", bins=bins)"
      ],
      "execution_count": 0,
      "outputs": [
        {
          "output_type": "execute_result",
          "data": {
            "text/plain": [
              "<seaborn.axisgrid.FacetGrid at 0x7fc81a2f19b0>"
            ]
          },
          "metadata": {
            "tags": []
          },
          "execution_count": 14
        },
        {
          "output_type": "display_data",
          "data": {
            "image/png": "[encoded data removed]",
            "text/plain": [
              "<Figure size 432x432 with 4 Axes>"
            ]
          },
          "metadata": {
            "tags": []
          }
        }
      ]
    },
    {
      "cell_type": "markdown",
      "metadata": {
        "id": "L6k__9xpLGNs",
        "colab_type": "text"
      },
      "source": [
        "==> The graph shows us that there is no specific age range for fraudsters, they can be of all ages."
      ]
    },
    {
      "cell_type": "code",
      "metadata": {
        "id": "0CEDgtQ3sLfQ",
        "colab_type": "code",
        "outputId": "31ec602e-97f1-4c49-cd3e-1726d5b53f01",
        "colab": {
          "base_uri": "https://localhost:8080/",
          "height": 363
        }
      },
      "source": [
        "plt.subplots(sharey=True, figsize=(20, 5)) \n",
        "sns.pointplot(x=\"age\", y=\"class\", hue=\"sex\", size=\"coherence\", style=\"class\", legend=\"full\",data=df)"
      ],
      "execution_count": 0,
      "outputs": [
        {
          "output_type": "execute_result",
          "data": {
            "text/plain": [
              "<matplotlib.axes._subplots.AxesSubplot at 0x7fc819ba50f0>"
            ]
          },
          "metadata": {
            "tags": []
          },
          "execution_count": 15
        },
        {
          "output_type": "display_data",
          "data": {
            "image/png": "[encoded data removed]",
            "text/plain": [
              "<Figure size 1440x360 with 1 Axes>"
            ]
          },
          "metadata": {
            "tags": []
          }
        }
      ]
    },
    {
      "cell_type": "markdown",
      "metadata": {
        "id": "Nr0VFfSwqB4L",
        "colab_type": "text"
      },
      "source": [
        "### 2_  Preprocessing & Feature engineering"
      ]
    },
    {
      "cell_type": "code",
      "metadata": {
        "id": "OU2saweExLxQ",
        "colab_type": "code",
        "outputId": "45ba1d3e-e75b-4ffc-ac05-8186959fff9c",
        "colab": {
          "base_uri": "https://localhost:8080/",
          "height": 141
        }
      },
      "source": [
        "a = df.groupby(df[\"class\"]).reset_index()\n",
        "a.mean()\n",
        "\n"
      ],
      "execution_count": 0,
      "outputs": [
        {
          "output_type": "execute_result",
          "data": {
            "text/html": [
              "<div>\n",
              "<style scoped>\n",
              "    .dataframe tbody tr th:only-of-type {\n",
              "        vertical-align: middle;\n",
              "    }\n",
              "\n",
              "    .dataframe tbody tr th {\n",
              "        vertical-align: top;\n",
              "    }\n",
              "\n",
              "    .dataframe thead th {\n",
              "        text-align: right;\n",
              "    }\n",
              "</style>\n",
              "<table border=\"1\" class=\"dataframe\">\n",
              "  <thead>\n",
              "    <tr style=\"text-align: right;\">\n",
              "      <th></th>\n",
              "      <th>Unnamed: 0</th>\n",
              "      <th>user_id</th>\n",
              "      <th>purchase_value</th>\n",
              "      <th>age</th>\n",
              "      <th>ip_address</th>\n",
              "    </tr>\n",
              "    <tr>\n",
              "      <th>class</th>\n",
              "      <th></th>\n",
              "      <th></th>\n",
              "      <th></th>\n",
              "      <th></th>\n",
              "      <th></th>\n",
              "    </tr>\n",
              "  </thead>\n",
              "  <tbody>\n",
              "    <tr>\n",
              "      <th>0</th>\n",
              "      <td>75542.389052</td>\n",
              "      <td>200098.920123</td>\n",
              "      <td>36.929418</td>\n",
              "      <td>33.122356</td>\n",
              "      <td>2.154235e+09</td>\n",
              "    </tr>\n",
              "    <tr>\n",
              "      <th>1</th>\n",
              "      <td>75682.394813</td>\n",
              "      <td>200869.065366</td>\n",
              "      <td>36.993004</td>\n",
              "      <td>33.318281</td>\n",
              "      <td>2.131918e+09</td>\n",
              "    </tr>\n",
              "  </tbody>\n",
              "</table>\n",
              "</div>"
            ],
            "text/plain": [
              "         Unnamed: 0        user_id  purchase_value        age    ip_address\n",
              "class                                                                      \n",
              "0      75542.389052  200098.920123       36.929418  33.122356  2.154235e+09\n",
              "1      75682.394813  200869.065366       36.993004  33.318281  2.131918e+09"
            ]
          },
          "metadata": {
            "tags": []
          },
          "execution_count": 18
        }
      ]
    },
    {
      "cell_type": "code",
      "metadata": {
        "id": "8zljkV-Cu5eb",
        "colab_type": "code",
        "outputId": "0938cd99-0b3a-4f69-9a20-d7c8500930f9",
        "colab": {
          "base_uri": "https://localhost:8080/",
          "height": 121
        }
      },
      "source": [
        "df.groupby([pd.Grouper(\"sex\"), 'class'])[\"age\"].mean() "
      ],
      "execution_count": 0,
      "outputs": [
        {
          "output_type": "execute_result",
          "data": {
            "text/plain": [
              "sex  class\n",
              "M    0        33.142914\n",
              "     1        33.431231\n",
              "F    0        33.093604\n",
              "     1        33.151653\n",
              "Name: age, dtype: float64"
            ]
          },
          "metadata": {
            "tags": []
          },
          "execution_count": 19
        }
      ]
    },
    {
      "cell_type": "markdown",
      "metadata": {
        "id": "XnFpbfZRSxob",
        "colab_type": "text"
      },
      "source": [
        "==>\n",
        "- The average age for fraudsters and non-fraudsters is almost equal: 33 years\n",
        "- The purchase values are almost equal for fraudsters and non-fraudsters. In the neighborhood of: 200098.00 to 200869.00"
      ]
    },
    {
      "cell_type": "code",
      "metadata": {
        "id": "-HdqjACAzY4k",
        "colab_type": "code",
        "outputId": "f2d10846-ad03-4bee-9c29-a1aec4e45bdb",
        "colab": {
          "base_uri": "https://localhost:8080/",
          "height": 171
        }
      },
      "source": [
        "df.groupby(['sex', 'class']).size().reset_index()  "
      ],
      "execution_count": 0,
      "outputs": [
        {
          "output_type": "execute_result",
          "data": {
            "text/html": [
              "<div>\n",
              "<style scoped>\n",
              "    .dataframe tbody tr th:only-of-type {\n",
              "        vertical-align: middle;\n",
              "    }\n",
              "\n",
              "    .dataframe tbody tr th {\n",
              "        vertical-align: top;\n",
              "    }\n",
              "\n",
              "    .dataframe thead th {\n",
              "        text-align: right;\n",
              "    }\n",
              "</style>\n",
              "<table border=\"1\" class=\"dataframe\">\n",
              "  <thead>\n",
              "    <tr style=\"text-align: right;\">\n",
              "      <th></th>\n",
              "      <th>sex</th>\n",
              "      <th>class</th>\n",
              "      <th>0</th>\n",
              "    </tr>\n",
              "  </thead>\n",
              "  <tbody>\n",
              "    <tr>\n",
              "      <th>0</th>\n",
              "      <td>F</td>\n",
              "      <td>0</td>\n",
              "      <td>57102</td>\n",
              "    </tr>\n",
              "    <tr>\n",
              "      <th>1</th>\n",
              "      <td>F</td>\n",
              "      <td>1</td>\n",
              "      <td>5717</td>\n",
              "    </tr>\n",
              "    <tr>\n",
              "      <th>2</th>\n",
              "      <td>M</td>\n",
              "      <td>0</td>\n",
              "      <td>79859</td>\n",
              "    </tr>\n",
              "    <tr>\n",
              "      <th>3</th>\n",
              "      <td>M</td>\n",
              "      <td>1</td>\n",
              "      <td>8434</td>\n",
              "    </tr>\n",
              "  </tbody>\n",
              "</table>\n",
              "</div>"
            ],
            "text/plain": [
              "  sex  class      0\n",
              "0   F      0  57102\n",
              "1   F      1   5717\n",
              "2   M      0  79859\n",
              "3   M      1   8434"
            ]
          },
          "metadata": {
            "tags": []
          },
          "execution_count": 20
        }
      ]
    },
    {
      "cell_type": "markdown",
      "metadata": {
        "id": "GxFFS0uT-Fwx",
        "colab_type": "text"
      },
      "source": [
        "###We are going to rank the countries according to their fraud ratio (obviously we did not look at the countries with small occurrences, we first rank the countries with respect to their importance in dataset, then we look at the ratios"
      ]
    },
    {
      "cell_type": "code",
      "metadata": {
        "id": "7YN8bV9gDTeh",
        "colab_type": "code",
        "outputId": "6671c8d9-36a0-42c5-9257-92ae14ca362c",
        "colab": {
          "base_uri": "https://localhost:8080/",
          "height": 121
        }
      },
      "source": [
        "df['country']=df.country.apply(lambda x : str(x)) \n",
        "df.country.head()"
      ],
      "execution_count": 0,
      "outputs": [
        {
          "output_type": "execute_result",
          "data": {
            "text/plain": [
              "0            Japan\n",
              "1    United States\n",
              "2    United States\n",
              "3          Unknown\n",
              "4    United States\n",
              "Name: country, dtype: object"
            ]
          },
          "metadata": {
            "tags": []
          },
          "execution_count": 76
        }
      ]
    },
    {
      "cell_type": "code",
      "metadata": {
        "id": "qr7h-Lr4DWt-",
        "colab_type": "code",
        "outputId": "c142fd11-cf4f-475c-9f89-f3381b407181",
        "colab": {
          "base_uri": "https://localhost:8080/",
          "height": 355
        }
      },
      "source": [
        "fraude_rate_country = ((df[df['class']==1].groupby('country')['user_id'].count()/df.groupby('country')['user_id'].count()).sort_values( ascending=False)).reset_index()                            \n",
        "fraude_rate_country = pd.DataFrame(fraude_rate_country)\n",
        "fraude_rate_country.head(10)                                                                                                                                                    "
      ],
      "execution_count": 0,
      "outputs": [
        {
          "output_type": "execute_result",
          "data": {
            "text/html": [
              "<div>\n",
              "<style scoped>\n",
              "    .dataframe tbody tr th:only-of-type {\n",
              "        vertical-align: middle;\n",
              "    }\n",
              "\n",
              "    .dataframe tbody tr th {\n",
              "        vertical-align: top;\n",
              "    }\n",
              "\n",
              "    .dataframe thead th {\n",
              "        text-align: right;\n",
              "    }\n",
              "</style>\n",
              "<table border=\"1\" class=\"dataframe\">\n",
              "  <thead>\n",
              "    <tr style=\"text-align: right;\">\n",
              "      <th></th>\n",
              "      <th>country</th>\n",
              "      <th>user_id</th>\n",
              "    </tr>\n",
              "  </thead>\n",
              "  <tbody>\n",
              "    <tr>\n",
              "      <th>0</th>\n",
              "      <td>Turkmenistan</td>\n",
              "      <td>1.000000</td>\n",
              "    </tr>\n",
              "    <tr>\n",
              "      <th>1</th>\n",
              "      <td>Namibia</td>\n",
              "      <td>0.434783</td>\n",
              "    </tr>\n",
              "    <tr>\n",
              "      <th>2</th>\n",
              "      <td>Sri Lanka</td>\n",
              "      <td>0.419355</td>\n",
              "    </tr>\n",
              "    <tr>\n",
              "      <th>3</th>\n",
              "      <td>Luxembourg</td>\n",
              "      <td>0.388889</td>\n",
              "    </tr>\n",
              "    <tr>\n",
              "      <th>4</th>\n",
              "      <td>Virgin Islands (U.S.)</td>\n",
              "      <td>0.333333</td>\n",
              "    </tr>\n",
              "    <tr>\n",
              "      <th>5</th>\n",
              "      <td>Ecuador</td>\n",
              "      <td>0.264151</td>\n",
              "    </tr>\n",
              "    <tr>\n",
              "      <th>6</th>\n",
              "      <td>Tunisia</td>\n",
              "      <td>0.262712</td>\n",
              "    </tr>\n",
              "    <tr>\n",
              "      <th>7</th>\n",
              "      <td>Peru</td>\n",
              "      <td>0.260504</td>\n",
              "    </tr>\n",
              "    <tr>\n",
              "      <th>8</th>\n",
              "      <td>Bolivia</td>\n",
              "      <td>0.245283</td>\n",
              "    </tr>\n",
              "    <tr>\n",
              "      <th>9</th>\n",
              "      <td>Kuwait</td>\n",
              "      <td>0.233333</td>\n",
              "    </tr>\n",
              "  </tbody>\n",
              "</table>\n",
              "</div>"
            ],
            "text/plain": [
              "                 country   user_id\n",
              "0           Turkmenistan  1.000000\n",
              "1                Namibia  0.434783\n",
              "2              Sri Lanka  0.419355\n",
              "3             Luxembourg  0.388889\n",
              "4  Virgin Islands (U.S.)  0.333333\n",
              "5                Ecuador  0.264151\n",
              "6                Tunisia  0.262712\n",
              "7                   Peru  0.260504\n",
              "8                Bolivia  0.245283\n",
              "9                 Kuwait  0.233333"
            ]
          },
          "metadata": {
            "tags": []
          },
          "execution_count": 86
        }
      ]
    },
    {
      "cell_type": "code",
      "metadata": {
        "id": "ylUFKBzEybXG",
        "colab_type": "code",
        "outputId": "89131377-7f8e-43cf-db01-8fa2cb22395d",
        "colab": {
          "base_uri": "https://localhost:8080/",
          "height": 662
        }
      },
      "source": [
        "fraude_rate_country.drop(columns=['user_id'],inplace=True)\n",
        "fraude_rate_country.head(20)"
      ],
      "execution_count": 0,
      "outputs": [
        {
          "output_type": "execute_result",
          "data": {
            "text/html": [
              "<div>\n",
              "<style scoped>\n",
              "    .dataframe tbody tr th:only-of-type {\n",
              "        vertical-align: middle;\n",
              "    }\n",
              "\n",
              "    .dataframe tbody tr th {\n",
              "        vertical-align: top;\n",
              "    }\n",
              "\n",
              "    .dataframe thead th {\n",
              "        text-align: right;\n",
              "    }\n",
              "</style>\n",
              "<table border=\"1\" class=\"dataframe\">\n",
              "  <thead>\n",
              "    <tr style=\"text-align: right;\">\n",
              "      <th></th>\n",
              "      <th>country</th>\n",
              "    </tr>\n",
              "  </thead>\n",
              "  <tbody>\n",
              "    <tr>\n",
              "      <th>0</th>\n",
              "      <td>Turkmenistan</td>\n",
              "    </tr>\n",
              "    <tr>\n",
              "      <th>1</th>\n",
              "      <td>Namibia</td>\n",
              "    </tr>\n",
              "    <tr>\n",
              "      <th>2</th>\n",
              "      <td>Sri Lanka</td>\n",
              "    </tr>\n",
              "    <tr>\n",
              "      <th>3</th>\n",
              "      <td>Luxembourg</td>\n",
              "    </tr>\n",
              "    <tr>\n",
              "      <th>4</th>\n",
              "      <td>Virgin Islands (U.S.)</td>\n",
              "    </tr>\n",
              "    <tr>\n",
              "      <th>5</th>\n",
              "      <td>Ecuador</td>\n",
              "    </tr>\n",
              "    <tr>\n",
              "      <th>6</th>\n",
              "      <td>Tunisia</td>\n",
              "    </tr>\n",
              "    <tr>\n",
              "      <th>7</th>\n",
              "      <td>Peru</td>\n",
              "    </tr>\n",
              "    <tr>\n",
              "      <th>8</th>\n",
              "      <td>Bolivia</td>\n",
              "    </tr>\n",
              "    <tr>\n",
              "      <th>9</th>\n",
              "      <td>Kuwait</td>\n",
              "    </tr>\n",
              "    <tr>\n",
              "      <th>10</th>\n",
              "      <td>Ireland</td>\n",
              "    </tr>\n",
              "    <tr>\n",
              "      <th>11</th>\n",
              "      <td>New Zealand</td>\n",
              "    </tr>\n",
              "    <tr>\n",
              "      <th>12</th>\n",
              "      <td>Uzbekistan</td>\n",
              "    </tr>\n",
              "    <tr>\n",
              "      <th>13</th>\n",
              "      <td>Lithuania</td>\n",
              "    </tr>\n",
              "    <tr>\n",
              "      <th>14</th>\n",
              "      <td>Saudi Arabia</td>\n",
              "    </tr>\n",
              "    <tr>\n",
              "      <th>15</th>\n",
              "      <td>Malta</td>\n",
              "    </tr>\n",
              "    <tr>\n",
              "      <th>16</th>\n",
              "      <td>Cote D'ivoire</td>\n",
              "    </tr>\n",
              "    <tr>\n",
              "      <th>17</th>\n",
              "      <td>Afghanistan</td>\n",
              "    </tr>\n",
              "    <tr>\n",
              "      <th>18</th>\n",
              "      <td>Denmark</td>\n",
              "    </tr>\n",
              "    <tr>\n",
              "      <th>19</th>\n",
              "      <td>Chile</td>\n",
              "    </tr>\n",
              "  </tbody>\n",
              "</table>\n",
              "</div>"
            ],
            "text/plain": [
              "                  country\n",
              "0            Turkmenistan\n",
              "1                 Namibia\n",
              "2               Sri Lanka\n",
              "3              Luxembourg\n",
              "4   Virgin Islands (U.S.)\n",
              "5                 Ecuador\n",
              "6                 Tunisia\n",
              "7                    Peru\n",
              "8                 Bolivia\n",
              "9                  Kuwait\n",
              "10                Ireland\n",
              "11            New Zealand\n",
              "12             Uzbekistan\n",
              "13              Lithuania\n",
              "14           Saudi Arabia\n",
              "15                  Malta\n",
              "16          Cote D'ivoire\n",
              "17            Afghanistan\n",
              "18                Denmark\n",
              "19                  Chile"
            ]
          },
          "metadata": {
            "tags": []
          },
          "execution_count": 87
        }
      ]
    },
    {
      "cell_type": "markdown",
      "metadata": {
        "id": "xn5_UQ81Orkg",
        "colab_type": "text"
      },
      "source": [
        "==> Above we have the ranking of fraudulent countries. But this is not solid, because we do not have the same weight for each country in the dataset.\n"
      ]
    },
    {
      "cell_type": "code",
      "metadata": {
        "id": "yHcee1EfWoEH",
        "colab_type": "code",
        "outputId": "0860b4b6-57da-4e78-f204-9a25df541864",
        "colab": {
          "base_uri": "https://localhost:8080/",
          "height": 121
        }
      },
      "source": [
        "df[\"country\"].head()"
      ],
      "execution_count": 0,
      "outputs": [
        {
          "output_type": "execute_result",
          "data": {
            "text/plain": [
              "0            Japan\n",
              "1    United States\n",
              "2    United States\n",
              "3          Unknown\n",
              "4    United States\n",
              "Name: country, dtype: object"
            ]
          },
          "metadata": {
            "tags": []
          },
          "execution_count": 88
        }
      ]
    },
    {
      "cell_type": "code",
      "metadata": {
        "id": "T3qVVedPsoXw",
        "colab_type": "code",
        "outputId": "aa373b80-51a5-460d-d100-2a037351ac2c",
        "colab": {
          "base_uri": "https://localhost:8080/",
          "height": 121
        }
      },
      "source": [
        "pays  = df[\"country\"].value_counts()/len(df.country)*100\n",
        "pays.head()\n",
        "\n"
      ],
      "execution_count": 0,
      "outputs": [
        {
          "output_type": "execute_result",
          "data": {
            "text/plain": [
              "United States     38.414553\n",
              "Unknown           14.536238\n",
              "China              7.966277\n",
              "Japan              4.834825\n",
              "United Kingdom     2.971306\n",
              "Name: country, dtype: float64"
            ]
          },
          "metadata": {
            "tags": []
          },
          "execution_count": 89
        }
      ]
    },
    {
      "cell_type": "code",
      "metadata": {
        "id": "2fqHsCVjZgGC",
        "colab_type": "code",
        "outputId": "d0c2ea4c-b39f-4d75-ace8-c79fc700eb17",
        "colab": {
          "base_uri": "https://localhost:8080/",
          "height": 202
        }
      },
      "source": [
        "country_fraude = (df[df[\"class\"]==1].groupby([\"country\"])[\"class\"].sum()).reset_index()\n",
        "country_fraude = country_fraude.sort_values(by='class', ascending=False)\n",
        "country_fraude.head() "
      ],
      "execution_count": 0,
      "outputs": [
        {
          "output_type": "execute_result",
          "data": {
            "text/html": [
              "<div>\n",
              "<style scoped>\n",
              "    .dataframe tbody tr th:only-of-type {\n",
              "        vertical-align: middle;\n",
              "    }\n",
              "\n",
              "    .dataframe tbody tr th {\n",
              "        vertical-align: top;\n",
              "    }\n",
              "\n",
              "    .dataframe thead th {\n",
              "        text-align: right;\n",
              "    }\n",
              "</style>\n",
              "<table border=\"1\" class=\"dataframe\">\n",
              "  <thead>\n",
              "    <tr style=\"text-align: right;\">\n",
              "      <th></th>\n",
              "      <th>country</th>\n",
              "      <th>class</th>\n",
              "    </tr>\n",
              "  </thead>\n",
              "  <tbody>\n",
              "    <tr>\n",
              "      <th>103</th>\n",
              "      <td>United States</td>\n",
              "      <td>5551</td>\n",
              "    </tr>\n",
              "    <tr>\n",
              "      <th>104</th>\n",
              "      <td>Unknown</td>\n",
              "      <td>1883</td>\n",
              "    </tr>\n",
              "    <tr>\n",
              "      <th>17</th>\n",
              "      <td>China</td>\n",
              "      <td>1043</td>\n",
              "    </tr>\n",
              "    <tr>\n",
              "      <th>47</th>\n",
              "      <td>Japan</td>\n",
              "      <td>715</td>\n",
              "    </tr>\n",
              "    <tr>\n",
              "      <th>102</th>\n",
              "      <td>United Kingdom</td>\n",
              "      <td>477</td>\n",
              "    </tr>\n",
              "  </tbody>\n",
              "</table>\n",
              "</div>"
            ],
            "text/plain": [
              "            country  class\n",
              "103   United States   5551\n",
              "104         Unknown   1883\n",
              "17            China   1043\n",
              "47            Japan    715\n",
              "102  United Kingdom    477"
            ]
          },
          "metadata": {
            "tags": []
          },
          "execution_count": 90
        }
      ]
    },
    {
      "cell_type": "code",
      "metadata": {
        "id": "Ic9Q2ZXZ0f8A",
        "colab_type": "code",
        "outputId": "441f0ae4-1799-48f6-c8b1-2a086f38cb79",
        "colab": {
          "base_uri": "https://localhost:8080/",
          "height": 35
        }
      },
      "source": [
        "df[\"class\"].sum()\n"
      ],
      "execution_count": 0,
      "outputs": [
        {
          "output_type": "execute_result",
          "data": {
            "text/plain": [
              "14151"
            ]
          },
          "metadata": {
            "tags": []
          },
          "execution_count": 91
        }
      ]
    },
    {
      "cell_type": "code",
      "metadata": {
        "id": "sNNKW5jLuSlq",
        "colab_type": "code",
        "outputId": "66eef4a6-7387-4c7b-fa17-aee8c321ee13",
        "colab": {
          "base_uri": "https://localhost:8080/",
          "height": 121
        }
      },
      "source": [
        "country_fraude_rate = country_fraude[\"class\"]/(df[\"class\"].sum())\n",
        "country_fraude_rate.head()"
      ],
      "execution_count": 0,
      "outputs": [
        {
          "output_type": "execute_result",
          "data": {
            "text/plain": [
              "103    0.392269\n",
              "104    0.133065\n",
              "17     0.073705\n",
              "47     0.050526\n",
              "102    0.033708\n",
              "Name: class, dtype: float64"
            ]
          },
          "metadata": {
            "tags": []
          },
          "execution_count": 92
        }
      ]
    },
    {
      "cell_type": "code",
      "metadata": {
        "id": "LkDEIdjiAIBp",
        "colab_type": "code",
        "outputId": "727e33d1-33d9-4bf3-9411-6cda22624ce1",
        "colab": {
          "base_uri": "https://localhost:8080/",
          "height": 355
        }
      },
      "source": [
        "dev = pd.DataFrame(df.groupby('device_id')['user_id'].count())\n",
        "dev = dev.sort_values(by=\"user_id\", ascending=False).reset_index()\n",
        "dev.head(10)"
      ],
      "execution_count": 0,
      "outputs": [
        {
          "output_type": "execute_result",
          "data": {
            "text/html": [
              "<div>\n",
              "<style scoped>\n",
              "    .dataframe tbody tr th:only-of-type {\n",
              "        vertical-align: middle;\n",
              "    }\n",
              "\n",
              "    .dataframe tbody tr th {\n",
              "        vertical-align: top;\n",
              "    }\n",
              "\n",
              "    .dataframe thead th {\n",
              "        text-align: right;\n",
              "    }\n",
              "</style>\n",
              "<table border=\"1\" class=\"dataframe\">\n",
              "  <thead>\n",
              "    <tr style=\"text-align: right;\">\n",
              "      <th></th>\n",
              "      <th>device_id</th>\n",
              "      <th>user_id</th>\n",
              "    </tr>\n",
              "  </thead>\n",
              "  <tbody>\n",
              "    <tr>\n",
              "      <th>0</th>\n",
              "      <td>KIPFSCNUGOLDP</td>\n",
              "      <td>20</td>\n",
              "    </tr>\n",
              "    <tr>\n",
              "      <th>1</th>\n",
              "      <td>NGQCKIADMZORL</td>\n",
              "      <td>20</td>\n",
              "    </tr>\n",
              "    <tr>\n",
              "      <th>2</th>\n",
              "      <td>CQTUVBYIWWWBC</td>\n",
              "      <td>20</td>\n",
              "    </tr>\n",
              "    <tr>\n",
              "      <th>3</th>\n",
              "      <td>ITUMJCKWEYNDD</td>\n",
              "      <td>20</td>\n",
              "    </tr>\n",
              "    <tr>\n",
              "      <th>4</th>\n",
              "      <td>EQYVNEGOFLAWK</td>\n",
              "      <td>20</td>\n",
              "    </tr>\n",
              "    <tr>\n",
              "      <th>5</th>\n",
              "      <td>ZUSVMDEZRBDTX</td>\n",
              "      <td>20</td>\n",
              "    </tr>\n",
              "    <tr>\n",
              "      <th>6</th>\n",
              "      <td>BWSMVSLCJXMCM</td>\n",
              "      <td>19</td>\n",
              "    </tr>\n",
              "    <tr>\n",
              "      <th>7</th>\n",
              "      <td>IGKYVZDBEGALB</td>\n",
              "      <td>19</td>\n",
              "    </tr>\n",
              "    <tr>\n",
              "      <th>8</th>\n",
              "      <td>EGLGSEGYPMMAM</td>\n",
              "      <td>19</td>\n",
              "    </tr>\n",
              "    <tr>\n",
              "      <th>9</th>\n",
              "      <td>CDFXVYHOIHPYP</td>\n",
              "      <td>19</td>\n",
              "    </tr>\n",
              "  </tbody>\n",
              "</table>\n",
              "</div>"
            ],
            "text/plain": [
              "       device_id  user_id\n",
              "0  KIPFSCNUGOLDP       20\n",
              "1  NGQCKIADMZORL       20\n",
              "2  CQTUVBYIWWWBC       20\n",
              "3  ITUMJCKWEYNDD       20\n",
              "4  EQYVNEGOFLAWK       20\n",
              "5  ZUSVMDEZRBDTX       20\n",
              "6  BWSMVSLCJXMCM       19\n",
              "7  IGKYVZDBEGALB       19\n",
              "8  EGLGSEGYPMMAM       19\n",
              "9  CDFXVYHOIHPYP       19"
            ]
          },
          "metadata": {
            "tags": []
          },
          "execution_count": 97
        }
      ]
    },
    {
      "cell_type": "markdown",
      "metadata": {
        "id": "FojXUzAzdgVv",
        "colab_type": "text"
      },
      "source": [
        "####Above we have grouped the device_id by user_id to see if the tuilisation of a currency more times for fraudulent purposes"
      ]
    },
    {
      "cell_type": "code",
      "metadata": {
        "id": "vOOHm5O73MIo",
        "colab_type": "code",
        "outputId": "20bc773c-bc71-404d-8f21-6b4cf199df56",
        "colab": {
          "base_uri": "https://localhost:8080/",
          "height": 641
        }
      },
      "source": [
        "df = df.merge(dev, on='device_id', left_index=False, right_index=False, how='inner')\n",
        "df_US = df_US.merge(dev, on='device_id',left_index=False, right_index=False)\n",
        "df_nan = df_nan.merge(dev, on='device_id', left_index=False, right_index=False)\n",
        "df_reste = df_reste.merge(dev, on='device_id', left_index=False, right_index=False)\n",
        "\n",
        "print(\"df\", df.head(),\"\\n\")\n",
        "print(\"df_US\", df_US.head(),\"\\n\")\n",
        "print(\"df_nan\", df_nan.head(),\"\\n\")\n",
        "print(\"df_reste\", df_reste.head(),\"\\n\")"
      ],
      "execution_count": 0,
      "outputs": [
        {
          "output_type": "stream",
          "text": [
            "df    Unnamed: 0  user_id_x          signup_time  ... class        country user_id_y\n",
            "0           0      22058  2015-02-24 22:55:49  ...     0          Japan         1\n",
            "1           1     333320  2015-06-07 20:39:50  ...     0  United States         1\n",
            "2           2       1359  2015-01-01 18:52:44  ...     1  United States        12\n",
            "3        2626      48288  2015-01-01 18:52:41  ...     1  United States        12\n",
            "4       22106     128706  2015-01-01 18:52:40  ...     1  United States        12\n",
            "\n",
            "[5 rows x 14 columns] \n",
            "\n",
            "df_US    Unnamed: 0  user_id_x          signup_time  ... class        country user_id_y\n",
            "0           1     333320  2015-06-07 20:39:50  ...     0  United States         1\n",
            "1           2       1359  2015-01-01 18:52:44  ...     1  United States        12\n",
            "2        2626      48288  2015-01-01 18:52:41  ...     1  United States        12\n",
            "3       22106     128706  2015-01-01 18:52:40  ...     1  United States        12\n",
            "4       32909     260959  2015-01-01 18:52:39  ...     1  United States        12\n",
            "\n",
            "[5 rows x 14 columns] \n",
            "\n",
            "df_nan    Unnamed: 0  user_id_x          signup_time  ... class  country user_id_y\n",
            "0           3     150084  2015-04-28 21:13:25  ...     0  Unknown         1\n",
            "1           6      50116  2015-08-01 22:40:52  ...     0  Unknown         1\n",
            "2          11      73884  2015-05-29 16:22:02  ...     0  Unknown         1\n",
            "3          12      79203  2015-06-16 21:19:35  ...     0  Unknown         1\n",
            "4          14      82931  2015-02-16 02:50:30  ...     0  Unknown         1\n",
            "\n",
            "[5 rows x 14 columns] \n",
            "\n",
            "df_reste    Unnamed: 0  user_id_x          signup_time  ... class  country user_id_y\n",
            "0           0      22058  2015-02-24 22:55:49  ...     0    Japan         1\n",
            "1           5     159135  2015-05-21 06:03:03  ...     0   Canada         1\n",
            "2           8     159045  2015-04-21 23:38:34  ...     0    China         1\n",
            "3          13     299320  2015-03-03 19:17:07  ...     0   Brazil         1\n",
            "4          15      31383  2015-02-01 01:06:17  ...     0    India         1\n",
            "\n",
            "[5 rows x 14 columns] \n",
            "\n"
          ],
          "name": "stdout"
        }
      ]
    },
    {
      "cell_type": "code",
      "metadata": {
        "id": "mubdiBwuq1kK",
        "colab_type": "code",
        "outputId": "3872bf66-5fa8-414a-fc59-c080360a3c67",
        "colab": {
          "base_uri": "https://localhost:8080/",
          "height": 645
        }
      },
      "source": [
        "f, ax = plt.subplots(2,2,figsize=(15,10))\n",
        "\n",
        "sns.pointplot(x='user_id_y',y='class', data = df, height=20, logistic=True, ax=ax[0][0])\n",
        "ax[0][0].set_title(\"DF total\")\n",
        "\n",
        "sns.pointplot(x='user_id_y',y='class', data = df_US, height=20, logistic=True, ax=ax[0][1])\n",
        "ax[0][1].set_title(\"DF US\")\n",
        "\n",
        "sns.pointplot(x=\"user_id_y\",y='class', data = df_nan, height=20, logistic=True, ax=ax[1][0])\n",
        "ax[1][0].set_title(\"DF nan\")\n",
        "\n",
        "sns.pointplot(x=\"user_id_y\",y='class', data = df_reste, height=20, logistic=True, ax=ax[1][1])\n",
        "ax[1][1].set_title(\"DF reste du dataframe\")"
      ],
      "execution_count": 0,
      "outputs": [
        {
          "output_type": "execute_result",
          "data": {
            "text/plain": [
              "Text(0.5, 1.0, 'DF reste du dataframe')"
            ]
          },
          "metadata": {
            "tags": []
          },
          "execution_count": 99
        },
        {
          "output_type": "display_data",
          "data": {
            "image/png": "[encoded data removed]",
            "text/plain": [
              "<Figure size 1080x720 with 4 Axes>"
            ]
          },
          "metadata": {
            "tags": []
          }
        }
      ]
    },
    {
      "cell_type": "markdown",
      "metadata": {
        "id": "B3kLd0r2ulAm",
        "colab_type": "text"
      },
      "source": [
        " If the same currency is used more than four times, there will be a high chance of fraud. It looks a lot like the right of the elbow\n",
        "\n",
        "We will create categories for the used devices:\n",
        "\n",
        "_ Safe: Devices used between 1 and 3\n",
        "\n",
        "_ Not Sure: Devices used 4 times\n",
        "\n",
        "_ Dangerous: The devices used 5 or more times\n",
        "\n"
      ]
    },
    {
      "cell_type": "code",
      "metadata": {
        "id": "rTm2IDEtt7R2",
        "colab_type": "code",
        "colab": {}
      },
      "source": [
        "df['Alerte'] = df.user_id_y.apply(lambda x : 'safe' if x<=3 else ( 'not_sure' if x==4 else 'dangerous'))"
      ],
      "execution_count": 0,
      "outputs": []
    },
    {
      "cell_type": "code",
      "metadata": {
        "id": "VTtfTP-LscRZ",
        "colab_type": "code",
        "outputId": "172e96c0-85f0-4115-8926-b6168a4130e8",
        "colab": {
          "base_uri": "https://localhost:8080/",
          "height": 202
        }
      },
      "source": [
        "df.head()"
      ],
      "execution_count": 0,
      "outputs": [
        {
          "output_type": "execute_result",
          "data": {
            "text/html": [
              "<div>\n",
              "<style scoped>\n",
              "    .dataframe tbody tr th:only-of-type {\n",
              "        vertical-align: middle;\n",
              "    }\n",
              "\n",
              "    .dataframe tbody tr th {\n",
              "        vertical-align: top;\n",
              "    }\n",
              "\n",
              "    .dataframe thead th {\n",
              "        text-align: right;\n",
              "    }\n",
              "</style>\n",
              "<table border=\"1\" class=\"dataframe\">\n",
              "  <thead>\n",
              "    <tr style=\"text-align: right;\">\n",
              "      <th></th>\n",
              "      <th>Unnamed: 0</th>\n",
              "      <th>user_id_x</th>\n",
              "      <th>signup_time</th>\n",
              "      <th>purchase_time</th>\n",
              "      <th>purchase_value</th>\n",
              "      <th>device_id</th>\n",
              "      <th>source</th>\n",
              "      <th>browser</th>\n",
              "      <th>sex</th>\n",
              "      <th>age</th>\n",
              "      <th>ip_address</th>\n",
              "      <th>class</th>\n",
              "      <th>country</th>\n",
              "      <th>user_id_y</th>\n",
              "      <th>Alerte</th>\n",
              "    </tr>\n",
              "  </thead>\n",
              "  <tbody>\n",
              "    <tr>\n",
              "      <th>0</th>\n",
              "      <td>0</td>\n",
              "      <td>22058</td>\n",
              "      <td>2015-02-24 22:55:49</td>\n",
              "      <td>2015-04-18 02:47:11</td>\n",
              "      <td>34</td>\n",
              "      <td>QVPSPJUOCKZAR</td>\n",
              "      <td>SEO</td>\n",
              "      <td>Chrome</td>\n",
              "      <td>M</td>\n",
              "      <td>39</td>\n",
              "      <td>7.327584e+08</td>\n",
              "      <td>0</td>\n",
              "      <td>Japan</td>\n",
              "      <td>1</td>\n",
              "      <td>safe</td>\n",
              "    </tr>\n",
              "    <tr>\n",
              "      <th>1</th>\n",
              "      <td>1</td>\n",
              "      <td>333320</td>\n",
              "      <td>2015-06-07 20:39:50</td>\n",
              "      <td>2015-06-08 01:38:54</td>\n",
              "      <td>16</td>\n",
              "      <td>EOGFQPIZPYXFZ</td>\n",
              "      <td>Ads</td>\n",
              "      <td>Chrome</td>\n",
              "      <td>F</td>\n",
              "      <td>53</td>\n",
              "      <td>3.503114e+08</td>\n",
              "      <td>0</td>\n",
              "      <td>United States</td>\n",
              "      <td>1</td>\n",
              "      <td>safe</td>\n",
              "    </tr>\n",
              "    <tr>\n",
              "      <th>2</th>\n",
              "      <td>2</td>\n",
              "      <td>1359</td>\n",
              "      <td>2015-01-01 18:52:44</td>\n",
              "      <td>2015-01-01 18:52:45</td>\n",
              "      <td>15</td>\n",
              "      <td>YSSKYOSJHPPLJ</td>\n",
              "      <td>SEO</td>\n",
              "      <td>Opera</td>\n",
              "      <td>M</td>\n",
              "      <td>53</td>\n",
              "      <td>2.621474e+09</td>\n",
              "      <td>1</td>\n",
              "      <td>United States</td>\n",
              "      <td>12</td>\n",
              "      <td>dangerous</td>\n",
              "    </tr>\n",
              "    <tr>\n",
              "      <th>3</th>\n",
              "      <td>2626</td>\n",
              "      <td>48288</td>\n",
              "      <td>2015-01-01 18:52:41</td>\n",
              "      <td>2015-01-01 18:52:42</td>\n",
              "      <td>15</td>\n",
              "      <td>YSSKYOSJHPPLJ</td>\n",
              "      <td>SEO</td>\n",
              "      <td>Opera</td>\n",
              "      <td>M</td>\n",
              "      <td>53</td>\n",
              "      <td>2.621474e+09</td>\n",
              "      <td>1</td>\n",
              "      <td>United States</td>\n",
              "      <td>12</td>\n",
              "      <td>dangerous</td>\n",
              "    </tr>\n",
              "    <tr>\n",
              "      <th>4</th>\n",
              "      <td>22106</td>\n",
              "      <td>128706</td>\n",
              "      <td>2015-01-01 18:52:40</td>\n",
              "      <td>2015-01-01 18:52:41</td>\n",
              "      <td>15</td>\n",
              "      <td>YSSKYOSJHPPLJ</td>\n",
              "      <td>SEO</td>\n",
              "      <td>Opera</td>\n",
              "      <td>M</td>\n",
              "      <td>53</td>\n",
              "      <td>2.621474e+09</td>\n",
              "      <td>1</td>\n",
              "      <td>United States</td>\n",
              "      <td>12</td>\n",
              "      <td>dangerous</td>\n",
              "    </tr>\n",
              "  </tbody>\n",
              "</table>\n",
              "</div>"
            ],
            "text/plain": [
              "   Unnamed: 0  user_id_x  ... user_id_y     Alerte\n",
              "0           0      22058  ...         1       safe\n",
              "1           1     333320  ...         1       safe\n",
              "2           2       1359  ...        12  dangerous\n",
              "3        2626      48288  ...        12  dangerous\n",
              "4       22106     128706  ...        12  dangerous\n",
              "\n",
              "[5 rows x 15 columns]"
            ]
          },
          "metadata": {
            "tags": []
          },
          "execution_count": 101
        }
      ]
    },
    {
      "cell_type": "code",
      "metadata": {
        "id": "mVg4qYN5n-z5",
        "colab_type": "code",
        "outputId": "420b9e73-14b0-40d7-8634-2d6f89650325",
        "colab": {
          "base_uri": "https://localhost:8080/",
          "height": 35
        }
      },
      "source": [
        "df.country.shape"
      ],
      "execution_count": 0,
      "outputs": [
        {
          "output_type": "execute_result",
          "data": {
            "text/plain": [
              "(151112,)"
            ]
          },
          "metadata": {
            "tags": []
          },
          "execution_count": 102
        }
      ]
    },
    {
      "cell_type": "code",
      "metadata": {
        "id": "x7HcAAab2IZo",
        "colab_type": "code",
        "outputId": "52edd9d6-e6dd-4477-ddee-dd1f26b5d201",
        "colab": {
          "base_uri": "https://localhost:8080/",
          "height": 121
        }
      },
      "source": [
        "df.signup_time.head()\n"
      ],
      "execution_count": 0,
      "outputs": [
        {
          "output_type": "execute_result",
          "data": {
            "text/plain": [
              "0    2015-02-24 22:55:49\n",
              "1    2015-06-07 20:39:50\n",
              "2    2015-01-01 18:52:44\n",
              "3    2015-01-01 18:52:41\n",
              "4    2015-01-01 18:52:40\n",
              "Name: signup_time, dtype: object"
            ]
          },
          "metadata": {
            "tags": []
          },
          "execution_count": 103
        }
      ]
    },
    {
      "cell_type": "code",
      "metadata": {
        "id": "f0asx7Ld2IUu",
        "colab_type": "code",
        "colab": {}
      },
      "source": [
        "df['signup_time'] = pd.to_datetime(df['signup_time'])"
      ],
      "execution_count": 0,
      "outputs": []
    },
    {
      "cell_type": "code",
      "metadata": {
        "id": "qDUZAi2M2IPP",
        "colab_type": "code",
        "outputId": "5ac28839-8425-4243-ced4-491f2577caec",
        "colab": {
          "base_uri": "https://localhost:8080/",
          "height": 121
        }
      },
      "source": [
        "df.signup_time.head()"
      ],
      "execution_count": 0,
      "outputs": [
        {
          "output_type": "execute_result",
          "data": {
            "text/plain": [
              "0   2015-02-24 22:55:49\n",
              "1   2015-06-07 20:39:50\n",
              "2   2015-01-01 18:52:44\n",
              "3   2015-01-01 18:52:41\n",
              "4   2015-01-01 18:52:40\n",
              "Name: signup_time, dtype: datetime64[ns]"
            ]
          },
          "metadata": {
            "tags": []
          },
          "execution_count": 105
        }
      ]
    },
    {
      "cell_type": "code",
      "metadata": {
        "id": "x7u6UQue3RhT",
        "colab_type": "code",
        "outputId": "d43dde7d-0497-4bd7-9147-fd1f804a38aa",
        "colab": {
          "base_uri": "https://localhost:8080/",
          "height": 35
        }
      },
      "source": [
        "df['purchase_time'].dtypes"
      ],
      "execution_count": 0,
      "outputs": [
        {
          "output_type": "execute_result",
          "data": {
            "text/plain": [
              "dtype('O')"
            ]
          },
          "metadata": {
            "tags": []
          },
          "execution_count": 106
        }
      ]
    },
    {
      "cell_type": "code",
      "metadata": {
        "id": "4LRwzi2l2IG5",
        "colab_type": "code",
        "colab": {}
      },
      "source": [
        "df['purchase_time'] = pd.to_datetime(df['purchase_time'])"
      ],
      "execution_count": 0,
      "outputs": []
    },
    {
      "cell_type": "code",
      "metadata": {
        "id": "lC6sx_3G31DX",
        "colab_type": "code",
        "outputId": "a7b1a2fa-79f6-4b75-9596-b5b0d1a55fa6",
        "colab": {
          "base_uri": "https://localhost:8080/",
          "height": 121
        }
      },
      "source": [
        "df['purchase_time'].head()"
      ],
      "execution_count": 0,
      "outputs": [
        {
          "output_type": "execute_result",
          "data": {
            "text/plain": [
              "0   2015-04-18 02:47:11\n",
              "1   2015-06-08 01:38:54\n",
              "2   2015-01-01 18:52:45\n",
              "3   2015-01-01 18:52:42\n",
              "4   2015-01-01 18:52:41\n",
              "Name: purchase_time, dtype: datetime64[ns]"
            ]
          },
          "metadata": {
            "tags": []
          },
          "execution_count": 108
        }
      ]
    },
    {
      "cell_type": "markdown",
      "metadata": {
        "id": "HW2wsYsA1SPm",
        "colab_type": "text"
      },
      "source": [
        "Calculation of the duration between the time of registration and the time of purchase\n"
      ]
    },
    {
      "cell_type": "code",
      "metadata": {
        "id": "aTCSU9Qwu7Nj",
        "colab_type": "code",
        "colab": {}
      },
      "source": [
        "df[\"duration\"] = df['purchase_time'] - df['signup_time']"
      ],
      "execution_count": 0,
      "outputs": []
    },
    {
      "cell_type": "code",
      "metadata": {
        "colab_type": "code",
        "id": "tMP_MWniwXD7",
        "outputId": "f12412bd-0767-4d2f-b4b0-c08396572867",
        "colab": {
          "base_uri": "https://localhost:8080/",
          "height": 121
        }
      },
      "source": [
        "df[\"duration\"].head()"
      ],
      "execution_count": 0,
      "outputs": [
        {
          "output_type": "execute_result",
          "data": {
            "text/plain": [
              "0   52 days 03:51:22\n",
              "1    0 days 04:59:04\n",
              "2    0 days 00:00:01\n",
              "3    0 days 00:00:01\n",
              "4    0 days 00:00:01\n",
              "Name: duration, dtype: timedelta64[ns]"
            ]
          },
          "metadata": {
            "tags": []
          },
          "execution_count": 110
        }
      ]
    },
    {
      "cell_type": "code",
      "metadata": {
        "colab_type": "code",
        "id": "sO0AD_47wJos",
        "outputId": "0f126e36-7857-4105-9d4a-a125d12111a4",
        "colab": {
          "base_uri": "https://localhost:8080/",
          "height": 202
        }
      },
      "source": [
        "df.head()"
      ],
      "execution_count": 0,
      "outputs": [
        {
          "output_type": "execute_result",
          "data": {
            "text/html": [
              "<div>\n",
              "<style scoped>\n",
              "    .dataframe tbody tr th:only-of-type {\n",
              "        vertical-align: middle;\n",
              "    }\n",
              "\n",
              "    .dataframe tbody tr th {\n",
              "        vertical-align: top;\n",
              "    }\n",
              "\n",
              "    .dataframe thead th {\n",
              "        text-align: right;\n",
              "    }\n",
              "</style>\n",
              "<table border=\"1\" class=\"dataframe\">\n",
              "  <thead>\n",
              "    <tr style=\"text-align: right;\">\n",
              "      <th></th>\n",
              "      <th>Unnamed: 0</th>\n",
              "      <th>user_id_x</th>\n",
              "      <th>signup_time</th>\n",
              "      <th>purchase_time</th>\n",
              "      <th>purchase_value</th>\n",
              "      <th>device_id</th>\n",
              "      <th>source</th>\n",
              "      <th>browser</th>\n",
              "      <th>sex</th>\n",
              "      <th>age</th>\n",
              "      <th>ip_address</th>\n",
              "      <th>class</th>\n",
              "      <th>country</th>\n",
              "      <th>user_id_y</th>\n",
              "      <th>Alerte</th>\n",
              "      <th>duration</th>\n",
              "    </tr>\n",
              "  </thead>\n",
              "  <tbody>\n",
              "    <tr>\n",
              "      <th>0</th>\n",
              "      <td>0</td>\n",
              "      <td>22058</td>\n",
              "      <td>2015-02-24 22:55:49</td>\n",
              "      <td>2015-04-18 02:47:11</td>\n",
              "      <td>34</td>\n",
              "      <td>QVPSPJUOCKZAR</td>\n",
              "      <td>SEO</td>\n",
              "      <td>Chrome</td>\n",
              "      <td>M</td>\n",
              "      <td>39</td>\n",
              "      <td>7.327584e+08</td>\n",
              "      <td>0</td>\n",
              "      <td>Japan</td>\n",
              "      <td>1</td>\n",
              "      <td>safe</td>\n",
              "      <td>52 days 03:51:22</td>\n",
              "    </tr>\n",
              "    <tr>\n",
              "      <th>1</th>\n",
              "      <td>1</td>\n",
              "      <td>333320</td>\n",
              "      <td>2015-06-07 20:39:50</td>\n",
              "      <td>2015-06-08 01:38:54</td>\n",
              "      <td>16</td>\n",
              "      <td>EOGFQPIZPYXFZ</td>\n",
              "      <td>Ads</td>\n",
              "      <td>Chrome</td>\n",
              "      <td>F</td>\n",
              "      <td>53</td>\n",
              "      <td>3.503114e+08</td>\n",
              "      <td>0</td>\n",
              "      <td>United States</td>\n",
              "      <td>1</td>\n",
              "      <td>safe</td>\n",
              "      <td>0 days 04:59:04</td>\n",
              "    </tr>\n",
              "    <tr>\n",
              "      <th>2</th>\n",
              "      <td>2</td>\n",
              "      <td>1359</td>\n",
              "      <td>2015-01-01 18:52:44</td>\n",
              "      <td>2015-01-01 18:52:45</td>\n",
              "      <td>15</td>\n",
              "      <td>YSSKYOSJHPPLJ</td>\n",
              "      <td>SEO</td>\n",
              "      <td>Opera</td>\n",
              "      <td>M</td>\n",
              "      <td>53</td>\n",
              "      <td>2.621474e+09</td>\n",
              "      <td>1</td>\n",
              "      <td>United States</td>\n",
              "      <td>12</td>\n",
              "      <td>dangerous</td>\n",
              "      <td>0 days 00:00:01</td>\n",
              "    </tr>\n",
              "    <tr>\n",
              "      <th>3</th>\n",
              "      <td>2626</td>\n",
              "      <td>48288</td>\n",
              "      <td>2015-01-01 18:52:41</td>\n",
              "      <td>2015-01-01 18:52:42</td>\n",
              "      <td>15</td>\n",
              "      <td>YSSKYOSJHPPLJ</td>\n",
              "      <td>SEO</td>\n",
              "      <td>Opera</td>\n",
              "      <td>M</td>\n",
              "      <td>53</td>\n",
              "      <td>2.621474e+09</td>\n",
              "      <td>1</td>\n",
              "      <td>United States</td>\n",
              "      <td>12</td>\n",
              "      <td>dangerous</td>\n",
              "      <td>0 days 00:00:01</td>\n",
              "    </tr>\n",
              "    <tr>\n",
              "      <th>4</th>\n",
              "      <td>22106</td>\n",
              "      <td>128706</td>\n",
              "      <td>2015-01-01 18:52:40</td>\n",
              "      <td>2015-01-01 18:52:41</td>\n",
              "      <td>15</td>\n",
              "      <td>YSSKYOSJHPPLJ</td>\n",
              "      <td>SEO</td>\n",
              "      <td>Opera</td>\n",
              "      <td>M</td>\n",
              "      <td>53</td>\n",
              "      <td>2.621474e+09</td>\n",
              "      <td>1</td>\n",
              "      <td>United States</td>\n",
              "      <td>12</td>\n",
              "      <td>dangerous</td>\n",
              "      <td>0 days 00:00:01</td>\n",
              "    </tr>\n",
              "  </tbody>\n",
              "</table>\n",
              "</div>"
            ],
            "text/plain": [
              "   Unnamed: 0  user_id_x  ...     Alerte         duration\n",
              "0           0      22058  ...       safe 52 days 03:51:22\n",
              "1           1     333320  ...       safe  0 days 04:59:04\n",
              "2           2       1359  ...  dangerous  0 days 00:00:01\n",
              "3        2626      48288  ...  dangerous  0 days 00:00:01\n",
              "4       22106     128706  ...  dangerous  0 days 00:00:01\n",
              "\n",
              "[5 rows x 16 columns]"
            ]
          },
          "metadata": {
            "tags": []
          },
          "execution_count": 111
        }
      ]
    },
    {
      "cell_type": "markdown",
      "metadata": {
        "id": "Jr4_qoK8UO2A",
        "colab_type": "text"
      },
      "source": [
        "Transformation of the variable duration in seconds to obtain the same norm in order to be able to train it in our model"
      ]
    },
    {
      "cell_type": "code",
      "metadata": {
        "id": "1J7xu5M5UNBB",
        "colab_type": "code",
        "colab": {}
      },
      "source": [
        "\n",
        "df[\"duration_second\"] = df[\"duration\"].apply(lambda x: x.total_seconds())"
      ],
      "execution_count": 0,
      "outputs": []
    },
    {
      "cell_type": "code",
      "metadata": {
        "id": "io5UZOpseCQ4",
        "colab_type": "code",
        "outputId": "8bac5f18-ddfb-40ee-e999-37f123fc2970",
        "colab": {
          "base_uri": "https://localhost:8080/",
          "height": 306
        }
      },
      "source": [
        "df.head()"
      ],
      "execution_count": 0,
      "outputs": [
        {
          "output_type": "execute_result",
          "data": {
            "text/html": [
              "<div>\n",
              "<style scoped>\n",
              "    .dataframe tbody tr th:only-of-type {\n",
              "        vertical-align: middle;\n",
              "    }\n",
              "\n",
              "    .dataframe tbody tr th {\n",
              "        vertical-align: top;\n",
              "    }\n",
              "\n",
              "    .dataframe thead th {\n",
              "        text-align: right;\n",
              "    }\n",
              "</style>\n",
              "<table border=\"1\" class=\"dataframe\">\n",
              "  <thead>\n",
              "    <tr style=\"text-align: right;\">\n",
              "      <th></th>\n",
              "      <th>Unnamed: 0</th>\n",
              "      <th>user_id_x</th>\n",
              "      <th>signup_time</th>\n",
              "      <th>purchase_time</th>\n",
              "      <th>purchase_value</th>\n",
              "      <th>device_id</th>\n",
              "      <th>source</th>\n",
              "      <th>browser</th>\n",
              "      <th>sex</th>\n",
              "      <th>age</th>\n",
              "      <th>ip_address</th>\n",
              "      <th>class</th>\n",
              "      <th>country</th>\n",
              "      <th>user_id_y</th>\n",
              "      <th>Alerte</th>\n",
              "      <th>duration</th>\n",
              "      <th>duration_second</th>\n",
              "    </tr>\n",
              "  </thead>\n",
              "  <tbody>\n",
              "    <tr>\n",
              "      <th>0</th>\n",
              "      <td>0</td>\n",
              "      <td>22058</td>\n",
              "      <td>2015-02-24 22:55:49</td>\n",
              "      <td>2015-04-18 02:47:11</td>\n",
              "      <td>34</td>\n",
              "      <td>QVPSPJUOCKZAR</td>\n",
              "      <td>SEO</td>\n",
              "      <td>Chrome</td>\n",
              "      <td>M</td>\n",
              "      <td>39</td>\n",
              "      <td>7.327584e+08</td>\n",
              "      <td>0</td>\n",
              "      <td>Japan</td>\n",
              "      <td>1</td>\n",
              "      <td>safe</td>\n",
              "      <td>52 days 03:51:22</td>\n",
              "      <td>4506682.0</td>\n",
              "    </tr>\n",
              "    <tr>\n",
              "      <th>1</th>\n",
              "      <td>1</td>\n",
              "      <td>333320</td>\n",
              "      <td>2015-06-07 20:39:50</td>\n",
              "      <td>2015-06-08 01:38:54</td>\n",
              "      <td>16</td>\n",
              "      <td>EOGFQPIZPYXFZ</td>\n",
              "      <td>Ads</td>\n",
              "      <td>Chrome</td>\n",
              "      <td>F</td>\n",
              "      <td>53</td>\n",
              "      <td>3.503114e+08</td>\n",
              "      <td>0</td>\n",
              "      <td>United States</td>\n",
              "      <td>1</td>\n",
              "      <td>safe</td>\n",
              "      <td>0 days 04:59:04</td>\n",
              "      <td>17944.0</td>\n",
              "    </tr>\n",
              "    <tr>\n",
              "      <th>2</th>\n",
              "      <td>2</td>\n",
              "      <td>1359</td>\n",
              "      <td>2015-01-01 18:52:44</td>\n",
              "      <td>2015-01-01 18:52:45</td>\n",
              "      <td>15</td>\n",
              "      <td>YSSKYOSJHPPLJ</td>\n",
              "      <td>SEO</td>\n",
              "      <td>Opera</td>\n",
              "      <td>M</td>\n",
              "      <td>53</td>\n",
              "      <td>2.621474e+09</td>\n",
              "      <td>1</td>\n",
              "      <td>United States</td>\n",
              "      <td>12</td>\n",
              "      <td>dangerous</td>\n",
              "      <td>0 days 00:00:01</td>\n",
              "      <td>1.0</td>\n",
              "    </tr>\n",
              "    <tr>\n",
              "      <th>3</th>\n",
              "      <td>2626</td>\n",
              "      <td>48288</td>\n",
              "      <td>2015-01-01 18:52:41</td>\n",
              "      <td>2015-01-01 18:52:42</td>\n",
              "      <td>15</td>\n",
              "      <td>YSSKYOSJHPPLJ</td>\n",
              "      <td>SEO</td>\n",
              "      <td>Opera</td>\n",
              "      <td>M</td>\n",
              "      <td>53</td>\n",
              "      <td>2.621474e+09</td>\n",
              "      <td>1</td>\n",
              "      <td>United States</td>\n",
              "      <td>12</td>\n",
              "      <td>dangerous</td>\n",
              "      <td>0 days 00:00:01</td>\n",
              "      <td>1.0</td>\n",
              "    </tr>\n",
              "    <tr>\n",
              "      <th>4</th>\n",
              "      <td>22106</td>\n",
              "      <td>128706</td>\n",
              "      <td>2015-01-01 18:52:40</td>\n",
              "      <td>2015-01-01 18:52:41</td>\n",
              "      <td>15</td>\n",
              "      <td>YSSKYOSJHPPLJ</td>\n",
              "      <td>SEO</td>\n",
              "      <td>Opera</td>\n",
              "      <td>M</td>\n",
              "      <td>53</td>\n",
              "      <td>2.621474e+09</td>\n",
              "      <td>1</td>\n",
              "      <td>United States</td>\n",
              "      <td>12</td>\n",
              "      <td>dangerous</td>\n",
              "      <td>0 days 00:00:01</td>\n",
              "      <td>1.0</td>\n",
              "    </tr>\n",
              "  </tbody>\n",
              "</table>\n",
              "</div>"
            ],
            "text/plain": [
              "   Unnamed: 0  user_id_x  ...         duration duration_second\n",
              "0           0      22058  ... 52 days 03:51:22       4506682.0\n",
              "1           1     333320  ...  0 days 04:59:04         17944.0\n",
              "2           2       1359  ...  0 days 00:00:01             1.0\n",
              "3        2626      48288  ...  0 days 00:00:01             1.0\n",
              "4       22106     128706  ...  0 days 00:00:01             1.0\n",
              "\n",
              "[5 rows x 17 columns]"
            ]
          },
          "metadata": {
            "tags": []
          },
          "execution_count": 113
        }
      ]
    },
    {
      "cell_type": "code",
      "metadata": {
        "id": "mCfEHHidmffo",
        "colab_type": "code",
        "outputId": "594a556f-cf7d-4f88-e1e1-27d31f38dc67",
        "colab": {
          "base_uri": "https://localhost:8080/",
          "height": 383
        }
      },
      "source": [
        "sns.set(style=\"whitegrid\")\n",
        "sns.lmplot(x='duration_second', y='class', logistic=True, data=df)"
      ],
      "execution_count": 0,
      "outputs": [
        {
          "output_type": "execute_result",
          "data": {
            "text/plain": [
              "<seaborn.axisgrid.FacetGrid at 0x7fc811b85dd8>"
            ]
          },
          "metadata": {
            "tags": []
          },
          "execution_count": 114
        },
        {
          "output_type": "display_data",
          "data": {
            "image/png": "[encoded data removed]",
            "text/plain": [
              "<Figure size 360x360 with 1 Axes>"
            ]
          },
          "metadata": {
            "tags": []
          }
        }
      ]
    },
    {
      "cell_type": "markdown",
      "metadata": {
        "id": "XhdPpWsxhaOk",
        "colab_type": "text"
      },
      "source": [
        "==> The shorter the time between registration and purchase, the greater the chances of fraud (35%)"
      ]
    },
    {
      "cell_type": "markdown",
      "metadata": {
        "id": "v9cdGceT1il5",
        "colab_type": "text"
      },
      "source": [
        "Separation of schedules according to the periods of the day"
      ]
    },
    {
      "cell_type": "code",
      "metadata": {
        "id": "PMGcg2iz-K-N",
        "colab_type": "code",
        "colab": {}
      },
      "source": [
        "df['period'] = pd.cut(df.purchase_time.dt.hour,\n",
        "              [0,6,12,18,24],\n",
        "              labels=['Night','Morning','Afternoon','Evening'],\n",
        "              include_lowest=True)"
      ],
      "execution_count": 0,
      "outputs": []
    },
    {
      "cell_type": "code",
      "metadata": {
        "id": "4LF5MYso-bNK",
        "colab_type": "code",
        "outputId": "00612263-4606-48e7-de25-6e58a5824508",
        "colab": {
          "base_uri": "https://localhost:8080/",
          "height": 306
        }
      },
      "source": [
        "df.head()"
      ],
      "execution_count": 0,
      "outputs": [
        {
          "output_type": "execute_result",
          "data": {
            "text/html": [
              "<div>\n",
              "<style scoped>\n",
              "    .dataframe tbody tr th:only-of-type {\n",
              "        vertical-align: middle;\n",
              "    }\n",
              "\n",
              "    .dataframe tbody tr th {\n",
              "        vertical-align: top;\n",
              "    }\n",
              "\n",
              "    .dataframe thead th {\n",
              "        text-align: right;\n",
              "    }\n",
              "</style>\n",
              "<table border=\"1\" class=\"dataframe\">\n",
              "  <thead>\n",
              "    <tr style=\"text-align: right;\">\n",
              "      <th></th>\n",
              "      <th>Unnamed: 0</th>\n",
              "      <th>user_id_x</th>\n",
              "      <th>signup_time</th>\n",
              "      <th>purchase_time</th>\n",
              "      <th>purchase_value</th>\n",
              "      <th>device_id</th>\n",
              "      <th>source</th>\n",
              "      <th>browser</th>\n",
              "      <th>sex</th>\n",
              "      <th>age</th>\n",
              "      <th>ip_address</th>\n",
              "      <th>class</th>\n",
              "      <th>country</th>\n",
              "      <th>user_id_y</th>\n",
              "      <th>Alerte</th>\n",
              "      <th>duration</th>\n",
              "      <th>duration_second</th>\n",
              "      <th>period</th>\n",
              "    </tr>\n",
              "  </thead>\n",
              "  <tbody>\n",
              "    <tr>\n",
              "      <th>0</th>\n",
              "      <td>0</td>\n",
              "      <td>22058</td>\n",
              "      <td>2015-02-24 22:55:49</td>\n",
              "      <td>2015-04-18 02:47:11</td>\n",
              "      <td>34</td>\n",
              "      <td>QVPSPJUOCKZAR</td>\n",
              "      <td>SEO</td>\n",
              "      <td>Chrome</td>\n",
              "      <td>M</td>\n",
              "      <td>39</td>\n",
              "      <td>7.327584e+08</td>\n",
              "      <td>0</td>\n",
              "      <td>Japan</td>\n",
              "      <td>1</td>\n",
              "      <td>safe</td>\n",
              "      <td>52 days 03:51:22</td>\n",
              "      <td>4506682.0</td>\n",
              "      <td>Night</td>\n",
              "    </tr>\n",
              "    <tr>\n",
              "      <th>1</th>\n",
              "      <td>1</td>\n",
              "      <td>333320</td>\n",
              "      <td>2015-06-07 20:39:50</td>\n",
              "      <td>2015-06-08 01:38:54</td>\n",
              "      <td>16</td>\n",
              "      <td>EOGFQPIZPYXFZ</td>\n",
              "      <td>Ads</td>\n",
              "      <td>Chrome</td>\n",
              "      <td>F</td>\n",
              "      <td>53</td>\n",
              "      <td>3.503114e+08</td>\n",
              "      <td>0</td>\n",
              "      <td>United States</td>\n",
              "      <td>1</td>\n",
              "      <td>safe</td>\n",
              "      <td>0 days 04:59:04</td>\n",
              "      <td>17944.0</td>\n",
              "      <td>Night</td>\n",
              "    </tr>\n",
              "    <tr>\n",
              "      <th>2</th>\n",
              "      <td>2</td>\n",
              "      <td>1359</td>\n",
              "      <td>2015-01-01 18:52:44</td>\n",
              "      <td>2015-01-01 18:52:45</td>\n",
              "      <td>15</td>\n",
              "      <td>YSSKYOSJHPPLJ</td>\n",
              "      <td>SEO</td>\n",
              "      <td>Opera</td>\n",
              "      <td>M</td>\n",
              "      <td>53</td>\n",
              "      <td>2.621474e+09</td>\n",
              "      <td>1</td>\n",
              "      <td>United States</td>\n",
              "      <td>12</td>\n",
              "      <td>dangerous</td>\n",
              "      <td>0 days 00:00:01</td>\n",
              "      <td>1.0</td>\n",
              "      <td>Afternoon</td>\n",
              "    </tr>\n",
              "    <tr>\n",
              "      <th>3</th>\n",
              "      <td>2626</td>\n",
              "      <td>48288</td>\n",
              "      <td>2015-01-01 18:52:41</td>\n",
              "      <td>2015-01-01 18:52:42</td>\n",
              "      <td>15</td>\n",
              "      <td>YSSKYOSJHPPLJ</td>\n",
              "      <td>SEO</td>\n",
              "      <td>Opera</td>\n",
              "      <td>M</td>\n",
              "      <td>53</td>\n",
              "      <td>2.621474e+09</td>\n",
              "      <td>1</td>\n",
              "      <td>United States</td>\n",
              "      <td>12</td>\n",
              "      <td>dangerous</td>\n",
              "      <td>0 days 00:00:01</td>\n",
              "      <td>1.0</td>\n",
              "      <td>Afternoon</td>\n",
              "    </tr>\n",
              "    <tr>\n",
              "      <th>4</th>\n",
              "      <td>22106</td>\n",
              "      <td>128706</td>\n",
              "      <td>2015-01-01 18:52:40</td>\n",
              "      <td>2015-01-01 18:52:41</td>\n",
              "      <td>15</td>\n",
              "      <td>YSSKYOSJHPPLJ</td>\n",
              "      <td>SEO</td>\n",
              "      <td>Opera</td>\n",
              "      <td>M</td>\n",
              "      <td>53</td>\n",
              "      <td>2.621474e+09</td>\n",
              "      <td>1</td>\n",
              "      <td>United States</td>\n",
              "      <td>12</td>\n",
              "      <td>dangerous</td>\n",
              "      <td>0 days 00:00:01</td>\n",
              "      <td>1.0</td>\n",
              "      <td>Afternoon</td>\n",
              "    </tr>\n",
              "  </tbody>\n",
              "</table>\n",
              "</div>"
            ],
            "text/plain": [
              "   Unnamed: 0  user_id_x  ... duration_second     period\n",
              "0           0      22058  ...       4506682.0      Night\n",
              "1           1     333320  ...         17944.0      Night\n",
              "2           2       1359  ...             1.0  Afternoon\n",
              "3        2626      48288  ...             1.0  Afternoon\n",
              "4       22106     128706  ...             1.0  Afternoon\n",
              "\n",
              "[5 rows x 18 columns]"
            ]
          },
          "metadata": {
            "tags": []
          },
          "execution_count": 116
        }
      ]
    },
    {
      "cell_type": "markdown",
      "metadata": {
        "id": "mcuOeRB11veM",
        "colab_type": "text"
      },
      "source": [
        "Calculate the time between the time of registration and the time of purchase, in days, hours, minutes and seconds"
      ]
    },
    {
      "cell_type": "code",
      "metadata": {
        "id": "bU_vEFAU079s",
        "colab_type": "code",
        "colab": {}
      },
      "source": [
        "df['diff_jours'] = df['duration'].apply(lambda x : x.days)\n",
        "df['diff_heures'] = df['duration'].apply(lambda x : x.components.hours)\n",
        "df['diff_minutes'] = df['duration'].apply(lambda x : x.components.minutes)\n",
        "df['diff_secondes'] = df['duration'].apply(lambda x : x.components.seconds)"
      ],
      "execution_count": 0,
      "outputs": []
    },
    {
      "cell_type": "code",
      "metadata": {
        "id": "F_aseJ3h2C2y",
        "colab_type": "code",
        "outputId": "aff8b64f-d895-49f2-b5cc-4d9747216d06",
        "colab": {
          "base_uri": "https://localhost:8080/",
          "height": 326
        }
      },
      "source": [
        "df.head()"
      ],
      "execution_count": 0,
      "outputs": [
        {
          "output_type": "execute_result",
          "data": {
            "text/html": [
              "<div>\n",
              "<style scoped>\n",
              "    .dataframe tbody tr th:only-of-type {\n",
              "        vertical-align: middle;\n",
              "    }\n",
              "\n",
              "    .dataframe tbody tr th {\n",
              "        vertical-align: top;\n",
              "    }\n",
              "\n",
              "    .dataframe thead th {\n",
              "        text-align: right;\n",
              "    }\n",
              "</style>\n",
              "<table border=\"1\" class=\"dataframe\">\n",
              "  <thead>\n",
              "    <tr style=\"text-align: right;\">\n",
              "      <th></th>\n",
              "      <th>Unnamed: 0</th>\n",
              "      <th>user_id_x</th>\n",
              "      <th>signup_time</th>\n",
              "      <th>purchase_time</th>\n",
              "      <th>purchase_value</th>\n",
              "      <th>device_id</th>\n",
              "      <th>source</th>\n",
              "      <th>browser</th>\n",
              "      <th>sex</th>\n",
              "      <th>age</th>\n",
              "      <th>ip_address</th>\n",
              "      <th>class</th>\n",
              "      <th>country</th>\n",
              "      <th>user_id_y</th>\n",
              "      <th>Alerte</th>\n",
              "      <th>duration</th>\n",
              "      <th>duration_second</th>\n",
              "      <th>period</th>\n",
              "      <th>diff_jours</th>\n",
              "      <th>diff_heures</th>\n",
              "      <th>diff_minutes</th>\n",
              "      <th>diff_secondes</th>\n",
              "    </tr>\n",
              "  </thead>\n",
              "  <tbody>\n",
              "    <tr>\n",
              "      <th>0</th>\n",
              "      <td>0</td>\n",
              "      <td>22058</td>\n",
              "      <td>2015-02-24 22:55:49</td>\n",
              "      <td>2015-04-18 02:47:11</td>\n",
              "      <td>34</td>\n",
              "      <td>QVPSPJUOCKZAR</td>\n",
              "      <td>SEO</td>\n",
              "      <td>Chrome</td>\n",
              "      <td>M</td>\n",
              "      <td>39</td>\n",
              "      <td>7.327584e+08</td>\n",
              "      <td>0</td>\n",
              "      <td>Japan</td>\n",
              "      <td>1</td>\n",
              "      <td>safe</td>\n",
              "      <td>52 days 03:51:22</td>\n",
              "      <td>4506682.0</td>\n",
              "      <td>Night</td>\n",
              "      <td>52</td>\n",
              "      <td>3</td>\n",
              "      <td>51</td>\n",
              "      <td>22</td>\n",
              "    </tr>\n",
              "    <tr>\n",
              "      <th>1</th>\n",
              "      <td>1</td>\n",
              "      <td>333320</td>\n",
              "      <td>2015-06-07 20:39:50</td>\n",
              "      <td>2015-06-08 01:38:54</td>\n",
              "      <td>16</td>\n",
              "      <td>EOGFQPIZPYXFZ</td>\n",
              "      <td>Ads</td>\n",
              "      <td>Chrome</td>\n",
              "      <td>F</td>\n",
              "      <td>53</td>\n",
              "      <td>3.503114e+08</td>\n",
              "      <td>0</td>\n",
              "      <td>United States</td>\n",
              "      <td>1</td>\n",
              "      <td>safe</td>\n",
              "      <td>0 days 04:59:04</td>\n",
              "      <td>17944.0</td>\n",
              "      <td>Night</td>\n",
              "      <td>0</td>\n",
              "      <td>4</td>\n",
              "      <td>59</td>\n",
              "      <td>4</td>\n",
              "    </tr>\n",
              "    <tr>\n",
              "      <th>2</th>\n",
              "      <td>2</td>\n",
              "      <td>1359</td>\n",
              "      <td>2015-01-01 18:52:44</td>\n",
              "      <td>2015-01-01 18:52:45</td>\n",
              "      <td>15</td>\n",
              "      <td>YSSKYOSJHPPLJ</td>\n",
              "      <td>SEO</td>\n",
              "      <td>Opera</td>\n",
              "      <td>M</td>\n",
              "      <td>53</td>\n",
              "      <td>2.621474e+09</td>\n",
              "      <td>1</td>\n",
              "      <td>United States</td>\n",
              "      <td>12</td>\n",
              "      <td>dangerous</td>\n",
              "      <td>0 days 00:00:01</td>\n",
              "      <td>1.0</td>\n",
              "      <td>Afternoon</td>\n",
              "      <td>0</td>\n",
              "      <td>0</td>\n",
              "      <td>0</td>\n",
              "      <td>1</td>\n",
              "    </tr>\n",
              "    <tr>\n",
              "      <th>3</th>\n",
              "      <td>2626</td>\n",
              "      <td>48288</td>\n",
              "      <td>2015-01-01 18:52:41</td>\n",
              "      <td>2015-01-01 18:52:42</td>\n",
              "      <td>15</td>\n",
              "      <td>YSSKYOSJHPPLJ</td>\n",
              "      <td>SEO</td>\n",
              "      <td>Opera</td>\n",
              "      <td>M</td>\n",
              "      <td>53</td>\n",
              "      <td>2.621474e+09</td>\n",
              "      <td>1</td>\n",
              "      <td>United States</td>\n",
              "      <td>12</td>\n",
              "      <td>dangerous</td>\n",
              "      <td>0 days 00:00:01</td>\n",
              "      <td>1.0</td>\n",
              "      <td>Afternoon</td>\n",
              "      <td>0</td>\n",
              "      <td>0</td>\n",
              "      <td>0</td>\n",
              "      <td>1</td>\n",
              "    </tr>\n",
              "    <tr>\n",
              "      <th>4</th>\n",
              "      <td>22106</td>\n",
              "      <td>128706</td>\n",
              "      <td>2015-01-01 18:52:40</td>\n",
              "      <td>2015-01-01 18:52:41</td>\n",
              "      <td>15</td>\n",
              "      <td>YSSKYOSJHPPLJ</td>\n",
              "      <td>SEO</td>\n",
              "      <td>Opera</td>\n",
              "      <td>M</td>\n",
              "      <td>53</td>\n",
              "      <td>2.621474e+09</td>\n",
              "      <td>1</td>\n",
              "      <td>United States</td>\n",
              "      <td>12</td>\n",
              "      <td>dangerous</td>\n",
              "      <td>0 days 00:00:01</td>\n",
              "      <td>1.0</td>\n",
              "      <td>Afternoon</td>\n",
              "      <td>0</td>\n",
              "      <td>0</td>\n",
              "      <td>0</td>\n",
              "      <td>1</td>\n",
              "    </tr>\n",
              "  </tbody>\n",
              "</table>\n",
              "</div>"
            ],
            "text/plain": [
              "   Unnamed: 0  user_id_x  ... diff_minutes diff_secondes\n",
              "0           0      22058  ...           51            22\n",
              "1           1     333320  ...           59             4\n",
              "2           2       1359  ...            0             1\n",
              "3        2626      48288  ...            0             1\n",
              "4       22106     128706  ...            0             1\n",
              "\n",
              "[5 rows x 22 columns]"
            ]
          },
          "metadata": {
            "tags": []
          },
          "execution_count": 118
        }
      ]
    },
    {
      "cell_type": "markdown",
      "metadata": {
        "id": "tBt0nV4Tf2vz",
        "colab_type": "text"
      },
      "source": [
        "Deleting unnecessary variables"
      ]
    },
    {
      "cell_type": "code",
      "metadata": {
        "id": "FBJY4J0JstjL",
        "colab_type": "code",
        "colab": {}
      },
      "source": [
        "\n",
        "df['country'] = df['country'].str.replace('Unknown', 'nan')        "
      ],
      "execution_count": 0,
      "outputs": []
    },
    {
      "cell_type": "code",
      "metadata": {
        "id": "U6ghbZz3BtnS",
        "colab_type": "code",
        "outputId": "6609f615-0b1a-458c-c62c-25b8f9401719",
        "colab": {
          "base_uri": "https://localhost:8080/",
          "height": 1000
        }
      },
      "source": [
        "df['country'].value_counts()"
      ],
      "execution_count": 0,
      "outputs": [
        {
          "output_type": "execute_result",
          "data": {
            "text/plain": [
              "United States                      58049\n",
              "nan                                21966\n",
              "China                              12038\n",
              "Japan                               7306\n",
              "United Kingdom                      4490\n",
              "Korea Republic of                   4162\n",
              "Germany                             3646\n",
              "France                              3161\n",
              "Canada                              2975\n",
              "Brazil                              2961\n",
              "Italy                               1944\n",
              "Australia                           1844\n",
              "Netherlands                         1680\n",
              "Russian Federation                  1616\n",
              "India                               1310\n",
              "Taiwan; Republic of China (ROC)     1237\n",
              "Mexico                              1121\n",
              "Sweden                              1090\n",
              "Spain                               1027\n",
              "South Africa                         838\n",
              "Switzerland                          785\n",
              "Poland                               729\n",
              "Argentina                            661\n",
              "Indonesia                            649\n",
              "Norway                               609\n",
              "Colombia                             602\n",
              "Turkey                               568\n",
              "Viet Nam                             550\n",
              "Romania                              525\n",
              "Denmark                              490\n",
              "                                   ...  \n",
              "Reunion                                3\n",
              "Antigua and Barbuda                    3\n",
              "Saint Kitts and Nevis                  2\n",
              "Bermuda                                2\n",
              "Fiji                                   2\n",
              "Gibraltar                              2\n",
              "Burkina Faso                           2\n",
              "Benin                                  2\n",
              "Lesotho                                2\n",
              "Maldives                               2\n",
              "Bhutan                                 2\n",
              "Liechtenstein                          2\n",
              "Guadeloupe                             1\n",
              "Niger                                  1\n",
              "South Sudan                            1\n",
              "Tajikistan                             1\n",
              "Gambia                                 1\n",
              "Myanmar                                1\n",
              "Yemen                                  1\n",
              "Madagascar                             1\n",
              "Dominica                               1\n",
              "Bonaire; Sint Eustatius; Saba          1\n",
              "Cape Verde                             1\n",
              "British Indian Ocean Territory         1\n",
              "Nauru                                  1\n",
              "Vanuatu                                1\n",
              "San Marino                             1\n",
              "Turkmenistan                           1\n",
              "Burundi                                1\n",
              "Saint Martin                           1\n",
              "Name: country, Length: 182, dtype: int64"
            ]
          },
          "metadata": {
            "tags": []
          },
          "execution_count": 120
        }
      ]
    },
    {
      "cell_type": "code",
      "metadata": {
        "id": "EWUP7c6Gf9fj",
        "colab_type": "code",
        "outputId": "5357a016-0c23-4b17-8d8d-543da647ce8d",
        "colab": {
          "base_uri": "https://localhost:8080/",
          "height": 202
        }
      },
      "source": [
        "df_new = df.drop(['Unnamed: 0', 'user_id_y', 'signup_time', 'purchase_time',\"device_id\", \"ip_address\", \"duration\"], axis=1)\n",
        "df_new.head()"
      ],
      "execution_count": 0,
      "outputs": [
        {
          "output_type": "execute_result",
          "data": {
            "text/html": [
              "<div>\n",
              "<style scoped>\n",
              "    .dataframe tbody tr th:only-of-type {\n",
              "        vertical-align: middle;\n",
              "    }\n",
              "\n",
              "    .dataframe tbody tr th {\n",
              "        vertical-align: top;\n",
              "    }\n",
              "\n",
              "    .dataframe thead th {\n",
              "        text-align: right;\n",
              "    }\n",
              "</style>\n",
              "<table border=\"1\" class=\"dataframe\">\n",
              "  <thead>\n",
              "    <tr style=\"text-align: right;\">\n",
              "      <th></th>\n",
              "      <th>user_id_x</th>\n",
              "      <th>purchase_value</th>\n",
              "      <th>source</th>\n",
              "      <th>browser</th>\n",
              "      <th>sex</th>\n",
              "      <th>age</th>\n",
              "      <th>class</th>\n",
              "      <th>country</th>\n",
              "      <th>Alerte</th>\n",
              "      <th>duration_second</th>\n",
              "      <th>period</th>\n",
              "      <th>diff_jours</th>\n",
              "      <th>diff_heures</th>\n",
              "      <th>diff_minutes</th>\n",
              "      <th>diff_secondes</th>\n",
              "    </tr>\n",
              "  </thead>\n",
              "  <tbody>\n",
              "    <tr>\n",
              "      <th>0</th>\n",
              "      <td>22058</td>\n",
              "      <td>34</td>\n",
              "      <td>SEO</td>\n",
              "      <td>Chrome</td>\n",
              "      <td>M</td>\n",
              "      <td>39</td>\n",
              "      <td>0</td>\n",
              "      <td>Japan</td>\n",
              "      <td>safe</td>\n",
              "      <td>4506682.0</td>\n",
              "      <td>Night</td>\n",
              "      <td>52</td>\n",
              "      <td>3</td>\n",
              "      <td>51</td>\n",
              "      <td>22</td>\n",
              "    </tr>\n",
              "    <tr>\n",
              "      <th>1</th>\n",
              "      <td>333320</td>\n",
              "      <td>16</td>\n",
              "      <td>Ads</td>\n",
              "      <td>Chrome</td>\n",
              "      <td>F</td>\n",
              "      <td>53</td>\n",
              "      <td>0</td>\n",
              "      <td>United States</td>\n",
              "      <td>safe</td>\n",
              "      <td>17944.0</td>\n",
              "      <td>Night</td>\n",
              "      <td>0</td>\n",
              "      <td>4</td>\n",
              "      <td>59</td>\n",
              "      <td>4</td>\n",
              "    </tr>\n",
              "    <tr>\n",
              "      <th>2</th>\n",
              "      <td>1359</td>\n",
              "      <td>15</td>\n",
              "      <td>SEO</td>\n",
              "      <td>Opera</td>\n",
              "      <td>M</td>\n",
              "      <td>53</td>\n",
              "      <td>1</td>\n",
              "      <td>United States</td>\n",
              "      <td>dangerous</td>\n",
              "      <td>1.0</td>\n",
              "      <td>Afternoon</td>\n",
              "      <td>0</td>\n",
              "      <td>0</td>\n",
              "      <td>0</td>\n",
              "      <td>1</td>\n",
              "    </tr>\n",
              "    <tr>\n",
              "      <th>3</th>\n",
              "      <td>48288</td>\n",
              "      <td>15</td>\n",
              "      <td>SEO</td>\n",
              "      <td>Opera</td>\n",
              "      <td>M</td>\n",
              "      <td>53</td>\n",
              "      <td>1</td>\n",
              "      <td>United States</td>\n",
              "      <td>dangerous</td>\n",
              "      <td>1.0</td>\n",
              "      <td>Afternoon</td>\n",
              "      <td>0</td>\n",
              "      <td>0</td>\n",
              "      <td>0</td>\n",
              "      <td>1</td>\n",
              "    </tr>\n",
              "    <tr>\n",
              "      <th>4</th>\n",
              "      <td>128706</td>\n",
              "      <td>15</td>\n",
              "      <td>SEO</td>\n",
              "      <td>Opera</td>\n",
              "      <td>M</td>\n",
              "      <td>53</td>\n",
              "      <td>1</td>\n",
              "      <td>United States</td>\n",
              "      <td>dangerous</td>\n",
              "      <td>1.0</td>\n",
              "      <td>Afternoon</td>\n",
              "      <td>0</td>\n",
              "      <td>0</td>\n",
              "      <td>0</td>\n",
              "      <td>1</td>\n",
              "    </tr>\n",
              "  </tbody>\n",
              "</table>\n",
              "</div>"
            ],
            "text/plain": [
              "   user_id_x  purchase_value source  ... diff_heures diff_minutes  diff_secondes\n",
              "0      22058              34    SEO  ...           3           51             22\n",
              "1     333320              16    Ads  ...           4           59              4\n",
              "2       1359              15    SEO  ...           0            0              1\n",
              "3      48288              15    SEO  ...           0            0              1\n",
              "4     128706              15    SEO  ...           0            0              1\n",
              "\n",
              "[5 rows x 15 columns]"
            ]
          },
          "metadata": {
            "tags": []
          },
          "execution_count": 123
        }
      ]
    },
    {
      "cell_type": "code",
      "metadata": {
        "id": "Q9nlJYQH-lWC",
        "colab_type": "code",
        "outputId": "88c5161c-9158-421a-fd20-929ca3184f60",
        "colab": {
          "base_uri": "https://localhost:8080/",
          "height": 295
        }
      },
      "source": [
        "df_new.isnull().sum()/len(df_new)"
      ],
      "execution_count": 0,
      "outputs": [
        {
          "output_type": "execute_result",
          "data": {
            "text/plain": [
              "user_id_x          0.0\n",
              "purchase_value     0.0\n",
              "source             0.0\n",
              "browser            0.0\n",
              "sex                0.0\n",
              "age                0.0\n",
              "class              0.0\n",
              "country            0.0\n",
              "Alerte             0.0\n",
              "duration_second    0.0\n",
              "period             0.0\n",
              "diff_jours         0.0\n",
              "diff_heures        0.0\n",
              "diff_minutes       0.0\n",
              "diff_secondes      0.0\n",
              "dtype: float64"
            ]
          },
          "metadata": {
            "tags": []
          },
          "execution_count": 124
        }
      ]
    },
    {
      "cell_type": "code",
      "metadata": {
        "id": "ydW4-OnDEWl6",
        "colab_type": "code",
        "outputId": "96bb43b8-01da-4e2d-d9b0-4a5aa93d30ee",
        "colab": {
          "base_uri": "https://localhost:8080/",
          "height": 309
        }
      },
      "source": [
        "#f, ax = plt.subplots(1,1,figsize=(10,10))\n",
        "sns.pointplot(x='diff_secondes', y ='class', logistic=True, data=df, join=None)"
      ],
      "execution_count": 0,
      "outputs": [
        {
          "output_type": "execute_result",
          "data": {
            "text/plain": [
              "<matplotlib.axes._subplots.AxesSubplot at 0x7fc811484e80>"
            ]
          },
          "metadata": {
            "tags": []
          },
          "execution_count": 125
        },
        {
          "output_type": "display_data",
          "data": {
            "image/png": "[encoded data removed]",
            "text/plain": [
              "<Figure size 432x288 with 1 Axes>"
            ]
          },
          "metadata": {
            "tags": []
          }
        }
      ]
    },
    {
      "cell_type": "code",
      "metadata": {
        "id": "mqCr6a4fCwSI",
        "colab_type": "code",
        "outputId": "dcbf5eda-8f2b-481e-c23b-439bebd5a723",
        "colab": {
          "base_uri": "https://localhost:8080/",
          "height": 309
        }
      },
      "source": [
        "sns.pointplot(x='diff_secondes', y='class', hue=\"sex\",logistic = True, data=df_new)"
      ],
      "execution_count": 0,
      "outputs": [
        {
          "output_type": "execute_result",
          "data": {
            "text/plain": [
              "<matplotlib.axes._subplots.AxesSubplot at 0x7fc8117da6d8>"
            ]
          },
          "metadata": {
            "tags": []
          },
          "execution_count": 126
        },
        {
          "output_type": "display_data",
          "data": {
            "image/png": "[encoded data removed]",
            "text/plain": [
              "<Figure size 432x288 with 1 Axes>"
            ]
          },
          "metadata": {
            "tags": []
          }
        }
      ]
    },
    {
      "cell_type": "code",
      "metadata": {
        "id": "i8HFV7yEC3fd",
        "colab_type": "code",
        "outputId": "2a234992-3b1c-45e5-e482-24e33fea15e5",
        "colab": {
          "base_uri": "https://localhost:8080/",
          "height": 455
        }
      },
      "source": [
        "g = sns.FacetGrid(df_new, row=\"sex\", col=\"class\", margin_titles=True)\n",
        "bins = np.linspace(0, 60, 13)\n",
        "g.map(plt.hist, \"diff_secondes\", color=\"steelblue\", bins=bins)"
      ],
      "execution_count": 0,
      "outputs": [
        {
          "output_type": "execute_result",
          "data": {
            "text/plain": [
              "<seaborn.axisgrid.FacetGrid at 0x7fc811199a58>"
            ]
          },
          "metadata": {
            "tags": []
          },
          "execution_count": 127
        },
        {
          "output_type": "display_data",
          "data": {
            "image/png": "[encoded data removed]",
            "text/plain": [
              "<Figure size 432x432 with 4 Axes>"
            ]
          },
          "metadata": {
            "tags": []
          }
        }
      ]
    },
    {
      "cell_type": "markdown",
      "metadata": {
        "id": "wFia5YRp9S3O",
        "colab_type": "text"
      },
      "source": [
        "==> Fraud is often done exactly right after registration"
      ]
    },
    {
      "cell_type": "markdown",
      "metadata": {
        "id": "CpIW0GHOe3ES",
        "colab_type": "text"
      },
      "source": [
        "Dummify my quali variables"
      ]
    },
    {
      "cell_type": "code",
      "metadata": {
        "id": "GpCcEIkrdBVw",
        "colab_type": "code",
        "colab": {}
      },
      "source": [
        "df_new = pd.get_dummies(df_new, drop_first=True, dummy_na=True)"
      ],
      "execution_count": 0,
      "outputs": []
    },
    {
      "cell_type": "code",
      "metadata": {
        "id": "h-024JAhdIkK",
        "colab_type": "code",
        "outputId": "7cc1901c-0f28-4ad1-a888-aa83a4b7f46e",
        "colab": {
          "base_uri": "https://localhost:8080/",
          "height": 286
        }
      },
      "source": [
        "df_new.head()"
      ],
      "execution_count": 0,
      "outputs": [
        {
          "output_type": "execute_result",
          "data": {
            "text/html": [
              "<div>\n",
              "<style scoped>\n",
              "    .dataframe tbody tr th:only-of-type {\n",
              "        vertical-align: middle;\n",
              "    }\n",
              "\n",
              "    .dataframe tbody tr th {\n",
              "        vertical-align: top;\n",
              "    }\n",
              "\n",
              "    .dataframe thead th {\n",
              "        text-align: right;\n",
              "    }\n",
              "</style>\n",
              "<table border=\"1\" class=\"dataframe\">\n",
              "  <thead>\n",
              "    <tr style=\"text-align: right;\">\n",
              "      <th></th>\n",
              "      <th>user_id_x</th>\n",
              "      <th>purchase_value</th>\n",
              "      <th>age</th>\n",
              "      <th>class</th>\n",
              "      <th>duration_second</th>\n",
              "      <th>diff_jours</th>\n",
              "      <th>diff_heures</th>\n",
              "      <th>diff_minutes</th>\n",
              "      <th>diff_secondes</th>\n",
              "      <th>source_Direct</th>\n",
              "      <th>source_SEO</th>\n",
              "      <th>source_nan</th>\n",
              "      <th>browser_FireFox</th>\n",
              "      <th>browser_IE</th>\n",
              "      <th>browser_Opera</th>\n",
              "      <th>browser_Safari</th>\n",
              "      <th>browser_nan</th>\n",
              "      <th>sex_M</th>\n",
              "      <th>sex_nan</th>\n",
              "      <th>country_Albania</th>\n",
              "      <th>country_Algeria</th>\n",
              "      <th>country_Angola</th>\n",
              "      <th>country_Antigua and Barbuda</th>\n",
              "      <th>country_Argentina</th>\n",
              "      <th>country_Armenia</th>\n",
              "      <th>country_Australia</th>\n",
              "      <th>country_Austria</th>\n",
              "      <th>country_Azerbaijan</th>\n",
              "      <th>country_Bahamas</th>\n",
              "      <th>country_Bahrain</th>\n",
              "      <th>country_Bangladesh</th>\n",
              "      <th>country_Barbados</th>\n",
              "      <th>country_Belarus</th>\n",
              "      <th>country_Belgium</th>\n",
              "      <th>country_Belize</th>\n",
              "      <th>country_Benin</th>\n",
              "      <th>country_Bermuda</th>\n",
              "      <th>country_Bhutan</th>\n",
              "      <th>country_Bolivia</th>\n",
              "      <th>country_Bonaire; Sint Eustatius; Saba</th>\n",
              "      <th>...</th>\n",
              "      <th>country_Slovenia</th>\n",
              "      <th>country_South Africa</th>\n",
              "      <th>country_South Sudan</th>\n",
              "      <th>country_Spain</th>\n",
              "      <th>country_Sri Lanka</th>\n",
              "      <th>country_Sudan</th>\n",
              "      <th>country_Sweden</th>\n",
              "      <th>country_Switzerland</th>\n",
              "      <th>country_Syrian Arab Republic</th>\n",
              "      <th>country_Taiwan; Republic of China (ROC)</th>\n",
              "      <th>country_Tajikistan</th>\n",
              "      <th>country_Tanzania United Republic of</th>\n",
              "      <th>country_Thailand</th>\n",
              "      <th>country_Trinidad and Tobago</th>\n",
              "      <th>country_Tunisia</th>\n",
              "      <th>country_Turkey</th>\n",
              "      <th>country_Turkmenistan</th>\n",
              "      <th>country_Uganda</th>\n",
              "      <th>country_Ukraine</th>\n",
              "      <th>country_United Arab Emirates</th>\n",
              "      <th>country_United Kingdom</th>\n",
              "      <th>country_United States</th>\n",
              "      <th>country_Uruguay</th>\n",
              "      <th>country_Uzbekistan</th>\n",
              "      <th>country_Vanuatu</th>\n",
              "      <th>country_Venezuela</th>\n",
              "      <th>country_Viet Nam</th>\n",
              "      <th>country_Virgin Islands (U.S.)</th>\n",
              "      <th>country_Yemen</th>\n",
              "      <th>country_Zambia</th>\n",
              "      <th>country_Zimbabwe</th>\n",
              "      <th>country_nan</th>\n",
              "      <th>country_nan</th>\n",
              "      <th>Alerte_not_sure</th>\n",
              "      <th>Alerte_safe</th>\n",
              "      <th>Alerte_nan</th>\n",
              "      <th>period_Morning</th>\n",
              "      <th>period_Afternoon</th>\n",
              "      <th>period_Evening</th>\n",
              "      <th>period_nan</th>\n",
              "    </tr>\n",
              "  </thead>\n",
              "  <tbody>\n",
              "    <tr>\n",
              "      <th>0</th>\n",
              "      <td>22058</td>\n",
              "      <td>34</td>\n",
              "      <td>39</td>\n",
              "      <td>0</td>\n",
              "      <td>4506682.0</td>\n",
              "      <td>52</td>\n",
              "      <td>3</td>\n",
              "      <td>51</td>\n",
              "      <td>22</td>\n",
              "      <td>0</td>\n",
              "      <td>1</td>\n",
              "      <td>0</td>\n",
              "      <td>0</td>\n",
              "      <td>0</td>\n",
              "      <td>0</td>\n",
              "      <td>0</td>\n",
              "      <td>0</td>\n",
              "      <td>1</td>\n",
              "      <td>0</td>\n",
              "      <td>0</td>\n",
              "      <td>0</td>\n",
              "      <td>0</td>\n",
              "      <td>0</td>\n",
              "      <td>0</td>\n",
              "      <td>0</td>\n",
              "      <td>0</td>\n",
              "      <td>0</td>\n",
              "      <td>0</td>\n",
              "      <td>0</td>\n",
              "      <td>0</td>\n",
              "      <td>0</td>\n",
              "      <td>0</td>\n",
              "      <td>0</td>\n",
              "      <td>0</td>\n",
              "      <td>0</td>\n",
              "      <td>0</td>\n",
              "      <td>0</td>\n",
              "      <td>0</td>\n",
              "      <td>0</td>\n",
              "      <td>0</td>\n",
              "      <td>...</td>\n",
              "      <td>0</td>\n",
              "      <td>0</td>\n",
              "      <td>0</td>\n",
              "      <td>0</td>\n",
              "      <td>0</td>\n",
              "      <td>0</td>\n",
              "      <td>0</td>\n",
              "      <td>0</td>\n",
              "      <td>0</td>\n",
              "      <td>0</td>\n",
              "      <td>0</td>\n",
              "      <td>0</td>\n",
              "      <td>0</td>\n",
              "      <td>0</td>\n",
              "      <td>0</td>\n",
              "      <td>0</td>\n",
              "      <td>0</td>\n",
              "      <td>0</td>\n",
              "      <td>0</td>\n",
              "      <td>0</td>\n",
              "      <td>0</td>\n",
              "      <td>0</td>\n",
              "      <td>0</td>\n",
              "      <td>0</td>\n",
              "      <td>0</td>\n",
              "      <td>0</td>\n",
              "      <td>0</td>\n",
              "      <td>0</td>\n",
              "      <td>0</td>\n",
              "      <td>0</td>\n",
              "      <td>0</td>\n",
              "      <td>0</td>\n",
              "      <td>0</td>\n",
              "      <td>0</td>\n",
              "      <td>1</td>\n",
              "      <td>0</td>\n",
              "      <td>0</td>\n",
              "      <td>0</td>\n",
              "      <td>0</td>\n",
              "      <td>0</td>\n",
              "    </tr>\n",
              "    <tr>\n",
              "      <th>1</th>\n",
              "      <td>333320</td>\n",
              "      <td>16</td>\n",
              "      <td>53</td>\n",
              "      <td>0</td>\n",
              "      <td>17944.0</td>\n",
              "      <td>0</td>\n",
              "      <td>4</td>\n",
              "      <td>59</td>\n",
              "      <td>4</td>\n",
              "      <td>0</td>\n",
              "      <td>0</td>\n",
              "      <td>0</td>\n",
              "      <td>0</td>\n",
              "      <td>0</td>\n",
              "      <td>0</td>\n",
              "      <td>0</td>\n",
              "      <td>0</td>\n",
              "      <td>0</td>\n",
              "      <td>0</td>\n",
              "      <td>0</td>\n",
              "      <td>0</td>\n",
              "      <td>0</td>\n",
              "      <td>0</td>\n",
              "      <td>0</td>\n",
              "      <td>0</td>\n",
              "      <td>0</td>\n",
              "      <td>0</td>\n",
              "      <td>0</td>\n",
              "      <td>0</td>\n",
              "      <td>0</td>\n",
              "      <td>0</td>\n",
              "      <td>0</td>\n",
              "      <td>0</td>\n",
              "      <td>0</td>\n",
              "      <td>0</td>\n",
              "      <td>0</td>\n",
              "      <td>0</td>\n",
              "      <td>0</td>\n",
              "      <td>0</td>\n",
              "      <td>0</td>\n",
              "      <td>...</td>\n",
              "      <td>0</td>\n",
              "      <td>0</td>\n",
              "      <td>0</td>\n",
              "      <td>0</td>\n",
              "      <td>0</td>\n",
              "      <td>0</td>\n",
              "      <td>0</td>\n",
              "      <td>0</td>\n",
              "      <td>0</td>\n",
              "      <td>0</td>\n",
              "      <td>0</td>\n",
              "      <td>0</td>\n",
              "      <td>0</td>\n",
              "      <td>0</td>\n",
              "      <td>0</td>\n",
              "      <td>0</td>\n",
              "      <td>0</td>\n",
              "      <td>0</td>\n",
              "      <td>0</td>\n",
              "      <td>0</td>\n",
              "      <td>0</td>\n",
              "      <td>1</td>\n",
              "      <td>0</td>\n",
              "      <td>0</td>\n",
              "      <td>0</td>\n",
              "      <td>0</td>\n",
              "      <td>0</td>\n",
              "      <td>0</td>\n",
              "      <td>0</td>\n",
              "      <td>0</td>\n",
              "      <td>0</td>\n",
              "      <td>0</td>\n",
              "      <td>0</td>\n",
              "      <td>0</td>\n",
              "      <td>1</td>\n",
              "      <td>0</td>\n",
              "      <td>0</td>\n",
              "      <td>0</td>\n",
              "      <td>0</td>\n",
              "      <td>0</td>\n",
              "    </tr>\n",
              "    <tr>\n",
              "      <th>2</th>\n",
              "      <td>1359</td>\n",
              "      <td>15</td>\n",
              "      <td>53</td>\n",
              "      <td>1</td>\n",
              "      <td>1.0</td>\n",
              "      <td>0</td>\n",
              "      <td>0</td>\n",
              "      <td>0</td>\n",
              "      <td>1</td>\n",
              "      <td>0</td>\n",
              "      <td>1</td>\n",
              "      <td>0</td>\n",
              "      <td>0</td>\n",
              "      <td>0</td>\n",
              "      <td>1</td>\n",
              "      <td>0</td>\n",
              "      <td>0</td>\n",
              "      <td>1</td>\n",
              "      <td>0</td>\n",
              "      <td>0</td>\n",
              "      <td>0</td>\n",
              "      <td>0</td>\n",
              "      <td>0</td>\n",
              "      <td>0</td>\n",
              "      <td>0</td>\n",
              "      <td>0</td>\n",
              "      <td>0</td>\n",
              "      <td>0</td>\n",
              "      <td>0</td>\n",
              "      <td>0</td>\n",
              "      <td>0</td>\n",
              "      <td>0</td>\n",
              "      <td>0</td>\n",
              "      <td>0</td>\n",
              "      <td>0</td>\n",
              "      <td>0</td>\n",
              "      <td>0</td>\n",
              "      <td>0</td>\n",
              "      <td>0</td>\n",
              "      <td>0</td>\n",
              "      <td>...</td>\n",
              "      <td>0</td>\n",
              "      <td>0</td>\n",
              "      <td>0</td>\n",
              "      <td>0</td>\n",
              "      <td>0</td>\n",
              "      <td>0</td>\n",
              "      <td>0</td>\n",
              "      <td>0</td>\n",
              "      <td>0</td>\n",
              "      <td>0</td>\n",
              "      <td>0</td>\n",
              "      <td>0</td>\n",
              "      <td>0</td>\n",
              "      <td>0</td>\n",
              "      <td>0</td>\n",
              "      <td>0</td>\n",
              "      <td>0</td>\n",
              "      <td>0</td>\n",
              "      <td>0</td>\n",
              "      <td>0</td>\n",
              "      <td>0</td>\n",
              "      <td>1</td>\n",
              "      <td>0</td>\n",
              "      <td>0</td>\n",
              "      <td>0</td>\n",
              "      <td>0</td>\n",
              "      <td>0</td>\n",
              "      <td>0</td>\n",
              "      <td>0</td>\n",
              "      <td>0</td>\n",
              "      <td>0</td>\n",
              "      <td>0</td>\n",
              "      <td>0</td>\n",
              "      <td>0</td>\n",
              "      <td>0</td>\n",
              "      <td>0</td>\n",
              "      <td>0</td>\n",
              "      <td>1</td>\n",
              "      <td>0</td>\n",
              "      <td>0</td>\n",
              "    </tr>\n",
              "    <tr>\n",
              "      <th>3</th>\n",
              "      <td>48288</td>\n",
              "      <td>15</td>\n",
              "      <td>53</td>\n",
              "      <td>1</td>\n",
              "      <td>1.0</td>\n",
              "      <td>0</td>\n",
              "      <td>0</td>\n",
              "      <td>0</td>\n",
              "      <td>1</td>\n",
              "      <td>0</td>\n",
              "      <td>1</td>\n",
              "      <td>0</td>\n",
              "      <td>0</td>\n",
              "      <td>0</td>\n",
              "      <td>1</td>\n",
              "      <td>0</td>\n",
              "      <td>0</td>\n",
              "      <td>1</td>\n",
              "      <td>0</td>\n",
              "      <td>0</td>\n",
              "      <td>0</td>\n",
              "      <td>0</td>\n",
              "      <td>0</td>\n",
              "      <td>0</td>\n",
              "      <td>0</td>\n",
              "      <td>0</td>\n",
              "      <td>0</td>\n",
              "      <td>0</td>\n",
              "      <td>0</td>\n",
              "      <td>0</td>\n",
              "      <td>0</td>\n",
              "      <td>0</td>\n",
              "      <td>0</td>\n",
              "      <td>0</td>\n",
              "      <td>0</td>\n",
              "      <td>0</td>\n",
              "      <td>0</td>\n",
              "      <td>0</td>\n",
              "      <td>0</td>\n",
              "      <td>0</td>\n",
              "      <td>...</td>\n",
              "      <td>0</td>\n",
              "      <td>0</td>\n",
              "      <td>0</td>\n",
              "      <td>0</td>\n",
              "      <td>0</td>\n",
              "      <td>0</td>\n",
              "      <td>0</td>\n",
              "      <td>0</td>\n",
              "      <td>0</td>\n",
              "      <td>0</td>\n",
              "      <td>0</td>\n",
              "      <td>0</td>\n",
              "      <td>0</td>\n",
              "      <td>0</td>\n",
              "      <td>0</td>\n",
              "      <td>0</td>\n",
              "      <td>0</td>\n",
              "      <td>0</td>\n",
              "      <td>0</td>\n",
              "      <td>0</td>\n",
              "      <td>0</td>\n",
              "      <td>1</td>\n",
              "      <td>0</td>\n",
              "      <td>0</td>\n",
              "      <td>0</td>\n",
              "      <td>0</td>\n",
              "      <td>0</td>\n",
              "      <td>0</td>\n",
              "      <td>0</td>\n",
              "      <td>0</td>\n",
              "      <td>0</td>\n",
              "      <td>0</td>\n",
              "      <td>0</td>\n",
              "      <td>0</td>\n",
              "      <td>0</td>\n",
              "      <td>0</td>\n",
              "      <td>0</td>\n",
              "      <td>1</td>\n",
              "      <td>0</td>\n",
              "      <td>0</td>\n",
              "    </tr>\n",
              "    <tr>\n",
              "      <th>4</th>\n",
              "      <td>128706</td>\n",
              "      <td>15</td>\n",
              "      <td>53</td>\n",
              "      <td>1</td>\n",
              "      <td>1.0</td>\n",
              "      <td>0</td>\n",
              "      <td>0</td>\n",
              "      <td>0</td>\n",
              "      <td>1</td>\n",
              "      <td>0</td>\n",
              "      <td>1</td>\n",
              "      <td>0</td>\n",
              "      <td>0</td>\n",
              "      <td>0</td>\n",
              "      <td>1</td>\n",
              "      <td>0</td>\n",
              "      <td>0</td>\n",
              "      <td>1</td>\n",
              "      <td>0</td>\n",
              "      <td>0</td>\n",
              "      <td>0</td>\n",
              "      <td>0</td>\n",
              "      <td>0</td>\n",
              "      <td>0</td>\n",
              "      <td>0</td>\n",
              "      <td>0</td>\n",
              "      <td>0</td>\n",
              "      <td>0</td>\n",
              "      <td>0</td>\n",
              "      <td>0</td>\n",
              "      <td>0</td>\n",
              "      <td>0</td>\n",
              "      <td>0</td>\n",
              "      <td>0</td>\n",
              "      <td>0</td>\n",
              "      <td>0</td>\n",
              "      <td>0</td>\n",
              "      <td>0</td>\n",
              "      <td>0</td>\n",
              "      <td>0</td>\n",
              "      <td>...</td>\n",
              "      <td>0</td>\n",
              "      <td>0</td>\n",
              "      <td>0</td>\n",
              "      <td>0</td>\n",
              "      <td>0</td>\n",
              "      <td>0</td>\n",
              "      <td>0</td>\n",
              "      <td>0</td>\n",
              "      <td>0</td>\n",
              "      <td>0</td>\n",
              "      <td>0</td>\n",
              "      <td>0</td>\n",
              "      <td>0</td>\n",
              "      <td>0</td>\n",
              "      <td>0</td>\n",
              "      <td>0</td>\n",
              "      <td>0</td>\n",
              "      <td>0</td>\n",
              "      <td>0</td>\n",
              "      <td>0</td>\n",
              "      <td>0</td>\n",
              "      <td>1</td>\n",
              "      <td>0</td>\n",
              "      <td>0</td>\n",
              "      <td>0</td>\n",
              "      <td>0</td>\n",
              "      <td>0</td>\n",
              "      <td>0</td>\n",
              "      <td>0</td>\n",
              "      <td>0</td>\n",
              "      <td>0</td>\n",
              "      <td>0</td>\n",
              "      <td>0</td>\n",
              "      <td>0</td>\n",
              "      <td>0</td>\n",
              "      <td>0</td>\n",
              "      <td>0</td>\n",
              "      <td>1</td>\n",
              "      <td>0</td>\n",
              "      <td>0</td>\n",
              "    </tr>\n",
              "  </tbody>\n",
              "</table>\n",
              "<p>5 rows × 208 columns</p>\n",
              "</div>"
            ],
            "text/plain": [
              "   user_id_x  purchase_value  age  ...  period_Afternoon  period_Evening  period_nan\n",
              "0      22058              34   39  ...                 0               0           0\n",
              "1     333320              16   53  ...                 0               0           0\n",
              "2       1359              15   53  ...                 1               0           0\n",
              "3      48288              15   53  ...                 1               0           0\n",
              "4     128706              15   53  ...                 1               0           0\n",
              "\n",
              "[5 rows x 208 columns]"
            ]
          },
          "metadata": {
            "tags": []
          },
          "execution_count": 144
        }
      ]
    },
    {
      "cell_type": "markdown",
      "metadata": {
        "id": "GvlXqkmmqYwK",
        "colab_type": "text"
      },
      "source": [
        "### 3_ models prediction "
      ]
    },
    {
      "cell_type": "code",
      "metadata": {
        "id": "kcwMSeveFx4Y",
        "colab_type": "code",
        "colab": {}
      },
      "source": [
        "from sklearn.model_selection import train_test_split\n",
        "train, test = train_test_split(df_new, test_size=0.3, stratify = df_new['class']) "
      ],
      "execution_count": 0,
      "outputs": []
    },
    {
      "cell_type": "code",
      "metadata": {
        "id": "eH4md60aF4xM",
        "colab_type": "code",
        "outputId": "74ec73ea-fa5e-4e12-af6e-89334b4f628c",
        "colab": {
          "base_uri": "https://localhost:8080/",
          "height": 225
        }
      },
      "source": [
        "train.head(3)"
      ],
      "execution_count": 0,
      "outputs": [
        {
          "output_type": "execute_result",
          "data": {
            "text/html": [
              "<div>\n",
              "<style scoped>\n",
              "    .dataframe tbody tr th:only-of-type {\n",
              "        vertical-align: middle;\n",
              "    }\n",
              "\n",
              "    .dataframe tbody tr th {\n",
              "        vertical-align: top;\n",
              "    }\n",
              "\n",
              "    .dataframe thead th {\n",
              "        text-align: right;\n",
              "    }\n",
              "</style>\n",
              "<table border=\"1\" class=\"dataframe\">\n",
              "  <thead>\n",
              "    <tr style=\"text-align: right;\">\n",
              "      <th></th>\n",
              "      <th>user_id_x</th>\n",
              "      <th>purchase_value</th>\n",
              "      <th>age</th>\n",
              "      <th>class</th>\n",
              "      <th>duration_second</th>\n",
              "      <th>diff_jours</th>\n",
              "      <th>diff_heures</th>\n",
              "      <th>diff_minutes</th>\n",
              "      <th>diff_secondes</th>\n",
              "      <th>source_Direct</th>\n",
              "      <th>source_SEO</th>\n",
              "      <th>source_nan</th>\n",
              "      <th>browser_FireFox</th>\n",
              "      <th>browser_IE</th>\n",
              "      <th>browser_Opera</th>\n",
              "      <th>browser_Safari</th>\n",
              "      <th>browser_nan</th>\n",
              "      <th>sex_M</th>\n",
              "      <th>sex_nan</th>\n",
              "      <th>country_Albania</th>\n",
              "      <th>country_Algeria</th>\n",
              "      <th>country_Angola</th>\n",
              "      <th>country_Antigua and Barbuda</th>\n",
              "      <th>country_Argentina</th>\n",
              "      <th>country_Armenia</th>\n",
              "      <th>country_Australia</th>\n",
              "      <th>country_Austria</th>\n",
              "      <th>country_Azerbaijan</th>\n",
              "      <th>country_Bahamas</th>\n",
              "      <th>country_Bahrain</th>\n",
              "      <th>country_Bangladesh</th>\n",
              "      <th>country_Barbados</th>\n",
              "      <th>country_Belarus</th>\n",
              "      <th>country_Belgium</th>\n",
              "      <th>country_Belize</th>\n",
              "      <th>country_Benin</th>\n",
              "      <th>country_Bermuda</th>\n",
              "      <th>country_Bhutan</th>\n",
              "      <th>country_Bolivia</th>\n",
              "      <th>country_Bonaire; Sint Eustatius; Saba</th>\n",
              "      <th>...</th>\n",
              "      <th>country_Slovenia</th>\n",
              "      <th>country_South Africa</th>\n",
              "      <th>country_South Sudan</th>\n",
              "      <th>country_Spain</th>\n",
              "      <th>country_Sri Lanka</th>\n",
              "      <th>country_Sudan</th>\n",
              "      <th>country_Sweden</th>\n",
              "      <th>country_Switzerland</th>\n",
              "      <th>country_Syrian Arab Republic</th>\n",
              "      <th>country_Taiwan; Republic of China (ROC)</th>\n",
              "      <th>country_Tajikistan</th>\n",
              "      <th>country_Tanzania United Republic of</th>\n",
              "      <th>country_Thailand</th>\n",
              "      <th>country_Trinidad and Tobago</th>\n",
              "      <th>country_Tunisia</th>\n",
              "      <th>country_Turkey</th>\n",
              "      <th>country_Turkmenistan</th>\n",
              "      <th>country_Uganda</th>\n",
              "      <th>country_Ukraine</th>\n",
              "      <th>country_United Arab Emirates</th>\n",
              "      <th>country_United Kingdom</th>\n",
              "      <th>country_United States</th>\n",
              "      <th>country_Uruguay</th>\n",
              "      <th>country_Uzbekistan</th>\n",
              "      <th>country_Vanuatu</th>\n",
              "      <th>country_Venezuela</th>\n",
              "      <th>country_Viet Nam</th>\n",
              "      <th>country_Virgin Islands (U.S.)</th>\n",
              "      <th>country_Yemen</th>\n",
              "      <th>country_Zambia</th>\n",
              "      <th>country_Zimbabwe</th>\n",
              "      <th>country_nan</th>\n",
              "      <th>country_nan</th>\n",
              "      <th>Alerte_not_sure</th>\n",
              "      <th>Alerte_safe</th>\n",
              "      <th>Alerte_nan</th>\n",
              "      <th>period_Morning</th>\n",
              "      <th>period_Afternoon</th>\n",
              "      <th>period_Evening</th>\n",
              "      <th>period_nan</th>\n",
              "    </tr>\n",
              "  </thead>\n",
              "  <tbody>\n",
              "    <tr>\n",
              "      <th>2036</th>\n",
              "      <td>357753</td>\n",
              "      <td>40</td>\n",
              "      <td>27</td>\n",
              "      <td>1</td>\n",
              "      <td>1.0</td>\n",
              "      <td>0</td>\n",
              "      <td>0</td>\n",
              "      <td>0</td>\n",
              "      <td>1</td>\n",
              "      <td>0</td>\n",
              "      <td>0</td>\n",
              "      <td>0</td>\n",
              "      <td>0</td>\n",
              "      <td>0</td>\n",
              "      <td>0</td>\n",
              "      <td>1</td>\n",
              "      <td>0</td>\n",
              "      <td>1</td>\n",
              "      <td>0</td>\n",
              "      <td>0</td>\n",
              "      <td>0</td>\n",
              "      <td>0</td>\n",
              "      <td>0</td>\n",
              "      <td>0</td>\n",
              "      <td>0</td>\n",
              "      <td>0</td>\n",
              "      <td>0</td>\n",
              "      <td>0</td>\n",
              "      <td>0</td>\n",
              "      <td>0</td>\n",
              "      <td>0</td>\n",
              "      <td>0</td>\n",
              "      <td>0</td>\n",
              "      <td>0</td>\n",
              "      <td>0</td>\n",
              "      <td>0</td>\n",
              "      <td>0</td>\n",
              "      <td>0</td>\n",
              "      <td>0</td>\n",
              "      <td>0</td>\n",
              "      <td>...</td>\n",
              "      <td>0</td>\n",
              "      <td>0</td>\n",
              "      <td>0</td>\n",
              "      <td>0</td>\n",
              "      <td>0</td>\n",
              "      <td>0</td>\n",
              "      <td>0</td>\n",
              "      <td>0</td>\n",
              "      <td>0</td>\n",
              "      <td>0</td>\n",
              "      <td>0</td>\n",
              "      <td>0</td>\n",
              "      <td>0</td>\n",
              "      <td>0</td>\n",
              "      <td>0</td>\n",
              "      <td>0</td>\n",
              "      <td>0</td>\n",
              "      <td>0</td>\n",
              "      <td>0</td>\n",
              "      <td>0</td>\n",
              "      <td>0</td>\n",
              "      <td>1</td>\n",
              "      <td>0</td>\n",
              "      <td>0</td>\n",
              "      <td>0</td>\n",
              "      <td>0</td>\n",
              "      <td>0</td>\n",
              "      <td>0</td>\n",
              "      <td>0</td>\n",
              "      <td>0</td>\n",
              "      <td>0</td>\n",
              "      <td>0</td>\n",
              "      <td>0</td>\n",
              "      <td>0</td>\n",
              "      <td>0</td>\n",
              "      <td>0</td>\n",
              "      <td>1</td>\n",
              "      <td>0</td>\n",
              "      <td>0</td>\n",
              "      <td>0</td>\n",
              "    </tr>\n",
              "    <tr>\n",
              "      <th>91838</th>\n",
              "      <td>128018</td>\n",
              "      <td>10</td>\n",
              "      <td>31</td>\n",
              "      <td>0</td>\n",
              "      <td>5903921.0</td>\n",
              "      <td>68</td>\n",
              "      <td>7</td>\n",
              "      <td>58</td>\n",
              "      <td>41</td>\n",
              "      <td>0</td>\n",
              "      <td>1</td>\n",
              "      <td>0</td>\n",
              "      <td>0</td>\n",
              "      <td>0</td>\n",
              "      <td>0</td>\n",
              "      <td>0</td>\n",
              "      <td>0</td>\n",
              "      <td>0</td>\n",
              "      <td>0</td>\n",
              "      <td>0</td>\n",
              "      <td>0</td>\n",
              "      <td>0</td>\n",
              "      <td>0</td>\n",
              "      <td>0</td>\n",
              "      <td>0</td>\n",
              "      <td>0</td>\n",
              "      <td>0</td>\n",
              "      <td>0</td>\n",
              "      <td>0</td>\n",
              "      <td>0</td>\n",
              "      <td>0</td>\n",
              "      <td>0</td>\n",
              "      <td>0</td>\n",
              "      <td>0</td>\n",
              "      <td>0</td>\n",
              "      <td>0</td>\n",
              "      <td>0</td>\n",
              "      <td>0</td>\n",
              "      <td>0</td>\n",
              "      <td>0</td>\n",
              "      <td>...</td>\n",
              "      <td>0</td>\n",
              "      <td>0</td>\n",
              "      <td>0</td>\n",
              "      <td>0</td>\n",
              "      <td>0</td>\n",
              "      <td>0</td>\n",
              "      <td>0</td>\n",
              "      <td>0</td>\n",
              "      <td>0</td>\n",
              "      <td>0</td>\n",
              "      <td>0</td>\n",
              "      <td>0</td>\n",
              "      <td>0</td>\n",
              "      <td>0</td>\n",
              "      <td>0</td>\n",
              "      <td>0</td>\n",
              "      <td>0</td>\n",
              "      <td>0</td>\n",
              "      <td>0</td>\n",
              "      <td>0</td>\n",
              "      <td>0</td>\n",
              "      <td>1</td>\n",
              "      <td>0</td>\n",
              "      <td>0</td>\n",
              "      <td>0</td>\n",
              "      <td>0</td>\n",
              "      <td>0</td>\n",
              "      <td>0</td>\n",
              "      <td>0</td>\n",
              "      <td>0</td>\n",
              "      <td>0</td>\n",
              "      <td>0</td>\n",
              "      <td>0</td>\n",
              "      <td>0</td>\n",
              "      <td>1</td>\n",
              "      <td>0</td>\n",
              "      <td>0</td>\n",
              "      <td>0</td>\n",
              "      <td>0</td>\n",
              "      <td>0</td>\n",
              "    </tr>\n",
              "    <tr>\n",
              "      <th>9776</th>\n",
              "      <td>96943</td>\n",
              "      <td>11</td>\n",
              "      <td>23</td>\n",
              "      <td>1</td>\n",
              "      <td>1.0</td>\n",
              "      <td>0</td>\n",
              "      <td>0</td>\n",
              "      <td>0</td>\n",
              "      <td>1</td>\n",
              "      <td>0</td>\n",
              "      <td>1</td>\n",
              "      <td>0</td>\n",
              "      <td>0</td>\n",
              "      <td>0</td>\n",
              "      <td>1</td>\n",
              "      <td>0</td>\n",
              "      <td>0</td>\n",
              "      <td>1</td>\n",
              "      <td>0</td>\n",
              "      <td>0</td>\n",
              "      <td>0</td>\n",
              "      <td>0</td>\n",
              "      <td>0</td>\n",
              "      <td>0</td>\n",
              "      <td>0</td>\n",
              "      <td>0</td>\n",
              "      <td>0</td>\n",
              "      <td>0</td>\n",
              "      <td>0</td>\n",
              "      <td>0</td>\n",
              "      <td>0</td>\n",
              "      <td>0</td>\n",
              "      <td>0</td>\n",
              "      <td>0</td>\n",
              "      <td>0</td>\n",
              "      <td>0</td>\n",
              "      <td>0</td>\n",
              "      <td>0</td>\n",
              "      <td>0</td>\n",
              "      <td>0</td>\n",
              "      <td>...</td>\n",
              "      <td>0</td>\n",
              "      <td>0</td>\n",
              "      <td>0</td>\n",
              "      <td>0</td>\n",
              "      <td>0</td>\n",
              "      <td>0</td>\n",
              "      <td>0</td>\n",
              "      <td>0</td>\n",
              "      <td>0</td>\n",
              "      <td>0</td>\n",
              "      <td>0</td>\n",
              "      <td>0</td>\n",
              "      <td>0</td>\n",
              "      <td>0</td>\n",
              "      <td>0</td>\n",
              "      <td>0</td>\n",
              "      <td>0</td>\n",
              "      <td>0</td>\n",
              "      <td>0</td>\n",
              "      <td>0</td>\n",
              "      <td>0</td>\n",
              "      <td>1</td>\n",
              "      <td>0</td>\n",
              "      <td>0</td>\n",
              "      <td>0</td>\n",
              "      <td>0</td>\n",
              "      <td>0</td>\n",
              "      <td>0</td>\n",
              "      <td>0</td>\n",
              "      <td>0</td>\n",
              "      <td>0</td>\n",
              "      <td>0</td>\n",
              "      <td>0</td>\n",
              "      <td>0</td>\n",
              "      <td>0</td>\n",
              "      <td>0</td>\n",
              "      <td>0</td>\n",
              "      <td>1</td>\n",
              "      <td>0</td>\n",
              "      <td>0</td>\n",
              "    </tr>\n",
              "  </tbody>\n",
              "</table>\n",
              "<p>3 rows × 208 columns</p>\n",
              "</div>"
            ],
            "text/plain": [
              "       user_id_x  purchase_value  ...  period_Evening  period_nan\n",
              "2036      357753              40  ...               0           0\n",
              "91838     128018              10  ...               0           0\n",
              "9776       96943              11  ...               0           0\n",
              "\n",
              "[3 rows x 208 columns]"
            ]
          },
          "metadata": {
            "tags": []
          },
          "execution_count": 146
        }
      ]
    },
    {
      "cell_type": "code",
      "metadata": {
        "id": "YVdGL9d3F4tt",
        "colab_type": "code",
        "outputId": "302677be-93e6-4972-aa3d-6f391ede963f",
        "colab": {
          "base_uri": "https://localhost:8080/",
          "height": 225
        }
      },
      "source": [
        "test.head(3)"
      ],
      "execution_count": 0,
      "outputs": [
        {
          "output_type": "execute_result",
          "data": {
            "text/html": [
              "<div>\n",
              "<style scoped>\n",
              "    .dataframe tbody tr th:only-of-type {\n",
              "        vertical-align: middle;\n",
              "    }\n",
              "\n",
              "    .dataframe tbody tr th {\n",
              "        vertical-align: top;\n",
              "    }\n",
              "\n",
              "    .dataframe thead th {\n",
              "        text-align: right;\n",
              "    }\n",
              "</style>\n",
              "<table border=\"1\" class=\"dataframe\">\n",
              "  <thead>\n",
              "    <tr style=\"text-align: right;\">\n",
              "      <th></th>\n",
              "      <th>user_id_x</th>\n",
              "      <th>purchase_value</th>\n",
              "      <th>age</th>\n",
              "      <th>class</th>\n",
              "      <th>duration_second</th>\n",
              "      <th>diff_jours</th>\n",
              "      <th>diff_heures</th>\n",
              "      <th>diff_minutes</th>\n",
              "      <th>diff_secondes</th>\n",
              "      <th>source_Direct</th>\n",
              "      <th>source_SEO</th>\n",
              "      <th>source_nan</th>\n",
              "      <th>browser_FireFox</th>\n",
              "      <th>browser_IE</th>\n",
              "      <th>browser_Opera</th>\n",
              "      <th>browser_Safari</th>\n",
              "      <th>browser_nan</th>\n",
              "      <th>sex_M</th>\n",
              "      <th>sex_nan</th>\n",
              "      <th>country_Albania</th>\n",
              "      <th>country_Algeria</th>\n",
              "      <th>country_Angola</th>\n",
              "      <th>country_Antigua and Barbuda</th>\n",
              "      <th>country_Argentina</th>\n",
              "      <th>country_Armenia</th>\n",
              "      <th>country_Australia</th>\n",
              "      <th>country_Austria</th>\n",
              "      <th>country_Azerbaijan</th>\n",
              "      <th>country_Bahamas</th>\n",
              "      <th>country_Bahrain</th>\n",
              "      <th>country_Bangladesh</th>\n",
              "      <th>country_Barbados</th>\n",
              "      <th>country_Belarus</th>\n",
              "      <th>country_Belgium</th>\n",
              "      <th>country_Belize</th>\n",
              "      <th>country_Benin</th>\n",
              "      <th>country_Bermuda</th>\n",
              "      <th>country_Bhutan</th>\n",
              "      <th>country_Bolivia</th>\n",
              "      <th>country_Bonaire; Sint Eustatius; Saba</th>\n",
              "      <th>...</th>\n",
              "      <th>country_Slovenia</th>\n",
              "      <th>country_South Africa</th>\n",
              "      <th>country_South Sudan</th>\n",
              "      <th>country_Spain</th>\n",
              "      <th>country_Sri Lanka</th>\n",
              "      <th>country_Sudan</th>\n",
              "      <th>country_Sweden</th>\n",
              "      <th>country_Switzerland</th>\n",
              "      <th>country_Syrian Arab Republic</th>\n",
              "      <th>country_Taiwan; Republic of China (ROC)</th>\n",
              "      <th>country_Tajikistan</th>\n",
              "      <th>country_Tanzania United Republic of</th>\n",
              "      <th>country_Thailand</th>\n",
              "      <th>country_Trinidad and Tobago</th>\n",
              "      <th>country_Tunisia</th>\n",
              "      <th>country_Turkey</th>\n",
              "      <th>country_Turkmenistan</th>\n",
              "      <th>country_Uganda</th>\n",
              "      <th>country_Ukraine</th>\n",
              "      <th>country_United Arab Emirates</th>\n",
              "      <th>country_United Kingdom</th>\n",
              "      <th>country_United States</th>\n",
              "      <th>country_Uruguay</th>\n",
              "      <th>country_Uzbekistan</th>\n",
              "      <th>country_Vanuatu</th>\n",
              "      <th>country_Venezuela</th>\n",
              "      <th>country_Viet Nam</th>\n",
              "      <th>country_Virgin Islands (U.S.)</th>\n",
              "      <th>country_Yemen</th>\n",
              "      <th>country_Zambia</th>\n",
              "      <th>country_Zimbabwe</th>\n",
              "      <th>country_nan</th>\n",
              "      <th>country_nan</th>\n",
              "      <th>Alerte_not_sure</th>\n",
              "      <th>Alerte_safe</th>\n",
              "      <th>Alerte_nan</th>\n",
              "      <th>period_Morning</th>\n",
              "      <th>period_Afternoon</th>\n",
              "      <th>period_Evening</th>\n",
              "      <th>period_nan</th>\n",
              "    </tr>\n",
              "  </thead>\n",
              "  <tbody>\n",
              "    <tr>\n",
              "      <th>117590</th>\n",
              "      <td>24498</td>\n",
              "      <td>11</td>\n",
              "      <td>31</td>\n",
              "      <td>0</td>\n",
              "      <td>4096816.0</td>\n",
              "      <td>47</td>\n",
              "      <td>10</td>\n",
              "      <td>0</td>\n",
              "      <td>16</td>\n",
              "      <td>0</td>\n",
              "      <td>0</td>\n",
              "      <td>0</td>\n",
              "      <td>0</td>\n",
              "      <td>0</td>\n",
              "      <td>0</td>\n",
              "      <td>1</td>\n",
              "      <td>0</td>\n",
              "      <td>0</td>\n",
              "      <td>0</td>\n",
              "      <td>0</td>\n",
              "      <td>0</td>\n",
              "      <td>0</td>\n",
              "      <td>0</td>\n",
              "      <td>0</td>\n",
              "      <td>0</td>\n",
              "      <td>0</td>\n",
              "      <td>0</td>\n",
              "      <td>0</td>\n",
              "      <td>0</td>\n",
              "      <td>0</td>\n",
              "      <td>0</td>\n",
              "      <td>0</td>\n",
              "      <td>0</td>\n",
              "      <td>0</td>\n",
              "      <td>0</td>\n",
              "      <td>0</td>\n",
              "      <td>0</td>\n",
              "      <td>0</td>\n",
              "      <td>0</td>\n",
              "      <td>0</td>\n",
              "      <td>...</td>\n",
              "      <td>0</td>\n",
              "      <td>0</td>\n",
              "      <td>0</td>\n",
              "      <td>0</td>\n",
              "      <td>0</td>\n",
              "      <td>0</td>\n",
              "      <td>0</td>\n",
              "      <td>0</td>\n",
              "      <td>0</td>\n",
              "      <td>0</td>\n",
              "      <td>0</td>\n",
              "      <td>0</td>\n",
              "      <td>0</td>\n",
              "      <td>0</td>\n",
              "      <td>0</td>\n",
              "      <td>0</td>\n",
              "      <td>0</td>\n",
              "      <td>0</td>\n",
              "      <td>0</td>\n",
              "      <td>0</td>\n",
              "      <td>0</td>\n",
              "      <td>1</td>\n",
              "      <td>0</td>\n",
              "      <td>0</td>\n",
              "      <td>0</td>\n",
              "      <td>0</td>\n",
              "      <td>0</td>\n",
              "      <td>0</td>\n",
              "      <td>0</td>\n",
              "      <td>0</td>\n",
              "      <td>0</td>\n",
              "      <td>0</td>\n",
              "      <td>0</td>\n",
              "      <td>0</td>\n",
              "      <td>1</td>\n",
              "      <td>0</td>\n",
              "      <td>0</td>\n",
              "      <td>1</td>\n",
              "      <td>0</td>\n",
              "      <td>0</td>\n",
              "    </tr>\n",
              "    <tr>\n",
              "      <th>39822</th>\n",
              "      <td>362699</td>\n",
              "      <td>44</td>\n",
              "      <td>24</td>\n",
              "      <td>0</td>\n",
              "      <td>5093621.0</td>\n",
              "      <td>58</td>\n",
              "      <td>22</td>\n",
              "      <td>53</td>\n",
              "      <td>41</td>\n",
              "      <td>1</td>\n",
              "      <td>0</td>\n",
              "      <td>0</td>\n",
              "      <td>0</td>\n",
              "      <td>0</td>\n",
              "      <td>0</td>\n",
              "      <td>0</td>\n",
              "      <td>0</td>\n",
              "      <td>1</td>\n",
              "      <td>0</td>\n",
              "      <td>0</td>\n",
              "      <td>0</td>\n",
              "      <td>0</td>\n",
              "      <td>0</td>\n",
              "      <td>0</td>\n",
              "      <td>0</td>\n",
              "      <td>0</td>\n",
              "      <td>0</td>\n",
              "      <td>0</td>\n",
              "      <td>0</td>\n",
              "      <td>0</td>\n",
              "      <td>0</td>\n",
              "      <td>0</td>\n",
              "      <td>0</td>\n",
              "      <td>0</td>\n",
              "      <td>0</td>\n",
              "      <td>0</td>\n",
              "      <td>0</td>\n",
              "      <td>0</td>\n",
              "      <td>0</td>\n",
              "      <td>0</td>\n",
              "      <td>...</td>\n",
              "      <td>0</td>\n",
              "      <td>0</td>\n",
              "      <td>0</td>\n",
              "      <td>0</td>\n",
              "      <td>0</td>\n",
              "      <td>0</td>\n",
              "      <td>0</td>\n",
              "      <td>0</td>\n",
              "      <td>0</td>\n",
              "      <td>0</td>\n",
              "      <td>0</td>\n",
              "      <td>0</td>\n",
              "      <td>0</td>\n",
              "      <td>0</td>\n",
              "      <td>0</td>\n",
              "      <td>0</td>\n",
              "      <td>0</td>\n",
              "      <td>0</td>\n",
              "      <td>0</td>\n",
              "      <td>0</td>\n",
              "      <td>0</td>\n",
              "      <td>0</td>\n",
              "      <td>0</td>\n",
              "      <td>0</td>\n",
              "      <td>0</td>\n",
              "      <td>0</td>\n",
              "      <td>0</td>\n",
              "      <td>0</td>\n",
              "      <td>0</td>\n",
              "      <td>0</td>\n",
              "      <td>0</td>\n",
              "      <td>1</td>\n",
              "      <td>0</td>\n",
              "      <td>0</td>\n",
              "      <td>1</td>\n",
              "      <td>0</td>\n",
              "      <td>0</td>\n",
              "      <td>0</td>\n",
              "      <td>0</td>\n",
              "      <td>0</td>\n",
              "    </tr>\n",
              "    <tr>\n",
              "      <th>142327</th>\n",
              "      <td>205973</td>\n",
              "      <td>50</td>\n",
              "      <td>35</td>\n",
              "      <td>0</td>\n",
              "      <td>9253886.0</td>\n",
              "      <td>107</td>\n",
              "      <td>2</td>\n",
              "      <td>31</td>\n",
              "      <td>26</td>\n",
              "      <td>0</td>\n",
              "      <td>0</td>\n",
              "      <td>0</td>\n",
              "      <td>0</td>\n",
              "      <td>0</td>\n",
              "      <td>0</td>\n",
              "      <td>0</td>\n",
              "      <td>0</td>\n",
              "      <td>1</td>\n",
              "      <td>0</td>\n",
              "      <td>0</td>\n",
              "      <td>0</td>\n",
              "      <td>0</td>\n",
              "      <td>0</td>\n",
              "      <td>0</td>\n",
              "      <td>0</td>\n",
              "      <td>0</td>\n",
              "      <td>0</td>\n",
              "      <td>0</td>\n",
              "      <td>0</td>\n",
              "      <td>0</td>\n",
              "      <td>0</td>\n",
              "      <td>0</td>\n",
              "      <td>0</td>\n",
              "      <td>0</td>\n",
              "      <td>0</td>\n",
              "      <td>0</td>\n",
              "      <td>0</td>\n",
              "      <td>0</td>\n",
              "      <td>0</td>\n",
              "      <td>0</td>\n",
              "      <td>...</td>\n",
              "      <td>0</td>\n",
              "      <td>0</td>\n",
              "      <td>0</td>\n",
              "      <td>0</td>\n",
              "      <td>0</td>\n",
              "      <td>0</td>\n",
              "      <td>0</td>\n",
              "      <td>0</td>\n",
              "      <td>0</td>\n",
              "      <td>0</td>\n",
              "      <td>0</td>\n",
              "      <td>0</td>\n",
              "      <td>0</td>\n",
              "      <td>0</td>\n",
              "      <td>0</td>\n",
              "      <td>0</td>\n",
              "      <td>0</td>\n",
              "      <td>0</td>\n",
              "      <td>0</td>\n",
              "      <td>0</td>\n",
              "      <td>1</td>\n",
              "      <td>0</td>\n",
              "      <td>0</td>\n",
              "      <td>0</td>\n",
              "      <td>0</td>\n",
              "      <td>0</td>\n",
              "      <td>0</td>\n",
              "      <td>0</td>\n",
              "      <td>0</td>\n",
              "      <td>0</td>\n",
              "      <td>0</td>\n",
              "      <td>0</td>\n",
              "      <td>0</td>\n",
              "      <td>0</td>\n",
              "      <td>1</td>\n",
              "      <td>0</td>\n",
              "      <td>0</td>\n",
              "      <td>1</td>\n",
              "      <td>0</td>\n",
              "      <td>0</td>\n",
              "    </tr>\n",
              "  </tbody>\n",
              "</table>\n",
              "<p>3 rows × 208 columns</p>\n",
              "</div>"
            ],
            "text/plain": [
              "        user_id_x  purchase_value  ...  period_Evening  period_nan\n",
              "117590      24498              11  ...               0           0\n",
              "39822      362699              44  ...               0           0\n",
              "142327     205973              50  ...               0           0\n",
              "\n",
              "[3 rows x 208 columns]"
            ]
          },
          "metadata": {
            "tags": []
          },
          "execution_count": 147
        }
      ]
    },
    {
      "cell_type": "markdown",
      "metadata": {
        "id": "9EbBRHrSzs1I",
        "colab_type": "text"
      },
      "source": [
        "The DataFrame and very unbalanced: (class 0 = 90% & class 1 = 10%)\n",
        "\n",
        "---> it is necessary to take a sample for example of 50% 50%\n",
        "\n",
        "Important:\n",
        "The sample is on the training sample only. Do not do the sample on the test"
      ]
    },
    {
      "cell_type": "code",
      "metadata": {
        "id": "W2jooj0jF4qX",
        "colab_type": "code",
        "colab": {}
      },
      "source": [
        "train_class_1 = pd.DataFrame(train.loc[train[\"class\"] == 1])\n",
        "train_class_0 = pd.DataFrame(train.loc[train[\"class\"] == 0]).sample(len(train_class_1))"
      ],
      "execution_count": 0,
      "outputs": []
    },
    {
      "cell_type": "code",
      "metadata": {
        "id": "MfhNVgLMF4lZ",
        "colab_type": "code",
        "colab": {}
      },
      "source": [
        "train_new = pd.concat([train_class_1,train_class_0])"
      ],
      "execution_count": 0,
      "outputs": []
    },
    {
      "cell_type": "code",
      "metadata": {
        "id": "IAxNXdOHF4hx",
        "colab_type": "code",
        "outputId": "e4acd6af-e5af-40cc-e20c-39fd2e1790eb",
        "colab": {
          "base_uri": "https://localhost:8080/",
          "height": 225
        }
      },
      "source": [
        "train_new.head(3)"
      ],
      "execution_count": 0,
      "outputs": [
        {
          "output_type": "execute_result",
          "data": {
            "text/html": [
              "<div>\n",
              "<style scoped>\n",
              "    .dataframe tbody tr th:only-of-type {\n",
              "        vertical-align: middle;\n",
              "    }\n",
              "\n",
              "    .dataframe tbody tr th {\n",
              "        vertical-align: top;\n",
              "    }\n",
              "\n",
              "    .dataframe thead th {\n",
              "        text-align: right;\n",
              "    }\n",
              "</style>\n",
              "<table border=\"1\" class=\"dataframe\">\n",
              "  <thead>\n",
              "    <tr style=\"text-align: right;\">\n",
              "      <th></th>\n",
              "      <th>user_id_x</th>\n",
              "      <th>purchase_value</th>\n",
              "      <th>age</th>\n",
              "      <th>class</th>\n",
              "      <th>duration_second</th>\n",
              "      <th>diff_jours</th>\n",
              "      <th>diff_heures</th>\n",
              "      <th>diff_minutes</th>\n",
              "      <th>diff_secondes</th>\n",
              "      <th>source_Direct</th>\n",
              "      <th>source_SEO</th>\n",
              "      <th>source_nan</th>\n",
              "      <th>browser_FireFox</th>\n",
              "      <th>browser_IE</th>\n",
              "      <th>browser_Opera</th>\n",
              "      <th>browser_Safari</th>\n",
              "      <th>browser_nan</th>\n",
              "      <th>sex_M</th>\n",
              "      <th>sex_nan</th>\n",
              "      <th>country_Albania</th>\n",
              "      <th>country_Algeria</th>\n",
              "      <th>country_Angola</th>\n",
              "      <th>country_Antigua and Barbuda</th>\n",
              "      <th>country_Argentina</th>\n",
              "      <th>country_Armenia</th>\n",
              "      <th>country_Australia</th>\n",
              "      <th>country_Austria</th>\n",
              "      <th>country_Azerbaijan</th>\n",
              "      <th>country_Bahamas</th>\n",
              "      <th>country_Bahrain</th>\n",
              "      <th>country_Bangladesh</th>\n",
              "      <th>country_Barbados</th>\n",
              "      <th>country_Belarus</th>\n",
              "      <th>country_Belgium</th>\n",
              "      <th>country_Belize</th>\n",
              "      <th>country_Benin</th>\n",
              "      <th>country_Bermuda</th>\n",
              "      <th>country_Bhutan</th>\n",
              "      <th>country_Bolivia</th>\n",
              "      <th>country_Bonaire; Sint Eustatius; Saba</th>\n",
              "      <th>...</th>\n",
              "      <th>country_Slovenia</th>\n",
              "      <th>country_South Africa</th>\n",
              "      <th>country_South Sudan</th>\n",
              "      <th>country_Spain</th>\n",
              "      <th>country_Sri Lanka</th>\n",
              "      <th>country_Sudan</th>\n",
              "      <th>country_Sweden</th>\n",
              "      <th>country_Switzerland</th>\n",
              "      <th>country_Syrian Arab Republic</th>\n",
              "      <th>country_Taiwan; Republic of China (ROC)</th>\n",
              "      <th>country_Tajikistan</th>\n",
              "      <th>country_Tanzania United Republic of</th>\n",
              "      <th>country_Thailand</th>\n",
              "      <th>country_Trinidad and Tobago</th>\n",
              "      <th>country_Tunisia</th>\n",
              "      <th>country_Turkey</th>\n",
              "      <th>country_Turkmenistan</th>\n",
              "      <th>country_Uganda</th>\n",
              "      <th>country_Ukraine</th>\n",
              "      <th>country_United Arab Emirates</th>\n",
              "      <th>country_United Kingdom</th>\n",
              "      <th>country_United States</th>\n",
              "      <th>country_Uruguay</th>\n",
              "      <th>country_Uzbekistan</th>\n",
              "      <th>country_Vanuatu</th>\n",
              "      <th>country_Venezuela</th>\n",
              "      <th>country_Viet Nam</th>\n",
              "      <th>country_Virgin Islands (U.S.)</th>\n",
              "      <th>country_Yemen</th>\n",
              "      <th>country_Zambia</th>\n",
              "      <th>country_Zimbabwe</th>\n",
              "      <th>country_nan</th>\n",
              "      <th>country_nan</th>\n",
              "      <th>Alerte_not_sure</th>\n",
              "      <th>Alerte_safe</th>\n",
              "      <th>Alerte_nan</th>\n",
              "      <th>period_Morning</th>\n",
              "      <th>period_Afternoon</th>\n",
              "      <th>period_Evening</th>\n",
              "      <th>period_nan</th>\n",
              "    </tr>\n",
              "  </thead>\n",
              "  <tbody>\n",
              "    <tr>\n",
              "      <th>2036</th>\n",
              "      <td>357753</td>\n",
              "      <td>40</td>\n",
              "      <td>27</td>\n",
              "      <td>1</td>\n",
              "      <td>1.0</td>\n",
              "      <td>0</td>\n",
              "      <td>0</td>\n",
              "      <td>0</td>\n",
              "      <td>1</td>\n",
              "      <td>0</td>\n",
              "      <td>0</td>\n",
              "      <td>0</td>\n",
              "      <td>0</td>\n",
              "      <td>0</td>\n",
              "      <td>0</td>\n",
              "      <td>1</td>\n",
              "      <td>0</td>\n",
              "      <td>1</td>\n",
              "      <td>0</td>\n",
              "      <td>0</td>\n",
              "      <td>0</td>\n",
              "      <td>0</td>\n",
              "      <td>0</td>\n",
              "      <td>0</td>\n",
              "      <td>0</td>\n",
              "      <td>0</td>\n",
              "      <td>0</td>\n",
              "      <td>0</td>\n",
              "      <td>0</td>\n",
              "      <td>0</td>\n",
              "      <td>0</td>\n",
              "      <td>0</td>\n",
              "      <td>0</td>\n",
              "      <td>0</td>\n",
              "      <td>0</td>\n",
              "      <td>0</td>\n",
              "      <td>0</td>\n",
              "      <td>0</td>\n",
              "      <td>0</td>\n",
              "      <td>0</td>\n",
              "      <td>...</td>\n",
              "      <td>0</td>\n",
              "      <td>0</td>\n",
              "      <td>0</td>\n",
              "      <td>0</td>\n",
              "      <td>0</td>\n",
              "      <td>0</td>\n",
              "      <td>0</td>\n",
              "      <td>0</td>\n",
              "      <td>0</td>\n",
              "      <td>0</td>\n",
              "      <td>0</td>\n",
              "      <td>0</td>\n",
              "      <td>0</td>\n",
              "      <td>0</td>\n",
              "      <td>0</td>\n",
              "      <td>0</td>\n",
              "      <td>0</td>\n",
              "      <td>0</td>\n",
              "      <td>0</td>\n",
              "      <td>0</td>\n",
              "      <td>0</td>\n",
              "      <td>1</td>\n",
              "      <td>0</td>\n",
              "      <td>0</td>\n",
              "      <td>0</td>\n",
              "      <td>0</td>\n",
              "      <td>0</td>\n",
              "      <td>0</td>\n",
              "      <td>0</td>\n",
              "      <td>0</td>\n",
              "      <td>0</td>\n",
              "      <td>0</td>\n",
              "      <td>0</td>\n",
              "      <td>0</td>\n",
              "      <td>0</td>\n",
              "      <td>0</td>\n",
              "      <td>1</td>\n",
              "      <td>0</td>\n",
              "      <td>0</td>\n",
              "      <td>0</td>\n",
              "    </tr>\n",
              "    <tr>\n",
              "      <th>9776</th>\n",
              "      <td>96943</td>\n",
              "      <td>11</td>\n",
              "      <td>23</td>\n",
              "      <td>1</td>\n",
              "      <td>1.0</td>\n",
              "      <td>0</td>\n",
              "      <td>0</td>\n",
              "      <td>0</td>\n",
              "      <td>1</td>\n",
              "      <td>0</td>\n",
              "      <td>1</td>\n",
              "      <td>0</td>\n",
              "      <td>0</td>\n",
              "      <td>0</td>\n",
              "      <td>1</td>\n",
              "      <td>0</td>\n",
              "      <td>0</td>\n",
              "      <td>1</td>\n",
              "      <td>0</td>\n",
              "      <td>0</td>\n",
              "      <td>0</td>\n",
              "      <td>0</td>\n",
              "      <td>0</td>\n",
              "      <td>0</td>\n",
              "      <td>0</td>\n",
              "      <td>0</td>\n",
              "      <td>0</td>\n",
              "      <td>0</td>\n",
              "      <td>0</td>\n",
              "      <td>0</td>\n",
              "      <td>0</td>\n",
              "      <td>0</td>\n",
              "      <td>0</td>\n",
              "      <td>0</td>\n",
              "      <td>0</td>\n",
              "      <td>0</td>\n",
              "      <td>0</td>\n",
              "      <td>0</td>\n",
              "      <td>0</td>\n",
              "      <td>0</td>\n",
              "      <td>...</td>\n",
              "      <td>0</td>\n",
              "      <td>0</td>\n",
              "      <td>0</td>\n",
              "      <td>0</td>\n",
              "      <td>0</td>\n",
              "      <td>0</td>\n",
              "      <td>0</td>\n",
              "      <td>0</td>\n",
              "      <td>0</td>\n",
              "      <td>0</td>\n",
              "      <td>0</td>\n",
              "      <td>0</td>\n",
              "      <td>0</td>\n",
              "      <td>0</td>\n",
              "      <td>0</td>\n",
              "      <td>0</td>\n",
              "      <td>0</td>\n",
              "      <td>0</td>\n",
              "      <td>0</td>\n",
              "      <td>0</td>\n",
              "      <td>0</td>\n",
              "      <td>1</td>\n",
              "      <td>0</td>\n",
              "      <td>0</td>\n",
              "      <td>0</td>\n",
              "      <td>0</td>\n",
              "      <td>0</td>\n",
              "      <td>0</td>\n",
              "      <td>0</td>\n",
              "      <td>0</td>\n",
              "      <td>0</td>\n",
              "      <td>0</td>\n",
              "      <td>0</td>\n",
              "      <td>0</td>\n",
              "      <td>0</td>\n",
              "      <td>0</td>\n",
              "      <td>0</td>\n",
              "      <td>1</td>\n",
              "      <td>0</td>\n",
              "      <td>0</td>\n",
              "    </tr>\n",
              "    <tr>\n",
              "      <th>24657</th>\n",
              "      <td>94833</td>\n",
              "      <td>19</td>\n",
              "      <td>37</td>\n",
              "      <td>1</td>\n",
              "      <td>1.0</td>\n",
              "      <td>0</td>\n",
              "      <td>0</td>\n",
              "      <td>0</td>\n",
              "      <td>1</td>\n",
              "      <td>1</td>\n",
              "      <td>0</td>\n",
              "      <td>0</td>\n",
              "      <td>0</td>\n",
              "      <td>1</td>\n",
              "      <td>0</td>\n",
              "      <td>0</td>\n",
              "      <td>0</td>\n",
              "      <td>1</td>\n",
              "      <td>0</td>\n",
              "      <td>0</td>\n",
              "      <td>0</td>\n",
              "      <td>0</td>\n",
              "      <td>0</td>\n",
              "      <td>0</td>\n",
              "      <td>0</td>\n",
              "      <td>0</td>\n",
              "      <td>0</td>\n",
              "      <td>0</td>\n",
              "      <td>0</td>\n",
              "      <td>0</td>\n",
              "      <td>0</td>\n",
              "      <td>0</td>\n",
              "      <td>0</td>\n",
              "      <td>0</td>\n",
              "      <td>0</td>\n",
              "      <td>0</td>\n",
              "      <td>0</td>\n",
              "      <td>0</td>\n",
              "      <td>0</td>\n",
              "      <td>0</td>\n",
              "      <td>...</td>\n",
              "      <td>0</td>\n",
              "      <td>0</td>\n",
              "      <td>0</td>\n",
              "      <td>0</td>\n",
              "      <td>0</td>\n",
              "      <td>0</td>\n",
              "      <td>0</td>\n",
              "      <td>0</td>\n",
              "      <td>0</td>\n",
              "      <td>0</td>\n",
              "      <td>0</td>\n",
              "      <td>0</td>\n",
              "      <td>0</td>\n",
              "      <td>0</td>\n",
              "      <td>0</td>\n",
              "      <td>0</td>\n",
              "      <td>0</td>\n",
              "      <td>0</td>\n",
              "      <td>0</td>\n",
              "      <td>0</td>\n",
              "      <td>0</td>\n",
              "      <td>0</td>\n",
              "      <td>0</td>\n",
              "      <td>0</td>\n",
              "      <td>0</td>\n",
              "      <td>0</td>\n",
              "      <td>0</td>\n",
              "      <td>0</td>\n",
              "      <td>0</td>\n",
              "      <td>0</td>\n",
              "      <td>0</td>\n",
              "      <td>1</td>\n",
              "      <td>0</td>\n",
              "      <td>0</td>\n",
              "      <td>0</td>\n",
              "      <td>0</td>\n",
              "      <td>1</td>\n",
              "      <td>0</td>\n",
              "      <td>0</td>\n",
              "      <td>0</td>\n",
              "    </tr>\n",
              "  </tbody>\n",
              "</table>\n",
              "<p>3 rows × 208 columns</p>\n",
              "</div>"
            ],
            "text/plain": [
              "       user_id_x  purchase_value  ...  period_Evening  period_nan\n",
              "2036      357753              40  ...               0           0\n",
              "9776       96943              11  ...               0           0\n",
              "24657      94833              19  ...               0           0\n",
              "\n",
              "[3 rows x 208 columns]"
            ]
          },
          "metadata": {
            "tags": []
          },
          "execution_count": 150
        }
      ]
    },
    {
      "cell_type": "code",
      "metadata": {
        "id": "ilv4bs5YF4bs",
        "colab_type": "code",
        "colab": {}
      },
      "source": [
        "X_train = train_new.drop([\"class\"], axis=1)\n",
        "y_train = train_new[\"class\"] "
      ],
      "execution_count": 0,
      "outputs": []
    },
    {
      "cell_type": "code",
      "metadata": {
        "id": "7soo3wkfz0Ut",
        "colab_type": "code",
        "colab": {}
      },
      "source": [
        "X_test = test.drop([\"class\"], axis=1)\n",
        "y_test = test[\"class\"] "
      ],
      "execution_count": 0,
      "outputs": []
    },
    {
      "cell_type": "code",
      "metadata": {
        "id": "flK68zBtGsc8",
        "colab_type": "code",
        "outputId": "eaa2372b-fa2d-4cac-eb9e-a11991ec0b6d",
        "colab": {
          "base_uri": "https://localhost:8080/",
          "height": 286
        }
      },
      "source": [
        "X_test.head()"
      ],
      "execution_count": 0,
      "outputs": [
        {
          "output_type": "execute_result",
          "data": {
            "text/html": [
              "<div>\n",
              "<style scoped>\n",
              "    .dataframe tbody tr th:only-of-type {\n",
              "        vertical-align: middle;\n",
              "    }\n",
              "\n",
              "    .dataframe tbody tr th {\n",
              "        vertical-align: top;\n",
              "    }\n",
              "\n",
              "    .dataframe thead th {\n",
              "        text-align: right;\n",
              "    }\n",
              "</style>\n",
              "<table border=\"1\" class=\"dataframe\">\n",
              "  <thead>\n",
              "    <tr style=\"text-align: right;\">\n",
              "      <th></th>\n",
              "      <th>user_id_x</th>\n",
              "      <th>purchase_value</th>\n",
              "      <th>age</th>\n",
              "      <th>duration_second</th>\n",
              "      <th>diff_jours</th>\n",
              "      <th>diff_heures</th>\n",
              "      <th>diff_minutes</th>\n",
              "      <th>diff_secondes</th>\n",
              "      <th>source_Direct</th>\n",
              "      <th>source_SEO</th>\n",
              "      <th>source_nan</th>\n",
              "      <th>browser_FireFox</th>\n",
              "      <th>browser_IE</th>\n",
              "      <th>browser_Opera</th>\n",
              "      <th>browser_Safari</th>\n",
              "      <th>browser_nan</th>\n",
              "      <th>sex_M</th>\n",
              "      <th>sex_nan</th>\n",
              "      <th>country_Albania</th>\n",
              "      <th>country_Algeria</th>\n",
              "      <th>country_Angola</th>\n",
              "      <th>country_Antigua and Barbuda</th>\n",
              "      <th>country_Argentina</th>\n",
              "      <th>country_Armenia</th>\n",
              "      <th>country_Australia</th>\n",
              "      <th>country_Austria</th>\n",
              "      <th>country_Azerbaijan</th>\n",
              "      <th>country_Bahamas</th>\n",
              "      <th>country_Bahrain</th>\n",
              "      <th>country_Bangladesh</th>\n",
              "      <th>country_Barbados</th>\n",
              "      <th>country_Belarus</th>\n",
              "      <th>country_Belgium</th>\n",
              "      <th>country_Belize</th>\n",
              "      <th>country_Benin</th>\n",
              "      <th>country_Bermuda</th>\n",
              "      <th>country_Bhutan</th>\n",
              "      <th>country_Bolivia</th>\n",
              "      <th>country_Bonaire; Sint Eustatius; Saba</th>\n",
              "      <th>country_Bosnia and Herzegowina</th>\n",
              "      <th>...</th>\n",
              "      <th>country_Slovenia</th>\n",
              "      <th>country_South Africa</th>\n",
              "      <th>country_South Sudan</th>\n",
              "      <th>country_Spain</th>\n",
              "      <th>country_Sri Lanka</th>\n",
              "      <th>country_Sudan</th>\n",
              "      <th>country_Sweden</th>\n",
              "      <th>country_Switzerland</th>\n",
              "      <th>country_Syrian Arab Republic</th>\n",
              "      <th>country_Taiwan; Republic of China (ROC)</th>\n",
              "      <th>country_Tajikistan</th>\n",
              "      <th>country_Tanzania United Republic of</th>\n",
              "      <th>country_Thailand</th>\n",
              "      <th>country_Trinidad and Tobago</th>\n",
              "      <th>country_Tunisia</th>\n",
              "      <th>country_Turkey</th>\n",
              "      <th>country_Turkmenistan</th>\n",
              "      <th>country_Uganda</th>\n",
              "      <th>country_Ukraine</th>\n",
              "      <th>country_United Arab Emirates</th>\n",
              "      <th>country_United Kingdom</th>\n",
              "      <th>country_United States</th>\n",
              "      <th>country_Uruguay</th>\n",
              "      <th>country_Uzbekistan</th>\n",
              "      <th>country_Vanuatu</th>\n",
              "      <th>country_Venezuela</th>\n",
              "      <th>country_Viet Nam</th>\n",
              "      <th>country_Virgin Islands (U.S.)</th>\n",
              "      <th>country_Yemen</th>\n",
              "      <th>country_Zambia</th>\n",
              "      <th>country_Zimbabwe</th>\n",
              "      <th>country_nan</th>\n",
              "      <th>country_nan</th>\n",
              "      <th>Alerte_not_sure</th>\n",
              "      <th>Alerte_safe</th>\n",
              "      <th>Alerte_nan</th>\n",
              "      <th>period_Morning</th>\n",
              "      <th>period_Afternoon</th>\n",
              "      <th>period_Evening</th>\n",
              "      <th>period_nan</th>\n",
              "    </tr>\n",
              "  </thead>\n",
              "  <tbody>\n",
              "    <tr>\n",
              "      <th>117590</th>\n",
              "      <td>24498</td>\n",
              "      <td>11</td>\n",
              "      <td>31</td>\n",
              "      <td>4096816.0</td>\n",
              "      <td>47</td>\n",
              "      <td>10</td>\n",
              "      <td>0</td>\n",
              "      <td>16</td>\n",
              "      <td>0</td>\n",
              "      <td>0</td>\n",
              "      <td>0</td>\n",
              "      <td>0</td>\n",
              "      <td>0</td>\n",
              "      <td>0</td>\n",
              "      <td>1</td>\n",
              "      <td>0</td>\n",
              "      <td>0</td>\n",
              "      <td>0</td>\n",
              "      <td>0</td>\n",
              "      <td>0</td>\n",
              "      <td>0</td>\n",
              "      <td>0</td>\n",
              "      <td>0</td>\n",
              "      <td>0</td>\n",
              "      <td>0</td>\n",
              "      <td>0</td>\n",
              "      <td>0</td>\n",
              "      <td>0</td>\n",
              "      <td>0</td>\n",
              "      <td>0</td>\n",
              "      <td>0</td>\n",
              "      <td>0</td>\n",
              "      <td>0</td>\n",
              "      <td>0</td>\n",
              "      <td>0</td>\n",
              "      <td>0</td>\n",
              "      <td>0</td>\n",
              "      <td>0</td>\n",
              "      <td>0</td>\n",
              "      <td>0</td>\n",
              "      <td>...</td>\n",
              "      <td>0</td>\n",
              "      <td>0</td>\n",
              "      <td>0</td>\n",
              "      <td>0</td>\n",
              "      <td>0</td>\n",
              "      <td>0</td>\n",
              "      <td>0</td>\n",
              "      <td>0</td>\n",
              "      <td>0</td>\n",
              "      <td>0</td>\n",
              "      <td>0</td>\n",
              "      <td>0</td>\n",
              "      <td>0</td>\n",
              "      <td>0</td>\n",
              "      <td>0</td>\n",
              "      <td>0</td>\n",
              "      <td>0</td>\n",
              "      <td>0</td>\n",
              "      <td>0</td>\n",
              "      <td>0</td>\n",
              "      <td>0</td>\n",
              "      <td>1</td>\n",
              "      <td>0</td>\n",
              "      <td>0</td>\n",
              "      <td>0</td>\n",
              "      <td>0</td>\n",
              "      <td>0</td>\n",
              "      <td>0</td>\n",
              "      <td>0</td>\n",
              "      <td>0</td>\n",
              "      <td>0</td>\n",
              "      <td>0</td>\n",
              "      <td>0</td>\n",
              "      <td>0</td>\n",
              "      <td>1</td>\n",
              "      <td>0</td>\n",
              "      <td>0</td>\n",
              "      <td>1</td>\n",
              "      <td>0</td>\n",
              "      <td>0</td>\n",
              "    </tr>\n",
              "    <tr>\n",
              "      <th>39822</th>\n",
              "      <td>362699</td>\n",
              "      <td>44</td>\n",
              "      <td>24</td>\n",
              "      <td>5093621.0</td>\n",
              "      <td>58</td>\n",
              "      <td>22</td>\n",
              "      <td>53</td>\n",
              "      <td>41</td>\n",
              "      <td>1</td>\n",
              "      <td>0</td>\n",
              "      <td>0</td>\n",
              "      <td>0</td>\n",
              "      <td>0</td>\n",
              "      <td>0</td>\n",
              "      <td>0</td>\n",
              "      <td>0</td>\n",
              "      <td>1</td>\n",
              "      <td>0</td>\n",
              "      <td>0</td>\n",
              "      <td>0</td>\n",
              "      <td>0</td>\n",
              "      <td>0</td>\n",
              "      <td>0</td>\n",
              "      <td>0</td>\n",
              "      <td>0</td>\n",
              "      <td>0</td>\n",
              "      <td>0</td>\n",
              "      <td>0</td>\n",
              "      <td>0</td>\n",
              "      <td>0</td>\n",
              "      <td>0</td>\n",
              "      <td>0</td>\n",
              "      <td>0</td>\n",
              "      <td>0</td>\n",
              "      <td>0</td>\n",
              "      <td>0</td>\n",
              "      <td>0</td>\n",
              "      <td>0</td>\n",
              "      <td>0</td>\n",
              "      <td>0</td>\n",
              "      <td>...</td>\n",
              "      <td>0</td>\n",
              "      <td>0</td>\n",
              "      <td>0</td>\n",
              "      <td>0</td>\n",
              "      <td>0</td>\n",
              "      <td>0</td>\n",
              "      <td>0</td>\n",
              "      <td>0</td>\n",
              "      <td>0</td>\n",
              "      <td>0</td>\n",
              "      <td>0</td>\n",
              "      <td>0</td>\n",
              "      <td>0</td>\n",
              "      <td>0</td>\n",
              "      <td>0</td>\n",
              "      <td>0</td>\n",
              "      <td>0</td>\n",
              "      <td>0</td>\n",
              "      <td>0</td>\n",
              "      <td>0</td>\n",
              "      <td>0</td>\n",
              "      <td>0</td>\n",
              "      <td>0</td>\n",
              "      <td>0</td>\n",
              "      <td>0</td>\n",
              "      <td>0</td>\n",
              "      <td>0</td>\n",
              "      <td>0</td>\n",
              "      <td>0</td>\n",
              "      <td>0</td>\n",
              "      <td>0</td>\n",
              "      <td>1</td>\n",
              "      <td>0</td>\n",
              "      <td>0</td>\n",
              "      <td>1</td>\n",
              "      <td>0</td>\n",
              "      <td>0</td>\n",
              "      <td>0</td>\n",
              "      <td>0</td>\n",
              "      <td>0</td>\n",
              "    </tr>\n",
              "    <tr>\n",
              "      <th>142327</th>\n",
              "      <td>205973</td>\n",
              "      <td>50</td>\n",
              "      <td>35</td>\n",
              "      <td>9253886.0</td>\n",
              "      <td>107</td>\n",
              "      <td>2</td>\n",
              "      <td>31</td>\n",
              "      <td>26</td>\n",
              "      <td>0</td>\n",
              "      <td>0</td>\n",
              "      <td>0</td>\n",
              "      <td>0</td>\n",
              "      <td>0</td>\n",
              "      <td>0</td>\n",
              "      <td>0</td>\n",
              "      <td>0</td>\n",
              "      <td>1</td>\n",
              "      <td>0</td>\n",
              "      <td>0</td>\n",
              "      <td>0</td>\n",
              "      <td>0</td>\n",
              "      <td>0</td>\n",
              "      <td>0</td>\n",
              "      <td>0</td>\n",
              "      <td>0</td>\n",
              "      <td>0</td>\n",
              "      <td>0</td>\n",
              "      <td>0</td>\n",
              "      <td>0</td>\n",
              "      <td>0</td>\n",
              "      <td>0</td>\n",
              "      <td>0</td>\n",
              "      <td>0</td>\n",
              "      <td>0</td>\n",
              "      <td>0</td>\n",
              "      <td>0</td>\n",
              "      <td>0</td>\n",
              "      <td>0</td>\n",
              "      <td>0</td>\n",
              "      <td>0</td>\n",
              "      <td>...</td>\n",
              "      <td>0</td>\n",
              "      <td>0</td>\n",
              "      <td>0</td>\n",
              "      <td>0</td>\n",
              "      <td>0</td>\n",
              "      <td>0</td>\n",
              "      <td>0</td>\n",
              "      <td>0</td>\n",
              "      <td>0</td>\n",
              "      <td>0</td>\n",
              "      <td>0</td>\n",
              "      <td>0</td>\n",
              "      <td>0</td>\n",
              "      <td>0</td>\n",
              "      <td>0</td>\n",
              "      <td>0</td>\n",
              "      <td>0</td>\n",
              "      <td>0</td>\n",
              "      <td>0</td>\n",
              "      <td>0</td>\n",
              "      <td>1</td>\n",
              "      <td>0</td>\n",
              "      <td>0</td>\n",
              "      <td>0</td>\n",
              "      <td>0</td>\n",
              "      <td>0</td>\n",
              "      <td>0</td>\n",
              "      <td>0</td>\n",
              "      <td>0</td>\n",
              "      <td>0</td>\n",
              "      <td>0</td>\n",
              "      <td>0</td>\n",
              "      <td>0</td>\n",
              "      <td>0</td>\n",
              "      <td>1</td>\n",
              "      <td>0</td>\n",
              "      <td>0</td>\n",
              "      <td>1</td>\n",
              "      <td>0</td>\n",
              "      <td>0</td>\n",
              "    </tr>\n",
              "    <tr>\n",
              "      <th>37468</th>\n",
              "      <td>12852</td>\n",
              "      <td>51</td>\n",
              "      <td>32</td>\n",
              "      <td>57867.0</td>\n",
              "      <td>0</td>\n",
              "      <td>16</td>\n",
              "      <td>4</td>\n",
              "      <td>27</td>\n",
              "      <td>0</td>\n",
              "      <td>1</td>\n",
              "      <td>0</td>\n",
              "      <td>0</td>\n",
              "      <td>0</td>\n",
              "      <td>0</td>\n",
              "      <td>0</td>\n",
              "      <td>0</td>\n",
              "      <td>0</td>\n",
              "      <td>0</td>\n",
              "      <td>0</td>\n",
              "      <td>0</td>\n",
              "      <td>0</td>\n",
              "      <td>0</td>\n",
              "      <td>0</td>\n",
              "      <td>0</td>\n",
              "      <td>0</td>\n",
              "      <td>0</td>\n",
              "      <td>0</td>\n",
              "      <td>0</td>\n",
              "      <td>0</td>\n",
              "      <td>0</td>\n",
              "      <td>0</td>\n",
              "      <td>0</td>\n",
              "      <td>0</td>\n",
              "      <td>0</td>\n",
              "      <td>0</td>\n",
              "      <td>0</td>\n",
              "      <td>0</td>\n",
              "      <td>0</td>\n",
              "      <td>0</td>\n",
              "      <td>0</td>\n",
              "      <td>...</td>\n",
              "      <td>0</td>\n",
              "      <td>0</td>\n",
              "      <td>0</td>\n",
              "      <td>0</td>\n",
              "      <td>0</td>\n",
              "      <td>0</td>\n",
              "      <td>0</td>\n",
              "      <td>0</td>\n",
              "      <td>0</td>\n",
              "      <td>0</td>\n",
              "      <td>0</td>\n",
              "      <td>0</td>\n",
              "      <td>0</td>\n",
              "      <td>0</td>\n",
              "      <td>0</td>\n",
              "      <td>0</td>\n",
              "      <td>0</td>\n",
              "      <td>0</td>\n",
              "      <td>0</td>\n",
              "      <td>0</td>\n",
              "      <td>1</td>\n",
              "      <td>0</td>\n",
              "      <td>0</td>\n",
              "      <td>0</td>\n",
              "      <td>0</td>\n",
              "      <td>0</td>\n",
              "      <td>0</td>\n",
              "      <td>0</td>\n",
              "      <td>0</td>\n",
              "      <td>0</td>\n",
              "      <td>0</td>\n",
              "      <td>0</td>\n",
              "      <td>0</td>\n",
              "      <td>0</td>\n",
              "      <td>1</td>\n",
              "      <td>0</td>\n",
              "      <td>1</td>\n",
              "      <td>0</td>\n",
              "      <td>0</td>\n",
              "      <td>0</td>\n",
              "    </tr>\n",
              "    <tr>\n",
              "      <th>70191</th>\n",
              "      <td>130653</td>\n",
              "      <td>10</td>\n",
              "      <td>34</td>\n",
              "      <td>3528546.0</td>\n",
              "      <td>40</td>\n",
              "      <td>20</td>\n",
              "      <td>9</td>\n",
              "      <td>6</td>\n",
              "      <td>0</td>\n",
              "      <td>0</td>\n",
              "      <td>0</td>\n",
              "      <td>1</td>\n",
              "      <td>0</td>\n",
              "      <td>0</td>\n",
              "      <td>0</td>\n",
              "      <td>0</td>\n",
              "      <td>0</td>\n",
              "      <td>0</td>\n",
              "      <td>0</td>\n",
              "      <td>0</td>\n",
              "      <td>0</td>\n",
              "      <td>0</td>\n",
              "      <td>0</td>\n",
              "      <td>0</td>\n",
              "      <td>0</td>\n",
              "      <td>0</td>\n",
              "      <td>0</td>\n",
              "      <td>0</td>\n",
              "      <td>0</td>\n",
              "      <td>0</td>\n",
              "      <td>0</td>\n",
              "      <td>0</td>\n",
              "      <td>0</td>\n",
              "      <td>0</td>\n",
              "      <td>0</td>\n",
              "      <td>0</td>\n",
              "      <td>0</td>\n",
              "      <td>0</td>\n",
              "      <td>0</td>\n",
              "      <td>0</td>\n",
              "      <td>...</td>\n",
              "      <td>0</td>\n",
              "      <td>0</td>\n",
              "      <td>0</td>\n",
              "      <td>0</td>\n",
              "      <td>0</td>\n",
              "      <td>0</td>\n",
              "      <td>0</td>\n",
              "      <td>0</td>\n",
              "      <td>0</td>\n",
              "      <td>0</td>\n",
              "      <td>0</td>\n",
              "      <td>0</td>\n",
              "      <td>0</td>\n",
              "      <td>0</td>\n",
              "      <td>0</td>\n",
              "      <td>0</td>\n",
              "      <td>0</td>\n",
              "      <td>0</td>\n",
              "      <td>0</td>\n",
              "      <td>0</td>\n",
              "      <td>0</td>\n",
              "      <td>0</td>\n",
              "      <td>0</td>\n",
              "      <td>0</td>\n",
              "      <td>0</td>\n",
              "      <td>0</td>\n",
              "      <td>0</td>\n",
              "      <td>0</td>\n",
              "      <td>0</td>\n",
              "      <td>0</td>\n",
              "      <td>0</td>\n",
              "      <td>1</td>\n",
              "      <td>0</td>\n",
              "      <td>0</td>\n",
              "      <td>1</td>\n",
              "      <td>0</td>\n",
              "      <td>0</td>\n",
              "      <td>0</td>\n",
              "      <td>1</td>\n",
              "      <td>0</td>\n",
              "    </tr>\n",
              "  </tbody>\n",
              "</table>\n",
              "<p>5 rows × 207 columns</p>\n",
              "</div>"
            ],
            "text/plain": [
              "        user_id_x  purchase_value  ...  period_Evening  period_nan\n",
              "117590      24498              11  ...               0           0\n",
              "39822      362699              44  ...               0           0\n",
              "142327     205973              50  ...               0           0\n",
              "37468       12852              51  ...               0           0\n",
              "70191      130653              10  ...               1           0\n",
              "\n",
              "[5 rows x 207 columns]"
            ]
          },
          "metadata": {
            "tags": []
          },
          "execution_count": 153
        }
      ]
    },
    {
      "cell_type": "markdown",
      "metadata": {
        "id": "aPHBEUW97HJy",
        "colab_type": "text"
      },
      "source": [
        "Normalisation  variables \n"
      ]
    },
    {
      "cell_type": "code",
      "metadata": {
        "id": "2xBCzexEGtOG",
        "colab_type": "code",
        "colab": {}
      },
      "source": [
        "from sklearn.preprocessing import StandardScaler\n",
        "\n",
        "sc = StandardScaler()\n",
        "X_train = sc.fit_transform(X_train)\n",
        "X_test = sc.transform(X_test) "
      ],
      "execution_count": 0,
      "outputs": []
    },
    {
      "cell_type": "code",
      "metadata": {
        "id": "FprtKkqXGtKO",
        "colab_type": "code",
        "outputId": "067d0ece-9e84-449c-a57d-f086ddf01b19",
        "colab": {
          "base_uri": "https://localhost:8080/",
          "height": 243
        }
      },
      "source": [
        "X_train"
      ],
      "execution_count": 0,
      "outputs": [
        {
          "output_type": "execute_result",
          "data": {
            "text/plain": [
              "array([[ 1.35997589,  0.16002219, -0.72209606, ..., -0.58442219,\n",
              "        -0.50453867,  0.        ],\n",
              "       [-0.88981522, -1.41935752, -1.18538993, ...,  1.71109177,\n",
              "        -0.50453867,  0.        ],\n",
              "       [-0.90801644, -0.98366656,  0.43613861, ..., -0.58442219,\n",
              "        -0.50453867,  0.        ],\n",
              "       ...,\n",
              "       [ 0.65310448, -1.36489615,  0.89943247, ..., -0.58442219,\n",
              "         1.98200863,  0.        ],\n",
              "       [-1.51289202, -1.47381889,  0.08866821, ..., -0.58442219,\n",
              "         1.98200863,  0.        ],\n",
              "       [-0.21909608, -0.22120739, -0.72209606, ..., -0.58442219,\n",
              "        -0.50453867,  0.        ]])"
            ]
          },
          "metadata": {
            "tags": []
          },
          "execution_count": 155
        }
      ]
    },
    {
      "cell_type": "markdown",
      "metadata": {
        "id": "QXuvU5db54E0",
        "colab_type": "text"
      },
      "source": [
        "###MODELE 1 : Logistic Regression "
      ]
    },
    {
      "cell_type": "code",
      "metadata": {
        "id": "vRQ16tf77L3I",
        "colab_type": "code",
        "outputId": "d91f2875-e6a9-4e34-8976-5d7fa59dd072",
        "colab": {
          "base_uri": "https://localhost:8080/",
          "height": 139
        }
      },
      "source": [
        "from sklearn.linear_model import LogisticRegression\n",
        "classifier = LogisticRegression()\n",
        "classifier.fit(X_train, y_train)"
      ],
      "execution_count": 0,
      "outputs": [
        {
          "output_type": "stream",
          "text": [
            "/usr/local/lib/python3.6/dist-packages/sklearn/linear_model/logistic.py:432: FutureWarning: Default solver will be changed to 'lbfgs' in 0.22. Specify a solver to silence this warning.\n",
            "  FutureWarning)\n"
          ],
          "name": "stderr"
        },
        {
          "output_type": "execute_result",
          "data": {
            "text/plain": [
              "LogisticRegression(C=1.0, class_weight=None, dual=False, fit_intercept=True,\n",
              "                   intercept_scaling=1, l1_ratio=None, max_iter=100,\n",
              "                   multi_class='warn', n_jobs=None, penalty='l2',\n",
              "                   random_state=None, solver='warn', tol=0.0001, verbose=0,\n",
              "                   warm_start=False)"
            ]
          },
          "metadata": {
            "tags": []
          },
          "execution_count": 156
        }
      ]
    },
    {
      "cell_type": "code",
      "metadata": {
        "id": "_JlFmIbl5-ZF",
        "colab_type": "code",
        "outputId": "017ac36a-ad9d-4892-a885-56189e432f78",
        "colab": {
          "base_uri": "https://localhost:8080/",
          "height": 35
        }
      },
      "source": [
        "classifier.score(X_test, y_test)"
      ],
      "execution_count": 0,
      "outputs": [
        {
          "output_type": "execute_result",
          "data": {
            "text/plain": [
              "0.9470154850663961"
            ]
          },
          "metadata": {
            "tags": []
          },
          "execution_count": 157
        }
      ]
    },
    {
      "cell_type": "code",
      "metadata": {
        "id": "2D4uYfei5-w-",
        "colab_type": "code",
        "outputId": "2bd4c43b-85e1-4d0d-bcc2-c6b9c80f59dc",
        "colab": {
          "base_uri": "https://localhost:8080/",
          "height": 381
        }
      },
      "source": [
        "from sklearn.model_selection import cross_val_score\n",
        "#cross_val_score(classifier,X, y, cv=10)#.std()\n",
        "cross_val_score(classifier, X_test, y_test, cv=10).mean()"
      ],
      "execution_count": 0,
      "outputs": [
        {
          "output_type": "stream",
          "text": [
            "/usr/local/lib/python3.6/dist-packages/sklearn/linear_model/logistic.py:432: FutureWarning: Default solver will be changed to 'lbfgs' in 0.22. Specify a solver to silence this warning.\n",
            "  FutureWarning)\n",
            "/usr/local/lib/python3.6/dist-packages/sklearn/linear_model/logistic.py:432: FutureWarning: Default solver will be changed to 'lbfgs' in 0.22. Specify a solver to silence this warning.\n",
            "  FutureWarning)\n",
            "/usr/local/lib/python3.6/dist-packages/sklearn/linear_model/logistic.py:432: FutureWarning: Default solver will be changed to 'lbfgs' in 0.22. Specify a solver to silence this warning.\n",
            "  FutureWarning)\n",
            "/usr/local/lib/python3.6/dist-packages/sklearn/linear_model/logistic.py:432: FutureWarning: Default solver will be changed to 'lbfgs' in 0.22. Specify a solver to silence this warning.\n",
            "  FutureWarning)\n",
            "/usr/local/lib/python3.6/dist-packages/sklearn/linear_model/logistic.py:432: FutureWarning: Default solver will be changed to 'lbfgs' in 0.22. Specify a solver to silence this warning.\n",
            "  FutureWarning)\n",
            "/usr/local/lib/python3.6/dist-packages/sklearn/linear_model/logistic.py:432: FutureWarning: Default solver will be changed to 'lbfgs' in 0.22. Specify a solver to silence this warning.\n",
            "  FutureWarning)\n",
            "/usr/local/lib/python3.6/dist-packages/sklearn/linear_model/logistic.py:432: FutureWarning: Default solver will be changed to 'lbfgs' in 0.22. Specify a solver to silence this warning.\n",
            "  FutureWarning)\n",
            "/usr/local/lib/python3.6/dist-packages/sklearn/linear_model/logistic.py:432: FutureWarning: Default solver will be changed to 'lbfgs' in 0.22. Specify a solver to silence this warning.\n",
            "  FutureWarning)\n",
            "/usr/local/lib/python3.6/dist-packages/sklearn/linear_model/logistic.py:432: FutureWarning: Default solver will be changed to 'lbfgs' in 0.22. Specify a solver to silence this warning.\n",
            "  FutureWarning)\n",
            "/usr/local/lib/python3.6/dist-packages/sklearn/linear_model/logistic.py:432: FutureWarning: Default solver will be changed to 'lbfgs' in 0.22. Specify a solver to silence this warning.\n",
            "  FutureWarning)\n"
          ],
          "name": "stderr"
        },
        {
          "output_type": "execute_result",
          "data": {
            "text/plain": [
              "0.9510741787562782"
            ]
          },
          "metadata": {
            "tags": []
          },
          "execution_count": 158
        }
      ]
    },
    {
      "cell_type": "code",
      "metadata": {
        "id": "oAaZHFXq7o--",
        "colab_type": "code",
        "outputId": "03daa51b-5a2a-411b-935b-164d6fb7c68a",
        "colab": {
          "base_uri": "https://localhost:8080/",
          "height": 292
        }
      },
      "source": [
        "from sklearn.metrics import confusion_matrix\n",
        "y_pred = classifier.predict(X_test)\n",
        "cm = confusion_matrix(y_test, y_pred)\n",
        "sns.heatmap(cm, annot=True, fmt=\"d\")"
      ],
      "execution_count": 0,
      "outputs": [
        {
          "output_type": "execute_result",
          "data": {
            "text/plain": [
              "<matplotlib.axes._subplots.AxesSubplot at 0x7fc80ebd40f0>"
            ]
          },
          "metadata": {
            "tags": []
          },
          "execution_count": 160
        },
        {
          "output_type": "display_data",
          "data": {
            "image/png": "[encoded data removed]",
            "text/plain": [
              "<Figure size 432x288 with 2 Axes>"
            ]
          },
          "metadata": {
            "tags": []
          }
        }
      ]
    },
    {
      "cell_type": "markdown",
      "metadata": {
        "id": "3K1r5s8junFC",
        "colab_type": "text"
      },
      "source": [
        "==> To reduce the false positives FP and the false negative FN it is necessary to make the predictions of probabilities (y = 1, y = 0) by fixing the threshold."
      ]
    },
    {
      "cell_type": "code",
      "metadata": {
        "id": "XMl-SWIJuTeY",
        "colab_type": "code",
        "colab": {}
      },
      "source": [
        "pred_proba = classifier.predict_proba(X_test) "
      ],
      "execution_count": 0,
      "outputs": []
    },
    {
      "cell_type": "code",
      "metadata": {
        "id": "oZF_8eOyt9O_",
        "colab_type": "code",
        "outputId": "bb4f4e22-aa69-408f-bdd2-17064677af95",
        "colab": {
          "base_uri": "https://localhost:8080/",
          "height": 202
        }
      },
      "source": [
        "pred_prob = pd.DataFrame()\n",
        "pred_prob = pd.DataFrame(pred_proba, columns=['proba_0', 'proba_1'])\n",
        "pred_prob.head()"
      ],
      "execution_count": 0,
      "outputs": [
        {
          "output_type": "execute_result",
          "data": {
            "text/html": [
              "<div>\n",
              "<style scoped>\n",
              "    .dataframe tbody tr th:only-of-type {\n",
              "        vertical-align: middle;\n",
              "    }\n",
              "\n",
              "    .dataframe tbody tr th {\n",
              "        vertical-align: top;\n",
              "    }\n",
              "\n",
              "    .dataframe thead th {\n",
              "        text-align: right;\n",
              "    }\n",
              "</style>\n",
              "<table border=\"1\" class=\"dataframe\">\n",
              "  <thead>\n",
              "    <tr style=\"text-align: right;\">\n",
              "      <th></th>\n",
              "      <th>proba_0</th>\n",
              "      <th>proba_1</th>\n",
              "    </tr>\n",
              "  </thead>\n",
              "  <tbody>\n",
              "    <tr>\n",
              "      <th>0</th>\n",
              "      <td>0.615385</td>\n",
              "      <td>0.384615</td>\n",
              "    </tr>\n",
              "    <tr>\n",
              "      <th>1</th>\n",
              "      <td>0.403846</td>\n",
              "      <td>0.596154</td>\n",
              "    </tr>\n",
              "    <tr>\n",
              "      <th>2</th>\n",
              "      <td>0.519231</td>\n",
              "      <td>0.480769</td>\n",
              "    </tr>\n",
              "    <tr>\n",
              "      <th>3</th>\n",
              "      <td>0.615385</td>\n",
              "      <td>0.384615</td>\n",
              "    </tr>\n",
              "    <tr>\n",
              "      <th>4</th>\n",
              "      <td>0.615385</td>\n",
              "      <td>0.384615</td>\n",
              "    </tr>\n",
              "  </tbody>\n",
              "</table>\n",
              "</div>"
            ],
            "text/plain": [
              "    proba_0   proba_1\n",
              "0  0.615385  0.384615\n",
              "1  0.403846  0.596154\n",
              "2  0.519231  0.480769\n",
              "3  0.615385  0.384615\n",
              "4  0.615385  0.384615"
            ]
          },
          "metadata": {
            "tags": []
          },
          "execution_count": 178
        }
      ]
    },
    {
      "cell_type": "markdown",
      "metadata": {
        "id": "HW4egLxOvJID",
        "colab_type": "text"
      },
      "source": [
        "==> The threshold is fixed at 0.5, ie when the proba_1 is greater than 0.5 so there will be a fraud, and vice versa."
      ]
    },
    {
      "cell_type": "markdown",
      "metadata": {
        "id": "Ec5R9-x7vcwR",
        "colab_type": "text"
      },
      "source": [
        "We will increase the threshold of the probabilities of (0.5 to 0.8), ie, if the proba_1 is greater than or equal to 0.8 there will be a fraud.\n"
      ]
    },
    {
      "cell_type": "code",
      "metadata": {
        "id": "LP5FKr_vt9aG",
        "colab_type": "code",
        "colab": {}
      },
      "source": [
        "pred_prob['proba_1'] = pred_prob['proba_1'].apply(lambda x: 1 if x > 0.8 else 0) "
      ],
      "execution_count": 0,
      "outputs": []
    },
    {
      "cell_type": "code",
      "metadata": {
        "id": "yA2mlUfXt9lD",
        "colab_type": "code",
        "outputId": "b1de9ffb-4d5a-4e59-ca2e-158de38bc827",
        "colab": {
          "base_uri": "https://localhost:8080/",
          "height": 35
        }
      },
      "source": [
        "from sklearn.metrics import accuracy_score\n",
        "accuracy_score(y_test,pred_prob['proba_1'])"
      ],
      "execution_count": 0,
      "outputs": [
        {
          "output_type": "execute_result",
          "data": {
            "text/plain": [
              "0.9561477037102396"
            ]
          },
          "metadata": {
            "tags": []
          },
          "execution_count": 180
        }
      ]
    },
    {
      "cell_type": "code",
      "metadata": {
        "id": "aF2YSlgrt9gL",
        "colab_type": "code",
        "outputId": "92f3eb5c-7faa-4533-e36c-8ff71ce5ae86",
        "colab": {
          "base_uri": "https://localhost:8080/",
          "height": 292
        }
      },
      "source": [
        "from sklearn.metrics import confusion_matrix\n",
        "cm_1 = confusion_matrix(y_test, pred_prob['proba_1'])\n",
        "sns.heatmap(cm_1, annot=True, fmt=\"d\")"
      ],
      "execution_count": 0,
      "outputs": [
        {
          "output_type": "execute_result",
          "data": {
            "text/plain": [
              "<matplotlib.axes._subplots.AxesSubplot at 0x7fc80b4239e8>"
            ]
          },
          "metadata": {
            "tags": []
          },
          "execution_count": 181
        },
        {
          "output_type": "display_data",
          "data": {
            "image/png": "[encoded data removed]",
            "text/plain": [
              "<Figure size 432x288 with 2 Axes>"
            ]
          },
          "metadata": {
            "tags": []
          }
        }
      ]
    },
    {
      "cell_type": "markdown",
      "metadata": {
        "id": "bAce0TsBwSs5",
        "colab_type": "text"
      },
      "source": [
        "==> With probalities and a threshold of 0.8, we have decreased FP and FN"
      ]
    },
    {
      "cell_type": "markdown",
      "metadata": {
        "id": "AmpH6LCgterO",
        "colab_type": "text"
      },
      "source": [
        "####MODEL 2 : SVM\n"
      ]
    },
    {
      "cell_type": "code",
      "metadata": {
        "id": "oajF3bAjtvMv",
        "colab_type": "code",
        "outputId": "080c7c94-3946-4b3f-b358-1cf98d8dc009",
        "colab": {
          "base_uri": "https://localhost:8080/",
          "height": 35
        }
      },
      "source": [
        "from sklearn import svm\n",
        "sv = svm.SVC(gamma='scale')\n",
        "sv.fit(X_train, y_train)\n",
        "sv.score(X_test, y_test)"
      ],
      "execution_count": 0,
      "outputs": [
        {
          "output_type": "execute_result",
          "data": {
            "text/plain": [
              "0.9447655181541448"
            ]
          },
          "metadata": {
            "tags": []
          },
          "execution_count": 161
        }
      ]
    },
    {
      "cell_type": "markdown",
      "metadata": {
        "id": "FGKig4lb503z",
        "colab_type": "text"
      },
      "source": [
        "####MODEL 3 : DECISION TREE"
      ]
    },
    {
      "cell_type": "code",
      "metadata": {
        "id": "gQBiqSZTxl9N",
        "colab_type": "code",
        "outputId": "fb986b5a-a198-4d58-f7ed-92228b97ad16",
        "colab": {
          "base_uri": "https://localhost:8080/",
          "height": 121
        }
      },
      "source": [
        "from sklearn.tree import DecisionTreeClassifier\n",
        "classifier_trees = DecisionTreeClassifier()\n",
        "classifier_trees.fit(X_train, y_train)"
      ],
      "execution_count": 0,
      "outputs": [
        {
          "output_type": "execute_result",
          "data": {
            "text/plain": [
              "DecisionTreeClassifier(class_weight=None, criterion='gini', max_depth=None,\n",
              "                       max_features=None, max_leaf_nodes=None,\n",
              "                       min_impurity_decrease=0.0, min_impurity_split=None,\n",
              "                       min_samples_leaf=1, min_samples_split=2,\n",
              "                       min_weight_fraction_leaf=0.0, presort=False,\n",
              "                       random_state=None, splitter='best')"
            ]
          },
          "metadata": {
            "tags": []
          },
          "execution_count": 162
        }
      ]
    },
    {
      "cell_type": "code",
      "metadata": {
        "id": "cBoO1FNK5KFX",
        "colab_type": "code",
        "outputId": "8187616c-d9f0-458b-fde8-2a355fef16b6",
        "colab": {
          "base_uri": "https://localhost:8080/",
          "height": 35
        }
      },
      "source": [
        "classifier_trees.score(X_test, y_test)"
      ],
      "execution_count": 0,
      "outputs": [
        {
          "output_type": "execute_result",
          "data": {
            "text/plain": [
              "0.6788061940265584"
            ]
          },
          "metadata": {
            "tags": []
          },
          "execution_count": 163
        }
      ]
    },
    {
      "cell_type": "markdown",
      "metadata": {
        "id": "1T5VlDXA5kSr",
        "colab_type": "text"
      },
      "source": [
        "####MODEL 4 : Random Forest\n",
        "\n",
        "Let's try to improve our score. We will do a Random Forest with 100 decision trees"
      ]
    },
    {
      "cell_type": "code",
      "metadata": {
        "id": "5AX57KpM5XwO",
        "colab_type": "code",
        "outputId": "eb1dd423-c6dd-42fd-aef5-5d82461b874f",
        "colab": {
          "base_uri": "https://localhost:8080/",
          "height": 35
        }
      },
      "source": [
        "from sklearn.ensemble import RandomForestClassifier\n",
        "rf_classifier = RandomForestClassifier(n_estimators=100)\n",
        "rf_classifier.fit(X_train, y_train)\n",
        "rf_classifier.score(X_test, y_test)"
      ],
      "execution_count": 0,
      "outputs": [
        {
          "output_type": "execute_result",
          "data": {
            "text/plain": [
              "0.9496183879648828"
            ]
          },
          "metadata": {
            "tags": []
          },
          "execution_count": 164
        }
      ]
    },
    {
      "cell_type": "markdown",
      "metadata": {
        "id": "wjupOHyo6R8F",
        "colab_type": "text"
      },
      "source": [
        "####Grid Search to find the optimum number of trees\n"
      ]
    },
    {
      "cell_type": "code",
      "metadata": {
        "id": "s8C11zWm6QFv",
        "colab_type": "code",
        "outputId": "42b61e91-4536-4465-c3e9-e1b975a3f6bc",
        "colab": {
          "base_uri": "https://localhost:8080/",
          "height": 87
        }
      },
      "source": [
        "from sklearn.model_selection import GridSearchCV\n",
        "params = {\"n_estimators\": range(20, 60)}\n",
        "\n",
        "classifier = GridSearchCV(cv=3, estimator=rf_classifier, scoring=\"accuracy\", n_jobs=-1, verbose=1, param_grid=params).fit(X_train, y_train)"
      ],
      "execution_count": 0,
      "outputs": [
        {
          "output_type": "stream",
          "text": [
            "Fitting 3 folds for each of 40 candidates, totalling 120 fits\n"
          ],
          "name": "stdout"
        },
        {
          "output_type": "stream",
          "text": [
            "[Parallel(n_jobs=-1)]: Using backend LokyBackend with 2 concurrent workers.\n",
            "[Parallel(n_jobs=-1)]: Done  46 tasks      | elapsed:   28.8s\n",
            "[Parallel(n_jobs=-1)]: Done 120 out of 120 | elapsed:  1.7min finished\n"
          ],
          "name": "stderr"
        }
      ]
    },
    {
      "cell_type": "code",
      "metadata": {
        "id": "COBlidYx6QjM",
        "colab_type": "code",
        "outputId": "78f8637c-3970-4f94-d9bf-612d97ca1142",
        "colab": {
          "base_uri": "https://localhost:8080/",
          "height": 35
        }
      },
      "source": [
        "classifier.best_params_"
      ],
      "execution_count": 0,
      "outputs": [
        {
          "output_type": "execute_result",
          "data": {
            "text/plain": [
              "{'n_estimators': 52}"
            ]
          },
          "metadata": {
            "tags": []
          },
          "execution_count": 167
        }
      ]
    },
    {
      "cell_type": "code",
      "metadata": {
        "id": "n6H1x9Ec6Og-",
        "colab_type": "code",
        "outputId": "57937fd5-6156-44fe-8888-615255229f52",
        "colab": {
          "base_uri": "https://localhost:8080/",
          "height": 35
        }
      },
      "source": [
        "classifier.best_estimator_.score(X_test, y_test)"
      ],
      "execution_count": 0,
      "outputs": [
        {
          "output_type": "execute_result",
          "data": {
            "text/plain": [
              "0.9421405567565183"
            ]
          },
          "metadata": {
            "tags": []
          },
          "execution_count": 168
        }
      ]
    },
    {
      "cell_type": "markdown",
      "metadata": {
        "id": "RXPuTzLosA1U",
        "colab_type": "text"
      },
      "source": [
        "####Model 5 : Voting"
      ]
    },
    {
      "cell_type": "code",
      "metadata": {
        "id": "HjztoQajI1WA",
        "colab_type": "code",
        "colab": {}
      },
      "source": [
        "from sklearn.ensemble import VotingClassifier\n",
        "votingC = VotingClassifier(estimators=[(\"DecisionTreeClassifier\", classifier_trees),(\"Random Forest\",rf_classifier),(\"LogisticRegression\",classifier),(\"SVM\",sv)], \n",
        "                           voting='hard', \n",
        "                           n_jobs=-1)\n",
        "\n",
        "votingC = votingC.fit(X_train, np.ravel(y_train))"
      ],
      "execution_count": 0,
      "outputs": []
    },
    {
      "cell_type": "code",
      "metadata": {
        "id": "UUmQSTeZztzi",
        "colab_type": "code",
        "outputId": "47c2bb15-e788-4aa4-d515-5e1ebcd6e13e",
        "colab": {
          "base_uri": "https://localhost:8080/",
          "height": 35
        }
      },
      "source": [
        "votingC.score(X_test, y_test)"
      ],
      "execution_count": 0,
      "outputs": [
        {
          "output_type": "execute_result",
          "data": {
            "text/plain": [
              "0.9539639122954074"
            ]
          },
          "metadata": {
            "tags": []
          },
          "execution_count": 170
        }
      ]
    }
  ]
}